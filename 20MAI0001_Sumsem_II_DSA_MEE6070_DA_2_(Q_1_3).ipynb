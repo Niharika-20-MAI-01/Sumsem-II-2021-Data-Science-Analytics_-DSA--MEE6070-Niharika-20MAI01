{
  "nbformat": 4,
  "nbformat_minor": 0,
  "metadata": {
    "colab": {
      "name": "20MAI0001_Sumsem-II_DSA-MEE6070_DA-2-(Q_1-3).ipynb",
      "provenance": [],
      "collapsed_sections": [],
      "authorship_tag": "ABX9TyMCQtYJeBa4pNzyUup+MPPZ",
      "include_colab_link": true
    },
    "kernelspec": {
      "name": "python3",
      "display_name": "Python 3"
    },
    "language_info": {
      "name": "python"
    }
  },
  "cells": [
    {
      "cell_type": "markdown",
      "metadata": {
        "id": "view-in-github",
        "colab_type": "text"
      },
      "source": [
        "<a href=\"https://colab.research.google.com/github/Niharika-20-MAI-01/Sumsem-II-2021-Data-Science-Analytics_-DSA--MEE6070-Niharika-20MAI01/blob/main/20MAI0001_Sumsem_II_DSA_MEE6070_DA_2_(Q_1_3).ipynb\" target=\"_parent\"><img src=\"https://colab.research.google.com/assets/colab-badge.svg\" alt=\"Open In Colab\"/></a>"
      ]
    },
    {
      "cell_type": "markdown",
      "metadata": {
        "id": "MzvtPJG6abbz"
      },
      "source": [
        "Data Science and Analytics - ( MEE 6070 ) - Digital Assignment -2 : Q-(1-3)\n",
        "\n",
        "Submitted By: 20MAI0001 - NIHARIKA MAITRA\n",
        "\n",
        "git Repo Link for notebook :\n",
        "\n",
        "https://github.com/Niharika-20-MAI-01/Sumsem-II-2021-Data-Science-Analytics_-DSA--MEE6070-Niharika-20MAI01/blob/main/20MAI0001_Sumsem_II_DSA_MEE6070_DA_2_(Q_1_3).ipynb\n",
        "\n",
        "https://github.com/Niharika-20-MAI-01/Sumsem-II-2021-Data-Science-Analytics_-DSA--MEE6070-Niharika-20MAI01/blob/main/20MAI0001_Sumsem_II_DSA_MEE6070_DA_2_(Q_1_3).ipynb\n",
        "\n",
        "git Repo Link For datasets used :\n",
        "\n",
        "https://github.com/Niharika-20-MAI-01/Sumsem-II-2021-Data-Science-Analytics_-DSA--MEE6070-Niharika-20MAI01\n"
      ]
    },
    {
      "cell_type": "markdown",
      "metadata": {
        "id": "P0U0Yi7vabWF"
      },
      "source": [
        ""
      ]
    },
    {
      "cell_type": "markdown",
      "metadata": {
        "id": "v65RetjdbwXd"
      },
      "source": [
        "#1.\tDetermine the Eigen values and vectors for the following 2 x 2 and 3x3 matrix: Verify the answer using the Python computing environment\n"
      ]
    },
    {
      "cell_type": "markdown",
      "metadata": {
        "id": "1_gvqLVqcKDy"
      },
      "source": [
        "#Computing Eigenvalues & Eigenvectors in Python for 2x2 Matrix : ([[10, 4],[3, 8]])"
      ]
    },
    {
      "cell_type": "code",
      "metadata": {
        "colab": {
          "base_uri": "https://localhost:8080/"
        },
        "id": "Rz0zc4F4aaJJ",
        "outputId": "9f40c041-0745-4883-f093-d24c3f5972da"
      },
      "source": [
        "import numpy as np\n",
        "from sklearn.preprocessing import StandardScaler\n",
        "from numpy.linalg import eig\n",
        "\n",
        "A = np.array([[10, 4],[3, 8]])\n",
        "print(A)"
      ],
      "execution_count": 231,
      "outputs": [
        {
          "output_type": "stream",
          "text": [
            "[[10  4]\n",
            " [ 3  8]]\n"
          ],
          "name": "stdout"
        }
      ]
    },
    {
      "cell_type": "markdown",
      "metadata": {
        "id": "LuSU-YYwf31z"
      },
      "source": [
        "Using 'eig' Function  of numpy.linalg Module :"
      ]
    },
    {
      "cell_type": "code",
      "metadata": {
        "id": "hhTd82zeY3um"
      },
      "source": [
        "vA, wA = np.linalg.eig(A)"
      ],
      "execution_count": 232,
      "outputs": []
    },
    {
      "cell_type": "code",
      "metadata": {
        "id": "PNa43wepfJaV"
      },
      "source": [
        "# Scaling the features\n",
        "sc = StandardScaler()\n",
        "A_scaled = sc.fit_transform(A)"
      ],
      "execution_count": 233,
      "outputs": []
    },
    {
      "cell_type": "code",
      "metadata": {
        "id": "mCjYuouKab-r"
      },
      "source": [
        "# To Calculate covariance matrix :\n",
        "cov_matrix_A = np.cov( A_scaled.T, A_scaled )\n",
        "\n",
        "# To Calculate Eigenvalues and Eigenmatrix\n",
        "eigenvalues_A, eigenvectors_A = eig(cov_matrix_A)"
      ],
      "execution_count": 234,
      "outputs": []
    },
    {
      "cell_type": "markdown",
      "metadata": {
        "id": "VIMAZB8SdHQb"
      },
      "source": [
        "#Eigenvalues :"
      ]
    },
    {
      "cell_type": "code",
      "metadata": {
        "colab": {
          "base_uri": "https://localhost:8080/"
        },
        "id": "4gJP2tUzdZrG",
        "outputId": "bef81add-1095-41ff-8b71-9b88932495bd"
      },
      "source": [
        "vA"
      ],
      "execution_count": 235,
      "outputs": [
        {
          "output_type": "execute_result",
          "data": {
            "text/plain": [
              "array([12.60555128,  5.39444872])"
            ]
          },
          "metadata": {
            "tags": []
          },
          "execution_count": 235
        }
      ]
    },
    {
      "cell_type": "code",
      "metadata": {
        "colab": {
          "base_uri": "https://localhost:8080/"
        },
        "id": "AMpe1OsaacCP",
        "outputId": "9e097508-aa58-4669-a33c-00eea94c0c85"
      },
      "source": [
        "eigenvalues_A"
      ],
      "execution_count": 236,
      "outputs": [
        {
          "output_type": "execute_result",
          "data": {
            "text/plain": [
              "array([0.00000000e+00, 8.00000000e+00, 5.61462886e-32, 0.00000000e+00])"
            ]
          },
          "metadata": {
            "tags": []
          },
          "execution_count": 236
        }
      ]
    },
    {
      "cell_type": "markdown",
      "metadata": {
        "id": "25srSRE1dds8"
      },
      "source": [
        "#Eigenvectors :"
      ]
    },
    {
      "cell_type": "code",
      "metadata": {
        "colab": {
          "base_uri": "https://localhost:8080/"
        },
        "id": "e0fftA-mdoGd",
        "outputId": "cb5fab8d-82e2-4b07-b206-11b03c0cec1e"
      },
      "source": [
        "wA"
      ],
      "execution_count": 237,
      "outputs": [
        {
          "output_type": "execute_result",
          "data": {
            "text/plain": [
              "array([[ 0.83791185, -0.65572799],\n",
              "       [ 0.54580557,  0.75499722]])"
            ]
          },
          "metadata": {
            "tags": []
          },
          "execution_count": 237
        }
      ]
    },
    {
      "cell_type": "code",
      "metadata": {
        "colab": {
          "base_uri": "https://localhost:8080/"
        },
        "id": "3SWo9Yd5acEp",
        "outputId": "a585e3b7-b0b1-4d7e-aacf-55e2b6e2365c"
      },
      "source": [
        "eigenvectors_A"
      ],
      "execution_count": 238,
      "outputs": [
        {
          "output_type": "execute_result",
          "data": {
            "text/plain": [
              "array([[-0.8660254 ,  0.5       , -0.76811693, -0.8660254 ],\n",
              "       [-0.28867513, -0.5       , -0.63315833, -0.28867513],\n",
              "       [ 0.28867513,  0.5       ,  0.0674793 ,  0.28867513],\n",
              "       [-0.28867513, -0.5       , -0.0674793 , -0.28867513]])"
            ]
          },
          "metadata": {
            "tags": []
          },
          "execution_count": 238
        }
      ]
    },
    {
      "cell_type": "markdown",
      "metadata": {
        "id": "XHDsW5qghzFg"
      },
      "source": [
        "Compairing LHS and RHS of Ax=λx (where A represents the transformation matrix , x represents eigenvectors and λ represents eigenvalues ) to check the correctness of above computed EigenValues and EigenVectors :"
      ]
    },
    {
      "cell_type": "code",
      "metadata": {
        "colab": {
          "base_uri": "https://localhost:8080/"
        },
        "id": "yxC6FCeEhxsb",
        "outputId": "e2b40b9c-fc33-4f75-f9c8-7fb42d883794"
      },
      "source": [
        "# LHS\n",
        "cov_matrix_A.dot(eigenvectors_A[:, 0])\n"
      ],
      "execution_count": 239,
      "outputs": [
        {
          "output_type": "execute_result",
          "data": {
            "text/plain": [
              "array([-2.22044605e-16,  2.22044605e-16, -2.22044605e-16,  2.22044605e-16])"
            ]
          },
          "metadata": {
            "tags": []
          },
          "execution_count": 239
        }
      ]
    },
    {
      "cell_type": "code",
      "metadata": {
        "colab": {
          "base_uri": "https://localhost:8080/"
        },
        "id": "YLTG8_fChx5Q",
        "outputId": "734e8724-bb72-4268-d450-bcb827d87dd6"
      },
      "source": [
        "# RHS\n",
        "eigenvalues_A[0]*eigenvectors_A[:, 0]"
      ],
      "execution_count": 240,
      "outputs": [
        {
          "output_type": "execute_result",
          "data": {
            "text/plain": [
              "array([-0., -0.,  0., -0.])"
            ]
          },
          "metadata": {
            "tags": []
          },
          "execution_count": 240
        }
      ]
    },
    {
      "cell_type": "code",
      "metadata": {
        "id": "iYmKRzxpVIom"
      },
      "source": [
        ""
      ],
      "execution_count": 240,
      "outputs": []
    },
    {
      "cell_type": "markdown",
      "metadata": {
        "id": "aO5v5p-1fUR0"
      },
      "source": [
        "#Computing Eigenvalues & Eigenvectors in Python for 3x3 Matrix : ([[1, 2, 3],[4, 2, 2], [2, 3, 4]])"
      ]
    },
    {
      "cell_type": "code",
      "metadata": {
        "colab": {
          "base_uri": "https://localhost:8080/"
        },
        "id": "_noNg_jhacKA",
        "outputId": "cfc2b05e-ee45-416b-c5a9-5bb592649970"
      },
      "source": [
        "import numpy as np\n",
        "from sklearn.preprocessing import StandardScaler\n",
        "from numpy.linalg import eig\n",
        "\n",
        "B = np.array([[1, 2, 3],[4, 2, 2], [2, 3, 4]])\n",
        "\n",
        "print(B)"
      ],
      "execution_count": 241,
      "outputs": [
        {
          "output_type": "stream",
          "text": [
            "[[1 2 3]\n",
            " [4 2 2]\n",
            " [2 3 4]]\n"
          ],
          "name": "stdout"
        }
      ]
    },
    {
      "cell_type": "markdown",
      "metadata": {
        "id": "VubrC8ssgH_s"
      },
      "source": [
        "Using 'eig' Function  of numpy.linalg Module :"
      ]
    },
    {
      "cell_type": "code",
      "metadata": {
        "id": "7mEDwDLbdxlQ"
      },
      "source": [
        "vB, wB = np.linalg.eig(B)"
      ],
      "execution_count": 242,
      "outputs": []
    },
    {
      "cell_type": "code",
      "metadata": {
        "id": "-yB5mmZiacMY"
      },
      "source": [
        "# Scaling the features\n",
        "sc = StandardScaler()\n",
        "B_scaled = sc.fit_transform(B)"
      ],
      "execution_count": 243,
      "outputs": []
    },
    {
      "cell_type": "code",
      "metadata": {
        "id": "y4OVLDD3acO_"
      },
      "source": [
        "# To Calculate covariance matrix :\n",
        "cov_matrix_B = np.cov(B_scaled.T, B_scaled)\n",
        "\n",
        "# To Calculate Eigenvalues and Eigenmatrix\n",
        "eigenvalues_B, eigenvectors_B = eig(cov_matrix_B)"
      ],
      "execution_count": 244,
      "outputs": []
    },
    {
      "cell_type": "markdown",
      "metadata": {
        "id": "8kbRVzUvhPDm"
      },
      "source": [
        "#Eigenvalues :"
      ]
    },
    {
      "cell_type": "code",
      "metadata": {
        "colab": {
          "base_uri": "https://localhost:8080/"
        },
        "id": "VvwxkgrZd4rr",
        "outputId": "0c5dd1e7-913d-4ea8-f499-4e7943db1c8d"
      },
      "source": [
        "vB"
      ],
      "execution_count": 245,
      "outputs": [
        {
          "output_type": "execute_result",
          "data": {
            "text/plain": [
              "array([ 7.80190049+0.j        , -0.40095024+0.30917099j,\n",
              "       -0.40095024-0.30917099j])"
            ]
          },
          "metadata": {
            "tags": []
          },
          "execution_count": 245
        }
      ]
    },
    {
      "cell_type": "code",
      "metadata": {
        "colab": {
          "base_uri": "https://localhost:8080/"
        },
        "id": "bR7LEC1LgZfa",
        "outputId": "4cf300d9-c867-4f09-e73f-709ca26502b8"
      },
      "source": [
        "eigenvalues_B"
      ],
      "execution_count": 246,
      "outputs": [
        {
          "output_type": "execute_result",
          "data": {
            "text/plain": [
              "array([-4.44089210e-16,  3.32734491e+00,  4.15026559e+00, -7.51247600e-17,\n",
              "        2.01254979e-16, -6.24121129e-33])"
            ]
          },
          "metadata": {
            "tags": []
          },
          "execution_count": 246
        }
      ]
    },
    {
      "cell_type": "markdown",
      "metadata": {
        "id": "OAbCE6XMhVhB"
      },
      "source": [
        "#Eigenvectors :"
      ]
    },
    {
      "cell_type": "code",
      "metadata": {
        "colab": {
          "base_uri": "https://localhost:8080/"
        },
        "id": "GDPKugeAePzE",
        "outputId": "97fcd9d4-6080-43e2-a5b7-b843fbaa9ada"
      },
      "source": [
        "wB"
      ],
      "execution_count": 247,
      "outputs": [
        {
          "output_type": "execute_result",
          "data": {
            "text/plain": [
              "array([[ 0.46669544+0.j        ,  0.28618552-0.10414264j,\n",
              "         0.28618552+0.10414264j],\n",
              "       [ 0.55822404+0.j        , -0.84198701+0.j        ,\n",
              "        -0.84198701-0.j        ],\n",
              "       [ 0.68598928+0.j        ,  0.43841341+0.07812631j,\n",
              "         0.43841341-0.07812631j]])"
            ]
          },
          "metadata": {
            "tags": []
          },
          "execution_count": 247
        }
      ]
    },
    {
      "cell_type": "code",
      "metadata": {
        "colab": {
          "base_uri": "https://localhost:8080/"
        },
        "id": "_TUdc2RngZhz",
        "outputId": "13ff0782-b316-4039-90ce-a0edb4e77964"
      },
      "source": [
        "eigenvectors_B"
      ],
      "execution_count": 248,
      "outputs": [
        {
          "output_type": "execute_result",
          "data": {
            "text/plain": [
              "array([[-0.7514603 , -0.61043073,  0.2503632 , -0.08804632,  0.01365807,\n",
              "         0.15107229],\n",
              "       [-0.15369972,  0.38993645,  0.48940883,  0.56299101,  0.49436149,\n",
              "         0.25316261],\n",
              "       [-0.41327404,  0.61098934,  0.24926839, -0.28110887, -0.57417673,\n",
              "        -0.05663788],\n",
              "       [ 0.01844977,  0.08247983,  0.25647734, -0.62717923,  0.43886169,\n",
              "         0.42204217],\n",
              "       [-0.35590758,  0.1730164 , -0.64640447,  0.25775012,  0.04214312,\n",
              "         0.69589614],\n",
              "       [ 0.33745781, -0.25549622,  0.38992714,  0.3694291 , -0.48100481,\n",
              "         0.49748064]])"
            ]
          },
          "metadata": {
            "tags": []
          },
          "execution_count": 248
        }
      ]
    },
    {
      "cell_type": "markdown",
      "metadata": {
        "id": "TGE99PxXiSpb"
      },
      "source": [
        "Compairing LHS and RHS of Ax=λx (where A represents the transformation matrix , x represents eigenvectors and λ represents eigenvalues ) to check the correctness of above computed EigenValues and EigenVectors :"
      ]
    },
    {
      "cell_type": "code",
      "metadata": {
        "colab": {
          "base_uri": "https://localhost:8080/"
        },
        "id": "60aEoky9gZkU",
        "outputId": "acbfbe15-0c74-4152-8373-8675baa3f7fb"
      },
      "source": [
        "# LHS\n",
        "cov_matrix_B.dot(eigenvectors_B[:, 0])\n"
      ],
      "execution_count": 249,
      "outputs": [
        {
          "output_type": "execute_result",
          "data": {
            "text/plain": [
              "array([-4.44089210e-16,  1.11022302e-16,  4.16333634e-17,  0.00000000e+00,\n",
              "       -2.22044605e-16, -1.11022302e-16])"
            ]
          },
          "metadata": {
            "tags": []
          },
          "execution_count": 249
        }
      ]
    },
    {
      "cell_type": "code",
      "metadata": {
        "colab": {
          "base_uri": "https://localhost:8080/"
        },
        "id": "wJipMd5BgZml",
        "outputId": "96d096be-4816-4336-b20a-5f51271ea674"
      },
      "source": [
        "# RHS\n",
        "eigenvalues_B[0]*eigenvectors_B[:, 0]"
      ],
      "execution_count": 250,
      "outputs": [
        {
          "output_type": "execute_result",
          "data": {
            "text/plain": [
              "array([ 3.33715412e-16,  6.82563854e-17,  1.83530544e-16, -8.19334189e-18,\n",
              "        1.58054716e-16, -1.49861374e-16])"
            ]
          },
          "metadata": {
            "tags": []
          },
          "execution_count": 250
        }
      ]
    },
    {
      "cell_type": "code",
      "metadata": {
        "id": "3fGb-hZegZpC"
      },
      "source": [
        ""
      ],
      "execution_count": 250,
      "outputs": []
    },
    {
      "cell_type": "markdown",
      "metadata": {
        "id": "_MCczHYbFLzw"
      },
      "source": [
        "#2.\tDetermine the covariance matrix, variance, covariance, correlation coefficient for the following data set and comment the obtained values : Verify the answer using the Python computing environment\n",
        " \n",
        "#X :\t2\t4\t6\t8\t10\t12\t14\n",
        "#Y :\t1.1\t3.2\t5.7\t8.1\t9.9\t11.5\t13.1\n"
      ]
    },
    {
      "cell_type": "markdown",
      "metadata": {
        "id": "muOTEeNDFLVG"
      },
      "source": [
        "#To Find the Mean of X and Y :"
      ]
    },
    {
      "cell_type": "code",
      "metadata": {
        "id": "6fOinLaJifRf"
      },
      "source": [
        "import numpy as np\n",
        "\n",
        "x = np.array([2, 4, 6, 8, 10, 12, 14])\n",
        "y = np.array([1.1,3.2,5.7,8.1,9.9,11.5,13.1])"
      ],
      "execution_count": 251,
      "outputs": []
    },
    {
      "cell_type": "markdown",
      "metadata": {
        "id": "t5zsHVHeHiLN"
      },
      "source": [
        "Mean of X:"
      ]
    },
    {
      "cell_type": "code",
      "metadata": {
        "colab": {
          "base_uri": "https://localhost:8080/"
        },
        "id": "mnwCnk0mifWw",
        "outputId": "e4b48b03-53e9-4284-d394-4875fbe2e081"
      },
      "source": [
        "x.mean()"
      ],
      "execution_count": 252,
      "outputs": [
        {
          "output_type": "execute_result",
          "data": {
            "text/plain": [
              "8.0"
            ]
          },
          "metadata": {
            "tags": []
          },
          "execution_count": 252
        }
      ]
    },
    {
      "cell_type": "markdown",
      "metadata": {
        "id": "JMSjZFsvHlCr"
      },
      "source": [
        "Mean of Y:"
      ]
    },
    {
      "cell_type": "code",
      "metadata": {
        "colab": {
          "base_uri": "https://localhost:8080/"
        },
        "id": "D3dM0dMYifZk",
        "outputId": "13dc4d94-8843-4c87-8ab0-f57768fddf4c"
      },
      "source": [
        "y.mean()"
      ],
      "execution_count": 253,
      "outputs": [
        {
          "output_type": "execute_result",
          "data": {
            "text/plain": [
              "7.514285714285714"
            ]
          },
          "metadata": {
            "tags": []
          },
          "execution_count": 253
        }
      ]
    },
    {
      "cell_type": "markdown",
      "metadata": {
        "id": "CzHrqTW_H4WR"
      },
      "source": [
        "#To Find the Variance and Standard Deviation of X and Y :"
      ]
    },
    {
      "cell_type": "code",
      "metadata": {
        "id": "3Nsd2emBifcg"
      },
      "source": [
        "import numpy as np\n",
        "\n",
        "x = np.array([2, 4, 6, 8, 10, 12, 14])\n",
        "y = np.array([1.1,3.2,5.7,8.1,9.9,11.5,13.1])"
      ],
      "execution_count": 254,
      "outputs": []
    },
    {
      "cell_type": "markdown",
      "metadata": {
        "id": "VXmSNugRL6zj"
      },
      "source": [
        "Variance of X :"
      ]
    },
    {
      "cell_type": "code",
      "metadata": {
        "colab": {
          "base_uri": "https://localhost:8080/"
        },
        "id": "2rdWRztUH_RE",
        "outputId": "f5776195-cd8a-4881-e667-eaea542a4289"
      },
      "source": [
        "x.var()"
      ],
      "execution_count": 255,
      "outputs": [
        {
          "output_type": "execute_result",
          "data": {
            "text/plain": [
              "16.0"
            ]
          },
          "metadata": {
            "tags": []
          },
          "execution_count": 255
        }
      ]
    },
    {
      "cell_type": "markdown",
      "metadata": {
        "id": "wNQSFzXcL_pp"
      },
      "source": [
        "Standard Deviation of X :"
      ]
    },
    {
      "cell_type": "code",
      "metadata": {
        "colab": {
          "base_uri": "https://localhost:8080/"
        },
        "id": "QKejrtV_H_Tj",
        "outputId": "3b25fd1d-5126-42b0-c0ff-1a9f104b46be"
      },
      "source": [
        "x.std()"
      ],
      "execution_count": 256,
      "outputs": [
        {
          "output_type": "execute_result",
          "data": {
            "text/plain": [
              "4.0"
            ]
          },
          "metadata": {
            "tags": []
          },
          "execution_count": 256
        }
      ]
    },
    {
      "cell_type": "markdown",
      "metadata": {
        "id": "imLXzKrEMARv"
      },
      "source": [
        "Variance of Y :"
      ]
    },
    {
      "cell_type": "code",
      "metadata": {
        "colab": {
          "base_uri": "https://localhost:8080/"
        },
        "id": "_XWox2EDH_WP",
        "outputId": "c549a471-8034-4b3d-8e9c-5d9fe44c0666"
      },
      "source": [
        "y.var()"
      ],
      "execution_count": 257,
      "outputs": [
        {
          "output_type": "execute_result",
          "data": {
            "text/plain": [
              "16.59551020408163"
            ]
          },
          "metadata": {
            "tags": []
          },
          "execution_count": 257
        }
      ]
    },
    {
      "cell_type": "markdown",
      "metadata": {
        "id": "uLMMC7bgNF2M"
      },
      "source": [
        "Standard Deviation of Y :"
      ]
    },
    {
      "cell_type": "code",
      "metadata": {
        "colab": {
          "base_uri": "https://localhost:8080/"
        },
        "id": "kMs4_3yqH_Zj",
        "outputId": "a2b6442e-f456-456f-da54-ec2833e21f2a"
      },
      "source": [
        "y.std()"
      ],
      "execution_count": 258,
      "outputs": [
        {
          "output_type": "execute_result",
          "data": {
            "text/plain": [
              "4.073758731697501"
            ]
          },
          "metadata": {
            "tags": []
          },
          "execution_count": 258
        }
      ]
    },
    {
      "cell_type": "code",
      "metadata": {
        "id": "I4cVbYLqaYhd"
      },
      "source": [
        ""
      ],
      "execution_count": 258,
      "outputs": []
    },
    {
      "cell_type": "markdown",
      "metadata": {
        "id": "NT8lEoF9N_U2"
      },
      "source": [
        "#To Calculate and Compute the Co-variance between  X and Y :"
      ]
    },
    {
      "cell_type": "code",
      "metadata": {
        "id": "RFUpLV8YNK7i"
      },
      "source": [
        "def calcCov(x, y):\n",
        " \n",
        "    mean_x, mean_y = x.mean(), y.mean()\n",
        "    n = len(x)\n",
        " \n",
        "    return sum((x - mean_x) * (y - mean_y)) / n"
      ],
      "execution_count": 259,
      "outputs": []
    },
    {
      "cell_type": "code",
      "metadata": {
        "id": "rrjxnXC8NK-K"
      },
      "source": [
        "import numpy as np\n",
        "\n",
        "x = np.array([2,4,6,8,10,12,14])\n",
        "y = np.array([1.1,3.2,5.7,8.1,9.9,11.5,13.1])\n"
      ],
      "execution_count": 260,
      "outputs": []
    },
    {
      "cell_type": "markdown",
      "metadata": {
        "id": "mNzFhVNQPaTv"
      },
      "source": [
        "The covariance between x and Y :"
      ]
    },
    {
      "cell_type": "code",
      "metadata": {
        "colab": {
          "base_uri": "https://localhost:8080/"
        },
        "id": "8FpB5GJuPWm6",
        "outputId": "edad5693-7b7b-4096-b83e-c09ca07c8a32"
      },
      "source": [
        "calcCov(x,y)"
      ],
      "execution_count": 261,
      "outputs": [
        {
          "output_type": "execute_result",
          "data": {
            "text/plain": [
              "16.228571428571428"
            ]
          },
          "metadata": {
            "tags": []
          },
          "execution_count": 261
        }
      ]
    },
    {
      "cell_type": "code",
      "metadata": {
        "id": "epkoqiZ6Ujph"
      },
      "source": [
        ""
      ],
      "execution_count": 261,
      "outputs": []
    },
    {
      "cell_type": "markdown",
      "metadata": {
        "id": "ZctewzTQSMJS"
      },
      "source": [
        "#To Calculate and Compute the Covariance Matrix between X and Y :"
      ]
    },
    {
      "cell_type": "code",
      "metadata": {
        "id": "06cf1mkJYHnX"
      },
      "source": [
        "data =np.array([[2,4,6,8,10,12,14], [1.1,3.2,5.7,8.1,9.9,11.5,13.1]])"
      ],
      "execution_count": 262,
      "outputs": []
    },
    {
      "cell_type": "code",
      "metadata": {
        "id": "bQFkrZdySLg7"
      },
      "source": [
        "# Function for Calculating the Covariance Matrix between X and Y :\n",
        "def covMat(data):\n",
        "    rows, cols = data.shape\n",
        "    cov_mat = np.zeros((cols, cols))\n",
        " \n",
        "    for i in range(cols):\n",
        "        for j in range(cols):\n",
        "            # storing the value in the matrix\n",
        "            cov_mat[i][j] = calcCov(data[:, i], data[:, j])\n",
        "\n",
        "    return cov_mat\n"
      ],
      "execution_count": 263,
      "outputs": []
    },
    {
      "cell_type": "markdown",
      "metadata": {
        "id": "ypqFfp7iU-8O"
      },
      "source": [
        "#Calculating the Covariance Matrix between X and Y :"
      ]
    },
    {
      "cell_type": "code",
      "metadata": {
        "colab": {
          "base_uri": "https://localhost:8080/"
        },
        "id": "ape2Z1zoSLnB",
        "outputId": "45e6e4de-0325-4df4-d08b-aa5b412a1238"
      },
      "source": [
        "covMat(data)"
      ],
      "execution_count": 264,
      "outputs": [
        {
          "output_type": "execute_result",
          "data": {
            "text/plain": [
              "array([[ 0.2025,  0.18  ,  0.0675, -0.0225,  0.0225,  0.1125,  0.2025],\n",
              "       [ 0.18  ,  0.16  ,  0.06  , -0.02  ,  0.02  ,  0.1   ,  0.18  ],\n",
              "       [ 0.0675,  0.06  ,  0.0225, -0.0075,  0.0075,  0.0375,  0.0675],\n",
              "       [-0.0225, -0.02  , -0.0075,  0.0025, -0.0025, -0.0125, -0.0225],\n",
              "       [ 0.0225,  0.02  ,  0.0075, -0.0025,  0.0025,  0.0125,  0.0225],\n",
              "       [ 0.1125,  0.1   ,  0.0375, -0.0125,  0.0125,  0.0625,  0.1125],\n",
              "       [ 0.2025,  0.18  ,  0.0675, -0.0225,  0.0225,  0.1125,  0.2025]])"
            ]
          },
          "metadata": {
            "tags": []
          },
          "execution_count": 264
        }
      ]
    },
    {
      "cell_type": "markdown",
      "metadata": {
        "id": "JGOL-pDTTANA"
      },
      "source": [
        "Calculating the Covariance Matrix using cov() in  Numpy :"
      ]
    },
    {
      "cell_type": "code",
      "metadata": {
        "colab": {
          "base_uri": "https://localhost:8080/"
        },
        "id": "sYQRKmHNSLqH",
        "outputId": "52d8fc14-075d-48e9-c86a-6e9044ed7b37"
      },
      "source": [
        "np.cov(data,rowvar=False)"
      ],
      "execution_count": 265,
      "outputs": [
        {
          "output_type": "execute_result",
          "data": {
            "text/plain": [
              "array([[ 0.405,  0.36 ,  0.135, -0.045,  0.045,  0.225,  0.405],\n",
              "       [ 0.36 ,  0.32 ,  0.12 , -0.04 ,  0.04 ,  0.2  ,  0.36 ],\n",
              "       [ 0.135,  0.12 ,  0.045, -0.015,  0.015,  0.075,  0.135],\n",
              "       [-0.045, -0.04 , -0.015,  0.005, -0.005, -0.025, -0.045],\n",
              "       [ 0.045,  0.04 ,  0.015, -0.005,  0.005,  0.025,  0.045],\n",
              "       [ 0.225,  0.2  ,  0.075, -0.025,  0.025,  0.125,  0.225],\n",
              "       [ 0.405,  0.36 ,  0.135, -0.045,  0.045,  0.225,  0.405]])"
            ]
          },
          "metadata": {
            "tags": []
          },
          "execution_count": 265
        }
      ]
    },
    {
      "cell_type": "code",
      "metadata": {
        "id": "SO6v_u1ASLsh"
      },
      "source": [
        ""
      ],
      "execution_count": 265,
      "outputs": []
    },
    {
      "cell_type": "markdown",
      "metadata": {
        "id": "zvsV8agGP2Ga"
      },
      "source": [
        "#To Calculate and Compute the Correlation Coefficient and the Correlation Matrix between X and Y :"
      ]
    },
    {
      "cell_type": "code",
      "metadata": {
        "id": "FrPbaS6ZNLD0"
      },
      "source": [
        "#data =np.array([[2,4,6,8,10,12,14], [1.1,3.2,5.7,8.1,9.9,11.5,13.1]])"
      ],
      "execution_count": 266,
      "outputs": []
    },
    {
      "cell_type": "markdown",
      "metadata": {
        "id": "Ff500ZSmXNlD"
      },
      "source": [
        "#Calculating the Correlation Coefficient between X and Y :"
      ]
    },
    {
      "cell_type": "code",
      "metadata": {
        "id": "D5GSILFoYboY"
      },
      "source": [
        "def calcCov(x, y):\n",
        " \n",
        "    mean_x, mean_y = x.mean(), y.mean()\n",
        "    n = len(x)\n",
        " \n",
        "    return sum((x - mean_x) * (y - mean_y)) / n"
      ],
      "execution_count": 267,
      "outputs": []
    },
    {
      "cell_type": "code",
      "metadata": {
        "id": "JjjdZeQLV0MS"
      },
      "source": [
        "stdev = (x.std()*y.std())"
      ],
      "execution_count": 268,
      "outputs": []
    },
    {
      "cell_type": "code",
      "metadata": {
        "id": "PzQlYhmvWvJD"
      },
      "source": [
        "Corr_Coef = calcCov(x, y) / stdev"
      ],
      "execution_count": 269,
      "outputs": []
    },
    {
      "cell_type": "code",
      "metadata": {
        "colab": {
          "base_uri": "https://localhost:8080/"
        },
        "id": "2GhhrqIeXDu9",
        "outputId": "d45c25b0-29f4-4980-aae1-f1fe4fb4f97e"
      },
      "source": [
        "Corr_Coef"
      ],
      "execution_count": 270,
      "outputs": [
        {
          "output_type": "execute_result",
          "data": {
            "text/plain": [
              "0.9959212423589652"
            ]
          },
          "metadata": {
            "tags": []
          },
          "execution_count": 270
        }
      ]
    },
    {
      "cell_type": "code",
      "metadata": {
        "id": "B05p0uhhX-ZK"
      },
      "source": [
        ""
      ],
      "execution_count": 270,
      "outputs": []
    },
    {
      "cell_type": "code",
      "metadata": {
        "id": "cpjLNPtoXqLk"
      },
      "source": [
        "# Function for Calculating the Correlation Matrix between X and Y :\n",
        "def corrMat(data):\n",
        "\trows, cols = data.shape\n",
        "\tcorr_mat = np.zeros((cols, cols))\n",
        " \n",
        "\tfor i in range(cols):\n",
        "\t\tfor j in range(cols):\n",
        "\t\t\tx, y = data[:, i], data[:, j]\n",
        "\t\t\t\n",
        "\t\t\tcorr_mat[i][j] = calcCov(x, y) / (x.std() * y.std())\n",
        "   \n",
        "\treturn corr_mat"
      ],
      "execution_count": 271,
      "outputs": []
    },
    {
      "cell_type": "markdown",
      "metadata": {
        "id": "rNAVC3mRRysn"
      },
      "source": [
        "#Calculating the Correlation Matrix between X and Y :"
      ]
    },
    {
      "cell_type": "code",
      "metadata": {
        "colab": {
          "base_uri": "https://localhost:8080/"
        },
        "id": "NT4To0FGNLGi",
        "outputId": "c240d68c-8c41-43f9-f29f-7697de99bfd0"
      },
      "source": [
        "corrMat(data)"
      ],
      "execution_count": 272,
      "outputs": [
        {
          "output_type": "execute_result",
          "data": {
            "text/plain": [
              "array([[ 1.,  1.,  1., -1.,  1.,  1.,  1.],\n",
              "       [ 1.,  1.,  1., -1.,  1.,  1.,  1.],\n",
              "       [ 1.,  1.,  1., -1.,  1.,  1.,  1.],\n",
              "       [-1., -1., -1.,  1., -1., -1., -1.],\n",
              "       [ 1.,  1.,  1., -1.,  1.,  1.,  1.],\n",
              "       [ 1.,  1.,  1., -1.,  1.,  1.,  1.],\n",
              "       [ 1.,  1.,  1., -1.,  1.,  1.,  1.]])"
            ]
          },
          "metadata": {
            "tags": []
          },
          "execution_count": 272
        }
      ]
    },
    {
      "cell_type": "markdown",
      "metadata": {
        "id": "BEE6s1b2TO4f"
      },
      "source": [
        "Calculating the Correlation Matrix using corrcoef() in Numpy :"
      ]
    },
    {
      "cell_type": "code",
      "metadata": {
        "colab": {
          "base_uri": "https://localhost:8080/"
        },
        "id": "wv4cLiAeNLJa",
        "outputId": "2ad3832b-0aeb-4ec1-ca9a-82cf0fb07f02"
      },
      "source": [
        "np.corrcoef(data,rowvar=False)"
      ],
      "execution_count": 273,
      "outputs": [
        {
          "output_type": "execute_result",
          "data": {
            "text/plain": [
              "array([[ 1.,  1.,  1., -1.,  1.,  1.,  1.],\n",
              "       [ 1.,  1.,  1., -1.,  1.,  1.,  1.],\n",
              "       [ 1.,  1.,  1., -1.,  1.,  1.,  1.],\n",
              "       [-1., -1., -1.,  1., -1., -1., -1.],\n",
              "       [ 1.,  1.,  1., -1.,  1.,  1.,  1.],\n",
              "       [ 1.,  1.,  1., -1.,  1.,  1.,  1.],\n",
              "       [ 1.,  1.,  1., -1.,  1.,  1.,  1.]])"
            ]
          },
          "metadata": {
            "tags": []
          },
          "execution_count": 273
        }
      ]
    },
    {
      "cell_type": "code",
      "metadata": {
        "id": "wl6DJkq7NLLT"
      },
      "source": [
        ""
      ],
      "execution_count": 273,
      "outputs": []
    },
    {
      "cell_type": "markdown",
      "metadata": {
        "id": "gA304E7ZG2-c"
      },
      "source": [
        "#3.\tFind the least squares solution for the underlying function with two unknowns  y = β1 x1 + β2 x2 using covariance matrix of the following data:"
      ]
    },
    {
      "cell_type": "markdown",
      "metadata": {
        "id": "Ah-5uTZfG_5a"
      },
      "source": [
        "![image.png](data:image/png;base64,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)\n"
      ]
    },
    {
      "cell_type": "markdown",
      "metadata": {
        "id": "FDhLhZuFKthz"
      },
      "source": [
        ""
      ]
    },
    {
      "cell_type": "markdown",
      "metadata": {
        "id": "BTLhZZzAJsWX"
      },
      "source": [
        "#To Compute the Least Squares Solution for the function : y = β1 x1 + β2 x2 , by deriving the Values of the two unknowns (β1,β2) of the function by using the Covariance Matrix Method Implementation :-"
      ]
    },
    {
      "cell_type": "markdown",
      "metadata": {
        "id": "NjkYS2AgKzsQ"
      },
      "source": [
        "Given Input Matrix X:"
      ]
    },
    {
      "cell_type": "code",
      "metadata": {
        "colab": {
          "base_uri": "https://localhost:8080/"
        },
        "id": "ECawNsk6H1nK",
        "outputId": "6cdc66c0-0dfb-4433-d017-6dd4b2b932fd"
      },
      "source": [
        "import numpy as np\n",
        "\n",
        "X = np.array([[2.0,-0.6],[-1.2,3.0],[-2.1,0.9]])\n",
        "X"
      ],
      "execution_count": 274,
      "outputs": [
        {
          "output_type": "execute_result",
          "data": {
            "text/plain": [
              "array([[ 2. , -0.6],\n",
              "       [-1.2,  3. ],\n",
              "       [-2.1,  0.9]])"
            ]
          },
          "metadata": {
            "tags": []
          },
          "execution_count": 274
        }
      ]
    },
    {
      "cell_type": "markdown",
      "metadata": {
        "id": "p4cojQBuJgGm"
      },
      "source": [
        "To compute and derive the Transpose of Matrix X , as  X^T :"
      ]
    },
    {
      "cell_type": "code",
      "metadata": {
        "colab": {
          "base_uri": "https://localhost:8080/"
        },
        "id": "lHHqISqvH1j-",
        "outputId": "0be7f110-c67c-402d-fefc-9e0aa9c27c0a"
      },
      "source": [
        "Xt = X.T\n",
        "Xt"
      ],
      "execution_count": 275,
      "outputs": [
        {
          "output_type": "execute_result",
          "data": {
            "text/plain": [
              "array([[ 2. , -1.2, -2.1],\n",
              "       [-0.6,  3. ,  0.9]])"
            ]
          },
          "metadata": {
            "tags": []
          },
          "execution_count": 275
        }
      ]
    },
    {
      "cell_type": "markdown",
      "metadata": {
        "id": "UIUwSVX1HN3O"
      },
      "source": [
        "#To Calculate and Compute the Covariance Matrix between X and X^T :"
      ]
    },
    {
      "cell_type": "code",
      "metadata": {
        "id": "aJkYOeJYQ8wp",
        "colab": {
          "base_uri": "https://localhost:8080/"
        },
        "outputId": "e3c97a13-faa0-471a-c9e9-d81d377b0a64"
      },
      "source": [
        "X_Xt = np.dot( Xt, X )\n",
        "X_Xt"
      ],
      "execution_count": 276,
      "outputs": [
        {
          "output_type": "execute_result",
          "data": {
            "text/plain": [
              "array([[ 9.85, -6.69],\n",
              "       [-6.69, 10.17]])"
            ]
          },
          "metadata": {
            "tags": []
          },
          "execution_count": 276
        }
      ]
    },
    {
      "cell_type": "markdown",
      "metadata": {
        "id": "xUXaOB7cMP1v"
      },
      "source": [
        "#To find and determine the Invert Covariance Matrix (Inverse of the Covariance Matrix between X and X^T )between X and X^T :"
      ]
    },
    {
      "cell_type": "code",
      "metadata": {
        "colab": {
          "base_uri": "https://localhost:8080/"
        },
        "id": "BqGkhftIN9BZ",
        "outputId": "963ea28e-7c55-4755-cf71-a020c833f369"
      },
      "source": [
        "X_Xt"
      ],
      "execution_count": 277,
      "outputs": [
        {
          "output_type": "execute_result",
          "data": {
            "text/plain": [
              "array([[ 9.85, -6.69],\n",
              "       [-6.69, 10.17]])"
            ]
          },
          "metadata": {
            "tags": []
          },
          "execution_count": 277
        }
      ]
    },
    {
      "cell_type": "code",
      "metadata": {
        "id": "f4gOQaM3Q8zQ"
      },
      "source": [
        "import numpy as np\n",
        "\n",
        "X_Xt_I = np.linalg.inv(X_Xt)"
      ],
      "execution_count": 278,
      "outputs": []
    },
    {
      "cell_type": "markdown",
      "metadata": {
        "id": "tg9WfEncOIJY"
      },
      "source": [
        "The Invert Covariance Matrix (Inverse of the Covariance Matrix between X and X^T )between X and X^T :"
      ]
    },
    {
      "cell_type": "code",
      "metadata": {
        "id": "l310W5uzQ89P",
        "colab": {
          "base_uri": "https://localhost:8080/"
        },
        "outputId": "d326cee6-169e-4a6d-ef92-58a27dde5d75"
      },
      "source": [
        "X_Xt_I"
      ],
      "execution_count": 279,
      "outputs": [
        {
          "output_type": "execute_result",
          "data": {
            "text/plain": [
              "array([[0.18351306, 0.12071803],\n",
              "       [0.12071803, 0.1777388 ]])"
            ]
          },
          "metadata": {
            "tags": []
          },
          "execution_count": 279
        }
      ]
    },
    {
      "cell_type": "code",
      "metadata": {
        "id": "muL0V80dONSM"
      },
      "source": [
        ""
      ],
      "execution_count": 279,
      "outputs": []
    },
    {
      "cell_type": "markdown",
      "metadata": {
        "id": "1SsFYe7-MFH2"
      },
      "source": [
        "#To Calculate and Compute the Cross Correlation Vector between X and Y :"
      ]
    },
    {
      "cell_type": "markdown",
      "metadata": {
        "id": "F2VyDk2RPGgm"
      },
      "source": [
        "Given Input Matrix X :"
      ]
    },
    {
      "cell_type": "code",
      "metadata": {
        "colab": {
          "base_uri": "https://localhost:8080/"
        },
        "id": "BaRZb9OsMEpV",
        "outputId": "b1851af1-e805-4591-f50f-2e2fabfaa139"
      },
      "source": [
        "X = np.array([[2.0,-0.6],[-1.2,3.0],[-2.1,0.9]])\n",
        "X"
      ],
      "execution_count": 280,
      "outputs": [
        {
          "output_type": "execute_result",
          "data": {
            "text/plain": [
              "array([[ 2. , -0.6],\n",
              "       [-1.2,  3. ],\n",
              "       [-2.1,  0.9]])"
            ]
          },
          "metadata": {
            "tags": []
          },
          "execution_count": 280
        }
      ]
    },
    {
      "cell_type": "markdown",
      "metadata": {
        "id": "Ig9oPZMRPH-r"
      },
      "source": [
        "Given Input Matrix Y :"
      ]
    },
    {
      "cell_type": "code",
      "metadata": {
        "colab": {
          "base_uri": "https://localhost:8080/"
        },
        "id": "JYvMufx8MEsF",
        "outputId": "e24bf315-a8d9-4147-a821-e3ddc7d2dc6d"
      },
      "source": [
        "Y = np.array([[3.1],[0.95],[0.25]])\n",
        "Y"
      ],
      "execution_count": 281,
      "outputs": [
        {
          "output_type": "execute_result",
          "data": {
            "text/plain": [
              "array([[3.1 ],\n",
              "       [0.95],\n",
              "       [0.25]])"
            ]
          },
          "metadata": {
            "tags": []
          },
          "execution_count": 281
        }
      ]
    },
    {
      "cell_type": "markdown",
      "metadata": {
        "id": "42wRw_9uPS_Z"
      },
      "source": [
        "To compute and derive the Transpose of Matrix X , as X^T :"
      ]
    },
    {
      "cell_type": "code",
      "metadata": {
        "colab": {
          "base_uri": "https://localhost:8080/"
        },
        "id": "HqKN2vVSMEug",
        "outputId": "e9e94f4f-2bad-44e1-e7bb-4e2d048c28ec"
      },
      "source": [
        "Xt = X.T\n",
        "Xt"
      ],
      "execution_count": 282,
      "outputs": [
        {
          "output_type": "execute_result",
          "data": {
            "text/plain": [
              "array([[ 2. , -1.2, -2.1],\n",
              "       [-0.6,  3. ,  0.9]])"
            ]
          },
          "metadata": {
            "tags": []
          },
          "execution_count": 282
        }
      ]
    },
    {
      "cell_type": "markdown",
      "metadata": {
        "id": "E9xo6aGZPeUY"
      },
      "source": [
        "#Calculating and Computingthe Cross Correlation Vector between X and Y  :"
      ]
    },
    {
      "cell_type": "code",
      "metadata": {
        "colab": {
          "base_uri": "https://localhost:8080/"
        },
        "id": "Ne3XVohyPNbP",
        "outputId": "8970d523-4a1f-45f1-b615-32e6d25df372"
      },
      "source": [
        "Xt_Y = np.dot( Xt, Y )\n",
        "Xt_Y"
      ],
      "execution_count": 283,
      "outputs": [
        {
          "output_type": "execute_result",
          "data": {
            "text/plain": [
              "array([[4.535],\n",
              "       [1.215]])"
            ]
          },
          "metadata": {
            "tags": []
          },
          "execution_count": 283
        }
      ]
    },
    {
      "cell_type": "code",
      "metadata": {
        "id": "03_UZxXvPNd7"
      },
      "source": [
        ""
      ],
      "execution_count": 283,
      "outputs": []
    },
    {
      "cell_type": "markdown",
      "metadata": {
        "id": "t4R2BY4EQZoo"
      },
      "source": [
        "#Computing the Least Squares Solution for the function : y = β1 x1 + β2 x2 , by deriving and determining  the Values of the two unknowns (β1,β2) through implementation of the  Co-Variance Matrix Method :"
      ]
    },
    {
      "cell_type": "markdown",
      "metadata": {
        "id": "reHguXxRRk92"
      },
      "source": [
        "Invert Covariance Matrix between X and X^T :"
      ]
    },
    {
      "cell_type": "code",
      "metadata": {
        "colab": {
          "base_uri": "https://localhost:8080/"
        },
        "id": "rutSbolRQZLu",
        "outputId": "0d577d15-6d32-44dc-a8e5-485f462d68cb"
      },
      "source": [
        "X_Xt_I"
      ],
      "execution_count": 284,
      "outputs": [
        {
          "output_type": "execute_result",
          "data": {
            "text/plain": [
              "array([[0.18351306, 0.12071803],\n",
              "       [0.12071803, 0.1777388 ]])"
            ]
          },
          "metadata": {
            "tags": []
          },
          "execution_count": 284
        }
      ]
    },
    {
      "cell_type": "markdown",
      "metadata": {
        "id": "Qj1LX0fCRtdF"
      },
      "source": [
        "The Cross Correlation Vector between X and Y :"
      ]
    },
    {
      "cell_type": "code",
      "metadata": {
        "colab": {
          "base_uri": "https://localhost:8080/"
        },
        "id": "KegRqqGmQZOd",
        "outputId": "30245a09-71db-4ef7-9fc0-b84da62ebfed"
      },
      "source": [
        "Xt_Y"
      ],
      "execution_count": 285,
      "outputs": [
        {
          "output_type": "execute_result",
          "data": {
            "text/plain": [
              "array([[4.535],\n",
              "       [1.215]])"
            ]
          },
          "metadata": {
            "tags": []
          },
          "execution_count": 285
        }
      ]
    },
    {
      "cell_type": "markdown",
      "metadata": {
        "id": "wxRNDq-xQmZx"
      },
      "source": [
        "#To derive and determine  the Values of β = (β1,β2) :"
      ]
    },
    {
      "cell_type": "code",
      "metadata": {
        "colab": {
          "base_uri": "https://localhost:8080/"
        },
        "id": "9hTNDOMgQZQv",
        "outputId": "2422af08-003d-45e6-be0a-8bb9bd1dd95c"
      },
      "source": [
        "B = np.dot( X_Xt_I, Xt_Y )\n",
        "B"
      ],
      "execution_count": 286,
      "outputs": [
        {
          "output_type": "execute_result",
          "data": {
            "text/plain": [
              "array([[0.97890412],\n",
              "       [0.7634089 ]])"
            ]
          },
          "metadata": {
            "tags": []
          },
          "execution_count": 286
        }
      ]
    },
    {
      "cell_type": "markdown",
      "metadata": {
        "id": "ECprj5kQRQqR"
      },
      "source": [
        "#The Least Squares Solution for the function : y = β1 x1 + β2 x2 :"
      ]
    },
    {
      "cell_type": "code",
      "metadata": {
        "colab": {
          "base_uri": "https://localhost:8080/"
        },
        "id": "0UVZ-j97PNgs",
        "outputId": "cfb3223a-f0fc-42fe-e5d4-0d30f8e6896d"
      },
      "source": [
        "B"
      ],
      "execution_count": 287,
      "outputs": [
        {
          "output_type": "execute_result",
          "data": {
            "text/plain": [
              "array([[0.97890412],\n",
              "       [0.7634089 ]])"
            ]
          },
          "metadata": {
            "tags": []
          },
          "execution_count": 287
        }
      ]
    },
    {
      "cell_type": "markdown",
      "metadata": {
        "id": "Re3WcV-LfNrf"
      },
      "source": [
        "Using 'lstsq' Function  of numpy.linalg Module :"
      ]
    },
    {
      "cell_type": "code",
      "metadata": {
        "id": "BgWBp90dPNjF",
        "colab": {
          "base_uri": "https://localhost:8080/"
        },
        "outputId": "61bad482-6672-43b2-a5ad-19590173172b"
      },
      "source": [
        "Beta = np.linalg.lstsq(X,Y, rcond=None)[0]\n",
        "print(Beta)"
      ],
      "execution_count": 288,
      "outputs": [
        {
          "output_type": "stream",
          "text": [
            "[[0.97890412]\n",
            " [0.7634089 ]]\n"
          ],
          "name": "stdout"
        }
      ]
    },
    {
      "cell_type": "code",
      "metadata": {
        "id": "irtQcU3wMEwS"
      },
      "source": [
        ""
      ],
      "execution_count": 288,
      "outputs": []
    },
    {
      "cell_type": "code",
      "metadata": {
        "id": "Lj3BZNIwQ9IG"
      },
      "source": [
        ""
      ],
      "execution_count": 288,
      "outputs": []
    }
  ]
}