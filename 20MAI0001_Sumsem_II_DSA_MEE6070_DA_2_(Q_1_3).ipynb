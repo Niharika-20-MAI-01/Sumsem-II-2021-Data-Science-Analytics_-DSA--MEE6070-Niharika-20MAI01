{
  "nbformat": 4,
  "nbformat_minor": 0,
  "metadata": {
    "colab": {
      "name": "20MAI0001_Sumsem-II_DSA-MEE6070_DA-2-(Q_1-3).ipynb",
      "provenance": [],
      "collapsed_sections": [],
      "authorship_tag": "ABX9TyMP8PzTu2FksfoSSnOTDgGU",
      "include_colab_link": true
    },
    "kernelspec": {
      "name": "python3",
      "display_name": "Python 3"
    },
    "language_info": {
      "name": "python"
    }
  },
  "cells": [
    {
      "cell_type": "markdown",
      "metadata": {
        "id": "view-in-github",
        "colab_type": "text"
      },
      "source": [
        "<a href=\"https://colab.research.google.com/github/Niharika-20-MAI-01/Sumsem-II-2021-Data-Science-Analytics_-DSA--MEE6070-Niharika-20MAI01/blob/main/20MAI0001_Sumsem_II_DSA_MEE6070_DA_2_(Q_1_3).ipynb\" target=\"_parent\"><img src=\"https://colab.research.google.com/assets/colab-badge.svg\" alt=\"Open In Colab\"/></a>"
      ]
    },
    {
      "cell_type": "markdown",
      "metadata": {
        "id": "MzvtPJG6abbz"
      },
      "source": [
        "Data Science and Analytics - ( MEE 6070 ) - Digital Assignment -2 : Q-(1-3)\n",
        "\n",
        "Submitted By: 20MAI0001 - NIHARIKA MAITRA\n",
        "\n",
        "git Repo Link for notebook :\n",
        "\n",
        "\n",
        "\n",
        "git Repo Link For datasets used :\n",
        "\n",
        "https://github.com/Niharika-20-MAI-01/Sumsem-II-2021-Data-Science-Analytics_-DSA--MEE6070-Niharika-20MAI01\n"
      ]
    },
    {
      "cell_type": "markdown",
      "metadata": {
        "id": "P0U0Yi7vabWF"
      },
      "source": [
        ""
      ]
    },
    {
      "cell_type": "markdown",
      "metadata": {
        "id": "v65RetjdbwXd"
      },
      "source": [
        "#1.\tDetermine the Eigen values and vectors for the following 2 x 2 and 3x3 matrix: Verify the answer using the Python computing environment\n"
      ]
    },
    {
      "cell_type": "markdown",
      "metadata": {
        "id": "1_gvqLVqcKDy"
      },
      "source": [
        "#Computing Eigenvalues & Eigenvectors in Python for 2x2 Matrix : ([[10, 4],[3, 8]])"
      ]
    },
    {
      "cell_type": "code",
      "metadata": {
        "colab": {
          "base_uri": "https://localhost:8080/"
        },
        "id": "Rz0zc4F4aaJJ",
        "outputId": "e278ede7-1c59-4fe4-a147-9e6bebb8751f"
      },
      "source": [
        "import numpy as np\n",
        "from sklearn.preprocessing import StandardScaler\n",
        "from numpy.linalg import eig\n",
        "\n",
        "A = np.array([[10, 4],[3, 8]])\n",
        "print(A)"
      ],
      "execution_count": 414,
      "outputs": [
        {
          "output_type": "stream",
          "text": [
            "[[10  4]\n",
            " [ 3  8]]\n"
          ],
          "name": "stdout"
        }
      ]
    },
    {
      "cell_type": "code",
      "metadata": {
        "id": "PNa43wepfJaV"
      },
      "source": [
        "# Scaling the features\n",
        "sc = StandardScaler()\n",
        "A_scaled = sc.fit_transform(A)"
      ],
      "execution_count": 415,
      "outputs": []
    },
    {
      "cell_type": "code",
      "metadata": {
        "id": "mCjYuouKab-r"
      },
      "source": [
        "# To Calculate covariance matrix :\n",
        "cov_matrix_A = np.cov( A_scaled.T, A_scaled )\n",
        "\n",
        "# To Calculate Eigenvalues and Eigenmatrix\n",
        "eigenvalues_A, eigenvectors_A = eig(cov_matrix_A)"
      ],
      "execution_count": 416,
      "outputs": []
    },
    {
      "cell_type": "markdown",
      "metadata": {
        "id": "VIMAZB8SdHQb"
      },
      "source": [
        "#Eigenvalues :"
      ]
    },
    {
      "cell_type": "code",
      "metadata": {
        "colab": {
          "base_uri": "https://localhost:8080/"
        },
        "id": "AMpe1OsaacCP",
        "outputId": "892e6a34-6dc0-496f-eb1e-4fa898fae7b3"
      },
      "source": [
        "eigenvalues_A"
      ],
      "execution_count": 417,
      "outputs": [
        {
          "output_type": "execute_result",
          "data": {
            "text/plain": [
              "array([0.00000000e+00, 8.00000000e+00, 5.61462886e-32, 0.00000000e+00])"
            ]
          },
          "metadata": {
            "tags": []
          },
          "execution_count": 417
        }
      ]
    },
    {
      "cell_type": "markdown",
      "metadata": {
        "id": "25srSRE1dds8"
      },
      "source": [
        "#Eigenvectors :"
      ]
    },
    {
      "cell_type": "code",
      "metadata": {
        "colab": {
          "base_uri": "https://localhost:8080/"
        },
        "id": "3SWo9Yd5acEp",
        "outputId": "bbd8b683-6fa6-4eb8-d48b-cab66269feca"
      },
      "source": [
        "eigenvectors_A"
      ],
      "execution_count": 418,
      "outputs": [
        {
          "output_type": "execute_result",
          "data": {
            "text/plain": [
              "array([[-0.8660254 ,  0.5       , -0.76811693, -0.8660254 ],\n",
              "       [-0.28867513, -0.5       , -0.63315833, -0.28867513],\n",
              "       [ 0.28867513,  0.5       ,  0.0674793 ,  0.28867513],\n",
              "       [-0.28867513, -0.5       , -0.0674793 , -0.28867513]])"
            ]
          },
          "metadata": {
            "tags": []
          },
          "execution_count": 418
        }
      ]
    },
    {
      "cell_type": "markdown",
      "metadata": {
        "id": "XHDsW5qghzFg"
      },
      "source": [
        "Compairing LHS and RHS of Ax=λx (where A represents the transformation matrix , x represents eigenvectors and λ represents eigenvalues ) to check the correctness of above computed EigenValues and EigenVectors :"
      ]
    },
    {
      "cell_type": "code",
      "metadata": {
        "colab": {
          "base_uri": "https://localhost:8080/"
        },
        "id": "yxC6FCeEhxsb",
        "outputId": "0a7bf5a4-9ff7-4108-8eaf-41f965478479"
      },
      "source": [
        "# LHS\n",
        "cov_matrix_A.dot(eigenvectors_A[:, 0])\n"
      ],
      "execution_count": 419,
      "outputs": [
        {
          "output_type": "execute_result",
          "data": {
            "text/plain": [
              "array([-2.22044605e-16,  2.22044605e-16, -2.22044605e-16,  2.22044605e-16])"
            ]
          },
          "metadata": {
            "tags": []
          },
          "execution_count": 419
        }
      ]
    },
    {
      "cell_type": "code",
      "metadata": {
        "colab": {
          "base_uri": "https://localhost:8080/"
        },
        "id": "YLTG8_fChx5Q",
        "outputId": "e36aa20b-bac6-4b0e-82f9-0baa59945a50"
      },
      "source": [
        "# RHS\n",
        "eigenvalues_A[0]*eigenvectors_A[:, 0]"
      ],
      "execution_count": 420,
      "outputs": [
        {
          "output_type": "execute_result",
          "data": {
            "text/plain": [
              "array([-0., -0.,  0., -0.])"
            ]
          },
          "metadata": {
            "tags": []
          },
          "execution_count": 420
        }
      ]
    },
    {
      "cell_type": "code",
      "metadata": {
        "id": "iYmKRzxpVIom"
      },
      "source": [
        ""
      ],
      "execution_count": 420,
      "outputs": []
    },
    {
      "cell_type": "markdown",
      "metadata": {
        "id": "aO5v5p-1fUR0"
      },
      "source": [
        "#Computing Eigenvalues & Eigenvectors in Python for 3x3 Matrix : ([[1, 2, 3],[4, 2, 2], [2, 3, 4]])"
      ]
    },
    {
      "cell_type": "code",
      "metadata": {
        "colab": {
          "base_uri": "https://localhost:8080/"
        },
        "id": "_noNg_jhacKA",
        "outputId": "857eb563-9926-4078-ddc3-acc34834017b"
      },
      "source": [
        "import numpy as np\n",
        "from sklearn.preprocessing import StandardScaler\n",
        "from numpy.linalg import eig\n",
        "\n",
        "B = np.array([[1, 2, 3],[4, 2, 2], [2, 3, 4]])\n",
        "\n",
        "print(B)"
      ],
      "execution_count": 421,
      "outputs": [
        {
          "output_type": "stream",
          "text": [
            "[[1 2 3]\n",
            " [4 2 2]\n",
            " [2 3 4]]\n"
          ],
          "name": "stdout"
        }
      ]
    },
    {
      "cell_type": "code",
      "metadata": {
        "id": "-yB5mmZiacMY"
      },
      "source": [
        "# Scaling the features\n",
        "sc = StandardScaler()\n",
        "B_scaled = sc.fit_transform(B)"
      ],
      "execution_count": 422,
      "outputs": []
    },
    {
      "cell_type": "code",
      "metadata": {
        "id": "y4OVLDD3acO_"
      },
      "source": [
        "# To Calculate covariance matrix :\n",
        "cov_matrix_B = np.cov(B_scaled.T, B_scaled)\n",
        "\n",
        "# To Calculate Eigenvalues and Eigenmatrix\n",
        "eigenvalues_B, eigenvectors_B = eig(cov_matrix_B)"
      ],
      "execution_count": 423,
      "outputs": []
    },
    {
      "cell_type": "markdown",
      "metadata": {
        "id": "8kbRVzUvhPDm"
      },
      "source": [
        "#Eigenvalues :"
      ]
    },
    {
      "cell_type": "code",
      "metadata": {
        "colab": {
          "base_uri": "https://localhost:8080/"
        },
        "id": "bR7LEC1LgZfa",
        "outputId": "aa96ff94-5070-4bce-a03c-5f57a211eea1"
      },
      "source": [
        "eigenvalues_B"
      ],
      "execution_count": 424,
      "outputs": [
        {
          "output_type": "execute_result",
          "data": {
            "text/plain": [
              "array([-4.44089210e-16,  3.32734491e+00,  4.15026559e+00, -7.51247600e-17,\n",
              "        2.01254979e-16, -6.24121129e-33])"
            ]
          },
          "metadata": {
            "tags": []
          },
          "execution_count": 424
        }
      ]
    },
    {
      "cell_type": "markdown",
      "metadata": {
        "id": "OAbCE6XMhVhB"
      },
      "source": [
        "#Eigenvectors :"
      ]
    },
    {
      "cell_type": "code",
      "metadata": {
        "colab": {
          "base_uri": "https://localhost:8080/"
        },
        "id": "_TUdc2RngZhz",
        "outputId": "47d4c750-c5ef-4652-d519-026010111f40"
      },
      "source": [
        "eigenvectors_B"
      ],
      "execution_count": 425,
      "outputs": [
        {
          "output_type": "execute_result",
          "data": {
            "text/plain": [
              "array([[-0.7514603 , -0.61043073,  0.2503632 , -0.08804632,  0.01365807,\n",
              "         0.15107229],\n",
              "       [-0.15369972,  0.38993645,  0.48940883,  0.56299101,  0.49436149,\n",
              "         0.25316261],\n",
              "       [-0.41327404,  0.61098934,  0.24926839, -0.28110887, -0.57417673,\n",
              "        -0.05663788],\n",
              "       [ 0.01844977,  0.08247983,  0.25647734, -0.62717923,  0.43886169,\n",
              "         0.42204217],\n",
              "       [-0.35590758,  0.1730164 , -0.64640447,  0.25775012,  0.04214312,\n",
              "         0.69589614],\n",
              "       [ 0.33745781, -0.25549622,  0.38992714,  0.3694291 , -0.48100481,\n",
              "         0.49748064]])"
            ]
          },
          "metadata": {
            "tags": []
          },
          "execution_count": 425
        }
      ]
    },
    {
      "cell_type": "markdown",
      "metadata": {
        "id": "TGE99PxXiSpb"
      },
      "source": [
        "Compairing LHS and RHS of Ax=λx (where A represents the transformation matrix , x represents eigenvectors and λ represents eigenvalues ) to check the correctness of above computed EigenValues and EigenVectors :"
      ]
    },
    {
      "cell_type": "code",
      "metadata": {
        "colab": {
          "base_uri": "https://localhost:8080/"
        },
        "id": "60aEoky9gZkU",
        "outputId": "ec797391-9665-4570-ea8b-be32c1cf1f92"
      },
      "source": [
        "# LHS\n",
        "cov_matrix_B.dot(eigenvectors_B[:, 0])\n"
      ],
      "execution_count": 426,
      "outputs": [
        {
          "output_type": "execute_result",
          "data": {
            "text/plain": [
              "array([-4.44089210e-16,  1.11022302e-16,  4.16333634e-17,  0.00000000e+00,\n",
              "       -2.22044605e-16, -1.11022302e-16])"
            ]
          },
          "metadata": {
            "tags": []
          },
          "execution_count": 426
        }
      ]
    },
    {
      "cell_type": "code",
      "metadata": {
        "colab": {
          "base_uri": "https://localhost:8080/"
        },
        "id": "wJipMd5BgZml",
        "outputId": "501fba38-2aa8-46a2-acb2-f64335c263f3"
      },
      "source": [
        "# RHS\n",
        "eigenvalues_B[0]*eigenvectors_B[:, 0]"
      ],
      "execution_count": 427,
      "outputs": [
        {
          "output_type": "execute_result",
          "data": {
            "text/plain": [
              "array([ 3.33715412e-16,  6.82563854e-17,  1.83530544e-16, -8.19334189e-18,\n",
              "        1.58054716e-16, -1.49861374e-16])"
            ]
          },
          "metadata": {
            "tags": []
          },
          "execution_count": 427
        }
      ]
    },
    {
      "cell_type": "code",
      "metadata": {
        "id": "3fGb-hZegZpC"
      },
      "source": [
        ""
      ],
      "execution_count": 427,
      "outputs": []
    },
    {
      "cell_type": "markdown",
      "metadata": {
        "id": "_MCczHYbFLzw"
      },
      "source": [
        "#2.\tDetermine the covariance matrix, variance, covariance, correlation coefficient for the following data set and comment the obtained values : Verify the answer using the Python computing environment\n",
        " \n",
        "#X :\t2\t4\t6\t8\t10\t12\t14\n",
        "#Y :\t1.1\t3.2\t5.7\t8.1\t9.9\t11.5\t13.1\n"
      ]
    },
    {
      "cell_type": "markdown",
      "metadata": {
        "id": "muOTEeNDFLVG"
      },
      "source": [
        "#To Find the Mean of X and Y :"
      ]
    },
    {
      "cell_type": "code",
      "metadata": {
        "id": "6fOinLaJifRf"
      },
      "source": [
        "import numpy as np\n",
        "\n",
        "x = np.array([2, 4, 6, 8, 10, 12, 14])\n",
        "y = np.array([1.1,3.2,5.7,8.1,9.9,11.5,13.1])"
      ],
      "execution_count": 428,
      "outputs": []
    },
    {
      "cell_type": "markdown",
      "metadata": {
        "id": "t5zsHVHeHiLN"
      },
      "source": [
        "Mean of X:"
      ]
    },
    {
      "cell_type": "code",
      "metadata": {
        "colab": {
          "base_uri": "https://localhost:8080/"
        },
        "id": "mnwCnk0mifWw",
        "outputId": "3e8770a4-293b-45fd-fbfe-903ad23ad07f"
      },
      "source": [
        "x.mean()"
      ],
      "execution_count": 429,
      "outputs": [
        {
          "output_type": "execute_result",
          "data": {
            "text/plain": [
              "8.0"
            ]
          },
          "metadata": {
            "tags": []
          },
          "execution_count": 429
        }
      ]
    },
    {
      "cell_type": "markdown",
      "metadata": {
        "id": "JMSjZFsvHlCr"
      },
      "source": [
        "Mean of Y:"
      ]
    },
    {
      "cell_type": "code",
      "metadata": {
        "colab": {
          "base_uri": "https://localhost:8080/"
        },
        "id": "D3dM0dMYifZk",
        "outputId": "45da687a-f863-48b6-cf94-10add2a2c3fc"
      },
      "source": [
        "y.mean()"
      ],
      "execution_count": 430,
      "outputs": [
        {
          "output_type": "execute_result",
          "data": {
            "text/plain": [
              "7.514285714285714"
            ]
          },
          "metadata": {
            "tags": []
          },
          "execution_count": 430
        }
      ]
    },
    {
      "cell_type": "markdown",
      "metadata": {
        "id": "CzHrqTW_H4WR"
      },
      "source": [
        "#To Find the Variance and Standard Deviation of X and Y :"
      ]
    },
    {
      "cell_type": "code",
      "metadata": {
        "id": "3Nsd2emBifcg"
      },
      "source": [
        "import numpy as np\n",
        "\n",
        "x = np.array([2, 4, 6, 8, 10, 12, 14])\n",
        "y = np.array([1.1,3.2,5.7,8.1,9.9,11.5,13.1])"
      ],
      "execution_count": 431,
      "outputs": []
    },
    {
      "cell_type": "markdown",
      "metadata": {
        "id": "VXmSNugRL6zj"
      },
      "source": [
        "Variance of X :"
      ]
    },
    {
      "cell_type": "code",
      "metadata": {
        "colab": {
          "base_uri": "https://localhost:8080/"
        },
        "id": "2rdWRztUH_RE",
        "outputId": "bb08e7c4-1284-4ea0-e297-732be4c24fe7"
      },
      "source": [
        "x.var()"
      ],
      "execution_count": 432,
      "outputs": [
        {
          "output_type": "execute_result",
          "data": {
            "text/plain": [
              "16.0"
            ]
          },
          "metadata": {
            "tags": []
          },
          "execution_count": 432
        }
      ]
    },
    {
      "cell_type": "markdown",
      "metadata": {
        "id": "wNQSFzXcL_pp"
      },
      "source": [
        "Standard Deviation of X :"
      ]
    },
    {
      "cell_type": "code",
      "metadata": {
        "colab": {
          "base_uri": "https://localhost:8080/"
        },
        "id": "QKejrtV_H_Tj",
        "outputId": "c1ef0aae-4e05-4d6f-a43b-03defa23a51d"
      },
      "source": [
        "x.std()"
      ],
      "execution_count": 433,
      "outputs": [
        {
          "output_type": "execute_result",
          "data": {
            "text/plain": [
              "4.0"
            ]
          },
          "metadata": {
            "tags": []
          },
          "execution_count": 433
        }
      ]
    },
    {
      "cell_type": "markdown",
      "metadata": {
        "id": "imLXzKrEMARv"
      },
      "source": [
        "Variance of Y :"
      ]
    },
    {
      "cell_type": "code",
      "metadata": {
        "colab": {
          "base_uri": "https://localhost:8080/"
        },
        "id": "_XWox2EDH_WP",
        "outputId": "942df205-084d-4b04-9a81-560fc722d46d"
      },
      "source": [
        "y.var()"
      ],
      "execution_count": 434,
      "outputs": [
        {
          "output_type": "execute_result",
          "data": {
            "text/plain": [
              "16.59551020408163"
            ]
          },
          "metadata": {
            "tags": []
          },
          "execution_count": 434
        }
      ]
    },
    {
      "cell_type": "markdown",
      "metadata": {
        "id": "uLMMC7bgNF2M"
      },
      "source": [
        "Standard Deviation of Y :"
      ]
    },
    {
      "cell_type": "code",
      "metadata": {
        "colab": {
          "base_uri": "https://localhost:8080/"
        },
        "id": "kMs4_3yqH_Zj",
        "outputId": "cec9d9b8-4773-4253-af4e-f1ae7a2d762c"
      },
      "source": [
        "y.std()"
      ],
      "execution_count": 435,
      "outputs": [
        {
          "output_type": "execute_result",
          "data": {
            "text/plain": [
              "4.073758731697501"
            ]
          },
          "metadata": {
            "tags": []
          },
          "execution_count": 435
        }
      ]
    },
    {
      "cell_type": "code",
      "metadata": {
        "id": "I4cVbYLqaYhd"
      },
      "source": [
        ""
      ],
      "execution_count": 435,
      "outputs": []
    },
    {
      "cell_type": "markdown",
      "metadata": {
        "id": "NT8lEoF9N_U2"
      },
      "source": [
        "#To Calculate and Compute the Co-variance between  X and Y :"
      ]
    },
    {
      "cell_type": "code",
      "metadata": {
        "id": "RFUpLV8YNK7i"
      },
      "source": [
        "def calcCov(x, y):\n",
        " \n",
        "    mean_x, mean_y = x.mean(), y.mean()\n",
        "    n = len(x)\n",
        " \n",
        "    return sum((x - mean_x) * (y - mean_y)) / n"
      ],
      "execution_count": 436,
      "outputs": []
    },
    {
      "cell_type": "code",
      "metadata": {
        "id": "rrjxnXC8NK-K"
      },
      "source": [
        "import numpy as np\n",
        "\n",
        "x = np.array([2,4,6,8,10,12,14])\n",
        "y = np.array([1.1,3.2,5.7,8.1,9.9,11.5,13.1])\n"
      ],
      "execution_count": 437,
      "outputs": []
    },
    {
      "cell_type": "markdown",
      "metadata": {
        "id": "mNzFhVNQPaTv"
      },
      "source": [
        "The covariance between x and Y :"
      ]
    },
    {
      "cell_type": "code",
      "metadata": {
        "colab": {
          "base_uri": "https://localhost:8080/"
        },
        "id": "8FpB5GJuPWm6",
        "outputId": "3e2b33f7-6fda-45fa-aac4-5b41a305a8cc"
      },
      "source": [
        "calcCov(x,y)"
      ],
      "execution_count": 438,
      "outputs": [
        {
          "output_type": "execute_result",
          "data": {
            "text/plain": [
              "16.228571428571428"
            ]
          },
          "metadata": {
            "tags": []
          },
          "execution_count": 438
        }
      ]
    },
    {
      "cell_type": "code",
      "metadata": {
        "id": "epkoqiZ6Ujph"
      },
      "source": [
        ""
      ],
      "execution_count": 438,
      "outputs": []
    },
    {
      "cell_type": "markdown",
      "metadata": {
        "id": "ZctewzTQSMJS"
      },
      "source": [
        "#To Calculate and Compute the Covariance Matrix between X and Y :"
      ]
    },
    {
      "cell_type": "code",
      "metadata": {
        "id": "06cf1mkJYHnX"
      },
      "source": [
        "data =np.array([[2,4,6,8,10,12,14], [1.1,3.2,5.7,8.1,9.9,11.5,13.1]])"
      ],
      "execution_count": 439,
      "outputs": []
    },
    {
      "cell_type": "code",
      "metadata": {
        "id": "bQFkrZdySLg7"
      },
      "source": [
        "# Function for Calculating the Covariance Matrix between X and Y :\n",
        "def covMat(data):\n",
        "    rows, cols = data.shape\n",
        "    cov_mat = np.zeros((cols, cols))\n",
        " \n",
        "    for i in range(cols):\n",
        "        for j in range(cols):\n",
        "            # storing the value in the matrix\n",
        "            cov_mat[i][j] = calcCov(data[:, i], data[:, j])\n",
        "\n",
        "    return cov_mat\n"
      ],
      "execution_count": 440,
      "outputs": []
    },
    {
      "cell_type": "markdown",
      "metadata": {
        "id": "ypqFfp7iU-8O"
      },
      "source": [
        "#Calculating the Covariance Matrix between X and Y :"
      ]
    },
    {
      "cell_type": "code",
      "metadata": {
        "colab": {
          "base_uri": "https://localhost:8080/"
        },
        "id": "ape2Z1zoSLnB",
        "outputId": "280a4e56-51fa-4fd6-9292-9b4df24550ed"
      },
      "source": [
        "covMat(data)"
      ],
      "execution_count": 441,
      "outputs": [
        {
          "output_type": "execute_result",
          "data": {
            "text/plain": [
              "array([[ 0.2025,  0.18  ,  0.0675, -0.0225,  0.0225,  0.1125,  0.2025],\n",
              "       [ 0.18  ,  0.16  ,  0.06  , -0.02  ,  0.02  ,  0.1   ,  0.18  ],\n",
              "       [ 0.0675,  0.06  ,  0.0225, -0.0075,  0.0075,  0.0375,  0.0675],\n",
              "       [-0.0225, -0.02  , -0.0075,  0.0025, -0.0025, -0.0125, -0.0225],\n",
              "       [ 0.0225,  0.02  ,  0.0075, -0.0025,  0.0025,  0.0125,  0.0225],\n",
              "       [ 0.1125,  0.1   ,  0.0375, -0.0125,  0.0125,  0.0625,  0.1125],\n",
              "       [ 0.2025,  0.18  ,  0.0675, -0.0225,  0.0225,  0.1125,  0.2025]])"
            ]
          },
          "metadata": {
            "tags": []
          },
          "execution_count": 441
        }
      ]
    },
    {
      "cell_type": "markdown",
      "metadata": {
        "id": "JGOL-pDTTANA"
      },
      "source": [
        "Calculating the Covariance Matrix using cov() in  Numpy :"
      ]
    },
    {
      "cell_type": "code",
      "metadata": {
        "colab": {
          "base_uri": "https://localhost:8080/"
        },
        "id": "sYQRKmHNSLqH",
        "outputId": "eedb7cf6-966e-4034-8c99-16f6a8cc9847"
      },
      "source": [
        "np.cov(data,rowvar=False)"
      ],
      "execution_count": 442,
      "outputs": [
        {
          "output_type": "execute_result",
          "data": {
            "text/plain": [
              "array([[ 0.405,  0.36 ,  0.135, -0.045,  0.045,  0.225,  0.405],\n",
              "       [ 0.36 ,  0.32 ,  0.12 , -0.04 ,  0.04 ,  0.2  ,  0.36 ],\n",
              "       [ 0.135,  0.12 ,  0.045, -0.015,  0.015,  0.075,  0.135],\n",
              "       [-0.045, -0.04 , -0.015,  0.005, -0.005, -0.025, -0.045],\n",
              "       [ 0.045,  0.04 ,  0.015, -0.005,  0.005,  0.025,  0.045],\n",
              "       [ 0.225,  0.2  ,  0.075, -0.025,  0.025,  0.125,  0.225],\n",
              "       [ 0.405,  0.36 ,  0.135, -0.045,  0.045,  0.225,  0.405]])"
            ]
          },
          "metadata": {
            "tags": []
          },
          "execution_count": 442
        }
      ]
    },
    {
      "cell_type": "code",
      "metadata": {
        "id": "SO6v_u1ASLsh"
      },
      "source": [
        ""
      ],
      "execution_count": 442,
      "outputs": []
    },
    {
      "cell_type": "markdown",
      "metadata": {
        "id": "zvsV8agGP2Ga"
      },
      "source": [
        "#To Calculate and Compute the Correlation Coefficient and the Correlation Matrix between X and Y :"
      ]
    },
    {
      "cell_type": "code",
      "metadata": {
        "id": "FrPbaS6ZNLD0"
      },
      "source": [
        "#data =np.array([[2,4,6,8,10,12,14], [1.1,3.2,5.7,8.1,9.9,11.5,13.1]])"
      ],
      "execution_count": 443,
      "outputs": []
    },
    {
      "cell_type": "markdown",
      "metadata": {
        "id": "Ff500ZSmXNlD"
      },
      "source": [
        "#Calculating the Correlation Coefficient between X and Y :"
      ]
    },
    {
      "cell_type": "code",
      "metadata": {
        "id": "D5GSILFoYboY"
      },
      "source": [
        "def calcCov(x, y):\n",
        " \n",
        "    mean_x, mean_y = x.mean(), y.mean()\n",
        "    n = len(x)\n",
        " \n",
        "    return sum((x - mean_x) * (y - mean_y)) / n"
      ],
      "execution_count": 444,
      "outputs": []
    },
    {
      "cell_type": "code",
      "metadata": {
        "id": "JjjdZeQLV0MS"
      },
      "source": [
        "stdev = (x.std()*y.std())"
      ],
      "execution_count": 445,
      "outputs": []
    },
    {
      "cell_type": "code",
      "metadata": {
        "id": "PzQlYhmvWvJD"
      },
      "source": [
        "Corr_Coef = calcCov(x, y) / stdev"
      ],
      "execution_count": 446,
      "outputs": []
    },
    {
      "cell_type": "code",
      "metadata": {
        "colab": {
          "base_uri": "https://localhost:8080/"
        },
        "id": "2GhhrqIeXDu9",
        "outputId": "023bf2ed-1922-407f-9883-f0a56aa9f546"
      },
      "source": [
        "Corr_Coef"
      ],
      "execution_count": 447,
      "outputs": [
        {
          "output_type": "execute_result",
          "data": {
            "text/plain": [
              "0.9959212423589652"
            ]
          },
          "metadata": {
            "tags": []
          },
          "execution_count": 447
        }
      ]
    },
    {
      "cell_type": "code",
      "metadata": {
        "id": "B05p0uhhX-ZK"
      },
      "source": [
        ""
      ],
      "execution_count": 447,
      "outputs": []
    },
    {
      "cell_type": "code",
      "metadata": {
        "id": "cpjLNPtoXqLk"
      },
      "source": [
        "# Function for Calculating the Correlation Matrix between X and Y :\n",
        "def corrMat(data):\n",
        "\trows, cols = data.shape\n",
        "\tcorr_mat = np.zeros((cols, cols))\n",
        " \n",
        "\tfor i in range(cols):\n",
        "\t\tfor j in range(cols):\n",
        "\t\t\tx, y = data[:, i], data[:, j]\n",
        "\t\t\t\n",
        "\t\t\tcorr_mat[i][j] = calcCov(x, y) / (x.std() * y.std())\n",
        "   \n",
        "\treturn corr_mat"
      ],
      "execution_count": 448,
      "outputs": []
    },
    {
      "cell_type": "markdown",
      "metadata": {
        "id": "rNAVC3mRRysn"
      },
      "source": [
        "#Calculating the Correlation Matrix between X and Y :"
      ]
    },
    {
      "cell_type": "code",
      "metadata": {
        "colab": {
          "base_uri": "https://localhost:8080/"
        },
        "id": "NT4To0FGNLGi",
        "outputId": "20f8e34e-a10f-4314-eb60-ea520e096d49"
      },
      "source": [
        "corrMat(data)"
      ],
      "execution_count": 449,
      "outputs": [
        {
          "output_type": "execute_result",
          "data": {
            "text/plain": [
              "array([[ 1.,  1.,  1., -1.,  1.,  1.,  1.],\n",
              "       [ 1.,  1.,  1., -1.,  1.,  1.,  1.],\n",
              "       [ 1.,  1.,  1., -1.,  1.,  1.,  1.],\n",
              "       [-1., -1., -1.,  1., -1., -1., -1.],\n",
              "       [ 1.,  1.,  1., -1.,  1.,  1.,  1.],\n",
              "       [ 1.,  1.,  1., -1.,  1.,  1.,  1.],\n",
              "       [ 1.,  1.,  1., -1.,  1.,  1.,  1.]])"
            ]
          },
          "metadata": {
            "tags": []
          },
          "execution_count": 449
        }
      ]
    },
    {
      "cell_type": "markdown",
      "metadata": {
        "id": "BEE6s1b2TO4f"
      },
      "source": [
        "Calculating the Correlation Matrix using corrcoef() in Numpy :"
      ]
    },
    {
      "cell_type": "code",
      "metadata": {
        "colab": {
          "base_uri": "https://localhost:8080/"
        },
        "id": "wv4cLiAeNLJa",
        "outputId": "39e220d6-a09a-4105-ea18-acc6ef54aa76"
      },
      "source": [
        "np.corrcoef(data,rowvar=False)"
      ],
      "execution_count": 450,
      "outputs": [
        {
          "output_type": "execute_result",
          "data": {
            "text/plain": [
              "array([[ 1.,  1.,  1., -1.,  1.,  1.,  1.],\n",
              "       [ 1.,  1.,  1., -1.,  1.,  1.,  1.],\n",
              "       [ 1.,  1.,  1., -1.,  1.,  1.,  1.],\n",
              "       [-1., -1., -1.,  1., -1., -1., -1.],\n",
              "       [ 1.,  1.,  1., -1.,  1.,  1.,  1.],\n",
              "       [ 1.,  1.,  1., -1.,  1.,  1.,  1.],\n",
              "       [ 1.,  1.,  1., -1.,  1.,  1.,  1.]])"
            ]
          },
          "metadata": {
            "tags": []
          },
          "execution_count": 450
        }
      ]
    },
    {
      "cell_type": "code",
      "metadata": {
        "id": "wl6DJkq7NLLT"
      },
      "source": [
        ""
      ],
      "execution_count": 450,
      "outputs": []
    },
    {
      "cell_type": "markdown",
      "metadata": {
        "id": "gA304E7ZG2-c"
      },
      "source": [
        "#3.\tFind the least squares solution for the underlying function with two unknowns  y = β1 x1 + β2 x2 using covariance matrix of the following data:"
      ]
    },
    {
      "cell_type": "markdown",
      "metadata": {
        "id": "Ah-5uTZfG_5a"
      },
      "source": [
        "![image.png](data:image/png;base64,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)\n"
      ]
    },
    {
      "cell_type": "markdown",
      "metadata": {
        "id": "FDhLhZuFKthz"
      },
      "source": [
        ""
      ]
    },
    {
      "cell_type": "markdown",
      "metadata": {
        "id": "BTLhZZzAJsWX"
      },
      "source": [
        "#To Compute the Least Squares Solution for the function : y = β1 x1 + β2 x2 , by deriving the Values of the two unknowns (β1,β2) of the function by using the Covariance Matrix Method Implementation :-"
      ]
    },
    {
      "cell_type": "markdown",
      "metadata": {
        "id": "NjkYS2AgKzsQ"
      },
      "source": [
        "Given Input Matrix X:"
      ]
    },
    {
      "cell_type": "code",
      "metadata": {
        "colab": {
          "base_uri": "https://localhost:8080/"
        },
        "id": "ECawNsk6H1nK",
        "outputId": "391f8f5d-9db9-41da-b92a-4a5a9677b40c"
      },
      "source": [
        "import numpy as np\n",
        "\n",
        "X = np.array([[2.0,-0.6],[-1.2,3.0],[-2.1,0.9]])\n",
        "X"
      ],
      "execution_count": 451,
      "outputs": [
        {
          "output_type": "execute_result",
          "data": {
            "text/plain": [
              "array([[ 2. , -0.6],\n",
              "       [-1.2,  3. ],\n",
              "       [-2.1,  0.9]])"
            ]
          },
          "metadata": {
            "tags": []
          },
          "execution_count": 451
        }
      ]
    },
    {
      "cell_type": "markdown",
      "metadata": {
        "id": "p4cojQBuJgGm"
      },
      "source": [
        "To compute and derive the Transpose of Matrix X , as  X^T :"
      ]
    },
    {
      "cell_type": "code",
      "metadata": {
        "colab": {
          "base_uri": "https://localhost:8080/"
        },
        "id": "lHHqISqvH1j-",
        "outputId": "7cd52b90-1461-4e5b-b611-86ef697f729c"
      },
      "source": [
        "Xt = X.T\n",
        "Xt"
      ],
      "execution_count": 452,
      "outputs": [
        {
          "output_type": "execute_result",
          "data": {
            "text/plain": [
              "array([[ 2. , -1.2, -2.1],\n",
              "       [-0.6,  3. ,  0.9]])"
            ]
          },
          "metadata": {
            "tags": []
          },
          "execution_count": 452
        }
      ]
    },
    {
      "cell_type": "markdown",
      "metadata": {
        "id": "UIUwSVX1HN3O"
      },
      "source": [
        "#To Calculate and Compute the Covariance Matrix between X and X^T :"
      ]
    },
    {
      "cell_type": "code",
      "metadata": {
        "id": "aJkYOeJYQ8wp",
        "colab": {
          "base_uri": "https://localhost:8080/"
        },
        "outputId": "749d9922-2403-454b-9081-c42aab7eed81"
      },
      "source": [
        "X_Xt = np.dot( Xt, X )\n",
        "X_Xt"
      ],
      "execution_count": 453,
      "outputs": [
        {
          "output_type": "execute_result",
          "data": {
            "text/plain": [
              "array([[ 9.85, -6.69],\n",
              "       [-6.69, 10.17]])"
            ]
          },
          "metadata": {
            "tags": []
          },
          "execution_count": 453
        }
      ]
    },
    {
      "cell_type": "markdown",
      "metadata": {
        "id": "xUXaOB7cMP1v"
      },
      "source": [
        "#To find and determine the Invert Covariance Matrix (Inverse of the Covariance Matrix between X and X^T )between X and X^T :"
      ]
    },
    {
      "cell_type": "code",
      "metadata": {
        "colab": {
          "base_uri": "https://localhost:8080/"
        },
        "id": "BqGkhftIN9BZ",
        "outputId": "dea5aa30-e39f-4934-d899-f4d036a8ebad"
      },
      "source": [
        "X_Xt"
      ],
      "execution_count": 454,
      "outputs": [
        {
          "output_type": "execute_result",
          "data": {
            "text/plain": [
              "array([[ 9.85, -6.69],\n",
              "       [-6.69, 10.17]])"
            ]
          },
          "metadata": {
            "tags": []
          },
          "execution_count": 454
        }
      ]
    },
    {
      "cell_type": "code",
      "metadata": {
        "id": "f4gOQaM3Q8zQ"
      },
      "source": [
        "import numpy as np\n",
        "\n",
        "X_Xt_I = np.linalg.inv(X_Xt)"
      ],
      "execution_count": 455,
      "outputs": []
    },
    {
      "cell_type": "markdown",
      "metadata": {
        "id": "tg9WfEncOIJY"
      },
      "source": [
        "The Invert Covariance Matrix (Inverse of the Covariance Matrix between X and X^T )between X and X^T :"
      ]
    },
    {
      "cell_type": "code",
      "metadata": {
        "id": "l310W5uzQ89P",
        "colab": {
          "base_uri": "https://localhost:8080/"
        },
        "outputId": "f6600028-e8c6-4e7e-9c87-a64cf1f60bea"
      },
      "source": [
        "X_Xt_I"
      ],
      "execution_count": 456,
      "outputs": [
        {
          "output_type": "execute_result",
          "data": {
            "text/plain": [
              "array([[0.18351306, 0.12071803],\n",
              "       [0.12071803, 0.1777388 ]])"
            ]
          },
          "metadata": {
            "tags": []
          },
          "execution_count": 456
        }
      ]
    },
    {
      "cell_type": "code",
      "metadata": {
        "id": "muL0V80dONSM"
      },
      "source": [
        ""
      ],
      "execution_count": 456,
      "outputs": []
    },
    {
      "cell_type": "markdown",
      "metadata": {
        "id": "1SsFYe7-MFH2"
      },
      "source": [
        "#To Calculate and Compute the Cross Correlation Vector between X and Y :"
      ]
    },
    {
      "cell_type": "markdown",
      "metadata": {
        "id": "F2VyDk2RPGgm"
      },
      "source": [
        "Given Input Matrix X :"
      ]
    },
    {
      "cell_type": "code",
      "metadata": {
        "colab": {
          "base_uri": "https://localhost:8080/"
        },
        "id": "BaRZb9OsMEpV",
        "outputId": "e2bbe96a-5ea4-4511-cd41-239b6bd42f6c"
      },
      "source": [
        "X = np.array([[2.0,-0.6],[-1.2,3.0],[-2.1,0.9]])\n",
        "X"
      ],
      "execution_count": 457,
      "outputs": [
        {
          "output_type": "execute_result",
          "data": {
            "text/plain": [
              "array([[ 2. , -0.6],\n",
              "       [-1.2,  3. ],\n",
              "       [-2.1,  0.9]])"
            ]
          },
          "metadata": {
            "tags": []
          },
          "execution_count": 457
        }
      ]
    },
    {
      "cell_type": "markdown",
      "metadata": {
        "id": "Ig9oPZMRPH-r"
      },
      "source": [
        "Given Input Matrix Y :"
      ]
    },
    {
      "cell_type": "code",
      "metadata": {
        "colab": {
          "base_uri": "https://localhost:8080/"
        },
        "id": "JYvMufx8MEsF",
        "outputId": "8bd5a4cd-2aec-448d-824a-8b3baed0a3cd"
      },
      "source": [
        "Y = np.array([[3.1],[0.95],[0.25]])\n",
        "Y"
      ],
      "execution_count": 458,
      "outputs": [
        {
          "output_type": "execute_result",
          "data": {
            "text/plain": [
              "array([[3.1 ],\n",
              "       [0.95],\n",
              "       [0.25]])"
            ]
          },
          "metadata": {
            "tags": []
          },
          "execution_count": 458
        }
      ]
    },
    {
      "cell_type": "markdown",
      "metadata": {
        "id": "42wRw_9uPS_Z"
      },
      "source": [
        "To compute and derive the Transpose of Matrix X , as X^T :"
      ]
    },
    {
      "cell_type": "code",
      "metadata": {
        "colab": {
          "base_uri": "https://localhost:8080/"
        },
        "id": "HqKN2vVSMEug",
        "outputId": "f6930acc-ba31-44b7-9ce0-ce696cefff9e"
      },
      "source": [
        "Xt = X.T\n",
        "Xt"
      ],
      "execution_count": 459,
      "outputs": [
        {
          "output_type": "execute_result",
          "data": {
            "text/plain": [
              "array([[ 2. , -1.2, -2.1],\n",
              "       [-0.6,  3. ,  0.9]])"
            ]
          },
          "metadata": {
            "tags": []
          },
          "execution_count": 459
        }
      ]
    },
    {
      "cell_type": "markdown",
      "metadata": {
        "id": "E9xo6aGZPeUY"
      },
      "source": [
        "#Calculating and Computingthe Cross Correlation Vector between X and Y  :"
      ]
    },
    {
      "cell_type": "code",
      "metadata": {
        "colab": {
          "base_uri": "https://localhost:8080/"
        },
        "id": "Ne3XVohyPNbP",
        "outputId": "33f04391-f0fd-4044-b617-43213921a146"
      },
      "source": [
        "Xt_Y = np.dot( Xt, Y )\n",
        "Xt_Y"
      ],
      "execution_count": 460,
      "outputs": [
        {
          "output_type": "execute_result",
          "data": {
            "text/plain": [
              "array([[4.535],\n",
              "       [1.215]])"
            ]
          },
          "metadata": {
            "tags": []
          },
          "execution_count": 460
        }
      ]
    },
    {
      "cell_type": "code",
      "metadata": {
        "id": "03_UZxXvPNd7"
      },
      "source": [
        ""
      ],
      "execution_count": 460,
      "outputs": []
    },
    {
      "cell_type": "markdown",
      "metadata": {
        "id": "t4R2BY4EQZoo"
      },
      "source": [
        "#Computing the Least Squares Solution for the function : y = β1 x1 + β2 x2 , by deriving and determining  the Values of the two unknowns (β1,β2) through implementation of the  Co-Variance Matrix Method :"
      ]
    },
    {
      "cell_type": "markdown",
      "metadata": {
        "id": "reHguXxRRk92"
      },
      "source": [
        "Invert Covariance Matrix between X and X^T :"
      ]
    },
    {
      "cell_type": "code",
      "metadata": {
        "colab": {
          "base_uri": "https://localhost:8080/"
        },
        "id": "rutSbolRQZLu",
        "outputId": "40b3c38d-b7db-4594-fcec-0f653fdd32d5"
      },
      "source": [
        "X_Xt_I"
      ],
      "execution_count": 461,
      "outputs": [
        {
          "output_type": "execute_result",
          "data": {
            "text/plain": [
              "array([[0.18351306, 0.12071803],\n",
              "       [0.12071803, 0.1777388 ]])"
            ]
          },
          "metadata": {
            "tags": []
          },
          "execution_count": 461
        }
      ]
    },
    {
      "cell_type": "markdown",
      "metadata": {
        "id": "Qj1LX0fCRtdF"
      },
      "source": [
        "The Cross Correlation Vector between X and Y :"
      ]
    },
    {
      "cell_type": "code",
      "metadata": {
        "colab": {
          "base_uri": "https://localhost:8080/"
        },
        "id": "KegRqqGmQZOd",
        "outputId": "9bd54c33-fcf1-44b1-94cf-6e2be2117a15"
      },
      "source": [
        "Xt_Y"
      ],
      "execution_count": 462,
      "outputs": [
        {
          "output_type": "execute_result",
          "data": {
            "text/plain": [
              "array([[4.535],\n",
              "       [1.215]])"
            ]
          },
          "metadata": {
            "tags": []
          },
          "execution_count": 462
        }
      ]
    },
    {
      "cell_type": "markdown",
      "metadata": {
        "id": "wxRNDq-xQmZx"
      },
      "source": [
        "#To derive and determine  the Values of β = (β1,β2) :"
      ]
    },
    {
      "cell_type": "code",
      "metadata": {
        "colab": {
          "base_uri": "https://localhost:8080/"
        },
        "id": "9hTNDOMgQZQv",
        "outputId": "50b5788e-465a-4808-c0bd-f2fd14924e88"
      },
      "source": [
        "B = np.dot( X_Xt_I, Xt_Y )\n",
        "B"
      ],
      "execution_count": 463,
      "outputs": [
        {
          "output_type": "execute_result",
          "data": {
            "text/plain": [
              "array([[0.97890412],\n",
              "       [0.7634089 ]])"
            ]
          },
          "metadata": {
            "tags": []
          },
          "execution_count": 463
        }
      ]
    },
    {
      "cell_type": "markdown",
      "metadata": {
        "id": "ECprj5kQRQqR"
      },
      "source": [
        "#The Least Squares Solution for the function : y = β1 x1 + β2 x2 :"
      ]
    },
    {
      "cell_type": "code",
      "metadata": {
        "colab": {
          "base_uri": "https://localhost:8080/"
        },
        "id": "0UVZ-j97PNgs",
        "outputId": "d21f7cd1-abca-4d31-94a2-3d95a47505a0"
      },
      "source": [
        "B"
      ],
      "execution_count": 464,
      "outputs": [
        {
          "output_type": "execute_result",
          "data": {
            "text/plain": [
              "array([[0.97890412],\n",
              "       [0.7634089 ]])"
            ]
          },
          "metadata": {
            "tags": []
          },
          "execution_count": 464
        }
      ]
    },
    {
      "cell_type": "code",
      "metadata": {
        "id": "BgWBp90dPNjF"
      },
      "source": [
        ""
      ],
      "execution_count": 464,
      "outputs": []
    },
    {
      "cell_type": "code",
      "metadata": {
        "id": "irtQcU3wMEwS"
      },
      "source": [
        ""
      ],
      "execution_count": 464,
      "outputs": []
    },
    {
      "cell_type": "code",
      "metadata": {
        "id": "Lj3BZNIwQ9IG"
      },
      "source": [
        ""
      ],
      "execution_count": 464,
      "outputs": []
    }
  ]
}