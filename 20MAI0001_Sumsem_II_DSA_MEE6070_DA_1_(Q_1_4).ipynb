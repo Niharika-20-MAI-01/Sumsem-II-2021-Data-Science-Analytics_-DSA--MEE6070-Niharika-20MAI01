{
  "nbformat": 4,
  "nbformat_minor": 0,
  "metadata": {
    "colab": {
      "name": "20MAI0001_Sumsem-II_DSA-MEE6070_DA-1-(Q_1-4).ipynb",
      "provenance": [],
      "collapsed_sections": [],
      "authorship_tag": "ABX9TyMsG8KyYDmX3P2YYr/wFOyK",
      "include_colab_link": true
    },
    "kernelspec": {
      "display_name": "Python 3",
      "name": "python3"
    },
    "language_info": {
      "name": "python"
    }
  },
  "cells": [
    {
      "cell_type": "markdown",
      "metadata": {
        "id": "view-in-github",
        "colab_type": "text"
      },
      "source": [
        "<a href=\"https://colab.research.google.com/github/Niharika-20-MAI-01/Sumsem-II-2021-Data-Science-Analytics_-DSA--MEE6070-Niharika-20MAI01/blob/main/20MAI0001_Sumsem_II_DSA_MEE6070_DA_1_(Q_1_4).ipynb\" target=\"_parent\"><img src=\"https://colab.research.google.com/assets/colab-badge.svg\" alt=\"Open In Colab\"/></a>"
      ]
    },
    {
      "cell_type": "markdown",
      "metadata": {
        "id": "LOg7CnKzYWSN"
      },
      "source": [
        "#Data Science and Analytics -(MEE 6070) -Digital Assignment -1 : Q-(1-4)\n",
        "\n",
        "#Submitted By: 20MAI0001 - NIHARIKA MAITRA\n",
        "\n",
        "git Repo Link for notebook :  \n",
        "\n",
        "https://github.com/Niharika-20-MAI-01/Sumsem-II-2021-Data-Science-Analytics_-DSA--MEE6070-Niharika-20MAI01/blob/main/20MAI0001_Sumsem_II_DSA_MEE6070_DA_1_(Q_1_4).ipynb\n",
        "\n",
        "https://github.com/Niharika-20-MAI-01/Sumsem-II-2021-Data-Science-Analytics_-DSA--MEE6070-Niharika-20MAI01/blob/main/20MAI0001_Sumsem_II_DSA_MEE6070_DA_1_(Q_1_4).ipynb\n",
        "\n",
        "\n",
        "git Repo Link For datasets used :\n",
        "\n",
        "https://github.com/Niharika-20-MAI-01/Sumsem-II-2021-Data-Science-Analytics_-DSA--MEE6070-Niharika-20MAI01"
      ]
    },
    {
      "cell_type": "markdown",
      "metadata": {
        "id": "Z1cLJCX5deZS"
      },
      "source": [
        "#3.\t**Read a typical CSV file and Write data in Excel sheet using python**"
      ]
    },
    {
      "cell_type": "code",
      "metadata": {
        "colab": {
          "base_uri": "https://localhost:8080/",
          "height": 175
        },
        "id": "qMxhR9uoeZ3o",
        "outputId": "d8dd9f58-63e0-4a19-8ded-9094dc6de1bd"
      },
      "source": [
        "# Import pandas\n",
        "import pandas as pd\n",
        "\n",
        "# Load csv\n",
        "df1 = pd.read_csv(\"titanic_data.csv\")\n",
        "\n",
        "#Read a CSV File\n",
        "df1.head(4)"
      ],
      "execution_count": 142,
      "outputs": [
        {
          "output_type": "execute_result",
          "data": {
            "text/html": [
              "<div>\n",
              "<style scoped>\n",
              "    .dataframe tbody tr th:only-of-type {\n",
              "        vertical-align: middle;\n",
              "    }\n",
              "\n",
              "    .dataframe tbody tr th {\n",
              "        vertical-align: top;\n",
              "    }\n",
              "\n",
              "    .dataframe thead th {\n",
              "        text-align: right;\n",
              "    }\n",
              "</style>\n",
              "<table border=\"1\" class=\"dataframe\">\n",
              "  <thead>\n",
              "    <tr style=\"text-align: right;\">\n",
              "      <th></th>\n",
              "      <th>PassengerId</th>\n",
              "      <th>Survived</th>\n",
              "      <th>Pclass</th>\n",
              "      <th>Name</th>\n",
              "      <th>Sex</th>\n",
              "      <th>Age</th>\n",
              "      <th>SibSp</th>\n",
              "      <th>Parch</th>\n",
              "      <th>Ticket</th>\n",
              "      <th>Fare</th>\n",
              "      <th>Cabin</th>\n",
              "      <th>Embarked</th>\n",
              "    </tr>\n",
              "  </thead>\n",
              "  <tbody>\n",
              "    <tr>\n",
              "      <th>0</th>\n",
              "      <td>1</td>\n",
              "      <td>0</td>\n",
              "      <td>3</td>\n",
              "      <td>Braund, Mr. Owen Harris</td>\n",
              "      <td>male</td>\n",
              "      <td>22.0</td>\n",
              "      <td>1</td>\n",
              "      <td>0</td>\n",
              "      <td>A/5 21171</td>\n",
              "      <td>7.2500</td>\n",
              "      <td>NaN</td>\n",
              "      <td>S</td>\n",
              "    </tr>\n",
              "    <tr>\n",
              "      <th>1</th>\n",
              "      <td>2</td>\n",
              "      <td>1</td>\n",
              "      <td>1</td>\n",
              "      <td>Cumings, Mrs. John Bradley (Florence Briggs Th...</td>\n",
              "      <td>female</td>\n",
              "      <td>38.0</td>\n",
              "      <td>1</td>\n",
              "      <td>0</td>\n",
              "      <td>PC 17599</td>\n",
              "      <td>71.2833</td>\n",
              "      <td>C85</td>\n",
              "      <td>C</td>\n",
              "    </tr>\n",
              "    <tr>\n",
              "      <th>2</th>\n",
              "      <td>3</td>\n",
              "      <td>1</td>\n",
              "      <td>3</td>\n",
              "      <td>Heikkinen, Miss. Laina</td>\n",
              "      <td>female</td>\n",
              "      <td>26.0</td>\n",
              "      <td>0</td>\n",
              "      <td>0</td>\n",
              "      <td>STON/O2. 3101282</td>\n",
              "      <td>7.9250</td>\n",
              "      <td>NaN</td>\n",
              "      <td>S</td>\n",
              "    </tr>\n",
              "    <tr>\n",
              "      <th>3</th>\n",
              "      <td>4</td>\n",
              "      <td>1</td>\n",
              "      <td>1</td>\n",
              "      <td>Futrelle, Mrs. Jacques Heath (Lily May Peel)</td>\n",
              "      <td>female</td>\n",
              "      <td>35.0</td>\n",
              "      <td>1</td>\n",
              "      <td>0</td>\n",
              "      <td>113803</td>\n",
              "      <td>53.1000</td>\n",
              "      <td>C123</td>\n",
              "      <td>S</td>\n",
              "    </tr>\n",
              "  </tbody>\n",
              "</table>\n",
              "</div>"
            ],
            "text/plain": [
              "   PassengerId  Survived  Pclass  ...     Fare Cabin  Embarked\n",
              "0            1         0       3  ...   7.2500   NaN         S\n",
              "1            2         1       1  ...  71.2833   C85         C\n",
              "2            3         1       3  ...   7.9250   NaN         S\n",
              "3            4         1       1  ...  53.1000  C123         S\n",
              "\n",
              "[4 rows x 12 columns]"
            ]
          },
          "metadata": {
            "tags": []
          },
          "execution_count": 142
        }
      ]
    },
    {
      "cell_type": "markdown",
      "metadata": {
        "id": "zbjtYU8vhwP8"
      },
      "source": [
        "#To Write Pandas DataFrames to Excel Files :"
      ]
    },
    {
      "cell_type": "code",
      "metadata": {
        "id": "jMt_m5m0hoDO"
      },
      "source": [
        "# Install `XlsxWriter`\n",
        "#!pip install XlsxWriter"
      ],
      "execution_count": 143,
      "outputs": []
    },
    {
      "cell_type": "code",
      "metadata": {
        "id": "3ExjvHrph7UU"
      },
      "source": [
        "import pandas as pd\n",
        "# Specify a writer\n",
        "writer = pd.ExcelWriter('tt.xlsx', engine='xlsxwriter')\n",
        "\n",
        "# Write your DataFrame to a file \n",
        "# To store the dataframe that you are interested in writing as an excel file  \n",
        "df1.to_excel(writer, 'Sheet1')\n",
        "\n",
        "# Save the result\n",
        "writer.save()"
      ],
      "execution_count": 144,
      "outputs": []
    },
    {
      "cell_type": "code",
      "metadata": {
        "id": "ZV-58uSJh7Yh"
      },
      "source": [
        "# Write the DataFrame to csv\n",
        "df1.to_csv(\"example.csv\")"
      ],
      "execution_count": 145,
      "outputs": []
    },
    {
      "cell_type": "markdown",
      "metadata": {
        "id": "Ej7euHm8Zewr"
      },
      "source": [
        "#Importing a given table through Dataframe using PANDAS in python :"
      ]
    },
    {
      "cell_type": "code",
      "metadata": {
        "colab": {
          "base_uri": "https://localhost:8080/"
        },
        "id": "v-2U_gl4YVun",
        "outputId": "e0a7975b-3431-4680-84d7-83d0b10ea521"
      },
      "source": [
        "import pandas as pd\n",
        "\n",
        "my_dist={'Input-1' : [2.781084,1.465489, 3.396562, 1.38807, 3.064072, 7.627531, 5.332441,6.922597,8.675419,7.673756], \n",
        "         'Input-2' : [2.550537,2.362125,4.400294, 1.85022, 3.005306, 2.759262, 2.088627,1.771064,-0.24207,3.508563], \n",
        "         'Output-1' : [0,0,0,0,0,1,1,1,1,1],\n",
        "         'Output-2' : [\"Apple\", \"Apple\", \"Apple\", \"Apple\", \"Apple\", \"Orange\", \"Orange\",\"Orange\",\"Orange\",\"Orange\"],\n",
        "        }\n",
        "#Load data into a DataFrame instance\n",
        "df=pd.DataFrame(my_dist)\n",
        "print(df.head())\n"
      ],
      "execution_count": 146,
      "outputs": [
        {
          "output_type": "stream",
          "text": [
            "    Input-1   Input-2  Output-1 Output-2\n",
            "0  2.781084  2.550537         0    Apple\n",
            "1  1.465489  2.362125         0    Apple\n",
            "2  3.396562  4.400294         0    Apple\n",
            "3  1.388070  1.850220         0    Apple\n",
            "4  3.064072  3.005306         0    Apple\n"
          ],
          "name": "stdout"
        }
      ]
    },
    {
      "cell_type": "markdown",
      "metadata": {
        "id": "OxvZ82bDfiEu"
      },
      "source": [
        "#To get the contents of a DataFrame as a CSV string\n",
        "\n",
        "\n",
        " \n"
      ]
    },
    {
      "cell_type": "code",
      "metadata": {
        "id": "ymLWOjoTY-zV"
      },
      "source": [
        "import pandas as pds\n",
        "\n",
        "my_dist={'Input-1' : [2.781084,1.465489, 3.396562, 1.38807, 3.064072, 7.627531, 5.332441,6.922597,8.675419,7.673756], \n",
        "         'Input-2' : [2.550537,2.362125,4.400294, 1.85022, 3.005306, 2.759262, 2.088627,1.771064,-0.24207,3.508563], \n",
        "         'Output-1' : [0,0,0,0,0,1,1,1,1,1],\n",
        "         'Output-2' : [\"Apple\", \"Apple\", \"Apple\", \"Apple\", \"Apple\", \"Orange\", \"Orange\",\"Orange\",\"Orange\",\"Orange\"],\n",
        "        }\n",
        "#Load data into a DataFrame instance\n",
        "#dataFrame = pds.DataFrame(data=my_dist, index=(\"Input-1\",\"Input-2\",\"Output-1\",\"Output-2\"));\n",
        "col = pd.DataFrame([my_dist], columns=[\"Input-1\",\"Input-2\",\"Output-1\",\"Output-2\"])"
      ],
      "execution_count": 147,
      "outputs": []
    },
    {
      "cell_type": "code",
      "metadata": {
        "colab": {
          "base_uri": "https://localhost:8080/"
        },
        "id": "qjsw8IgAY-2Q",
        "outputId": "ad210d3d-4a12-428e-c610-7b86634799a4"
      },
      "source": [
        "#Get the contents of the DataFrame as a CSV file\n",
        "\n",
        "csv=col.to_csv();\n",
        "\n",
        "print(\"Contents of the DataFrame as a CSV string:\")\n",
        "\n",
        "print(csv);\n"
      ],
      "execution_count": 148,
      "outputs": [
        {
          "output_type": "stream",
          "text": [
            "Contents of the DataFrame as a CSV string:\n",
            ",Input-1,Input-2,Output-1,Output-2\n",
            "0,\"[2.781084, 1.465489, 3.396562, 1.38807, 3.064072, 7.627531, 5.332441, 6.922597, 8.675419, 7.673756]\",\"[2.550537, 2.362125, 4.400294, 1.85022, 3.005306, 2.759262, 2.088627, 1.771064, -0.24207, 3.508563]\",\"[0, 0, 0, 0, 0, 1, 1, 1, 1, 1]\",\"['Apple', 'Apple', 'Apple', 'Apple', 'Apple', 'Orange', 'Orange', 'Orange', 'Orange', 'Orange']\"\n",
            "\n"
          ],
          "name": "stdout"
        }
      ]
    },
    {
      "cell_type": "markdown",
      "metadata": {
        "id": "HzJDiDKajRmT"
      },
      "source": [
        "#To write the contents of a DataFrame to a buffer"
      ]
    },
    {
      "cell_type": "code",
      "metadata": {
        "id": "yKyYZrCmY-8I"
      },
      "source": [
        "import pandas as pds\n",
        "from io import StringIO\n",
        "\n",
        "my_dist={'Input-1' : [2.781084,1.465489, 3.396562, 1.38807, 3.064072, 7.627531, 5.332441,6.922597,8.675419,7.673756], \n",
        "         'Input-2' : [2.550537,2.362125,4.400294, 1.85022, 3.005306, 2.759262, 2.088627,1.771064,-0.24207,3.508563], \n",
        "         'Output-1' : [0,0,0,0,0,1,1,1,1,1],\n",
        "         'Output-2' : [\"Apple\", \"Apple\", \"Apple\", \"Apple\", \"Apple\", \"Orange\", \"Orange\",\"Orange\",\"Orange\",\"Orange\"],\n",
        "        }\n",
        "\n",
        "# Load data from the Python dictionary into a DataFrame instance\n",
        "dataFrame = pds.DataFrame(data=my_dist);\n"
      ],
      "execution_count": 149,
      "outputs": []
    },
    {
      "cell_type": "code",
      "metadata": {
        "colab": {
          "base_uri": "https://localhost:8080/"
        },
        "id": "tncDAobLY--n",
        "outputId": "0ef83793-2cf0-473a-981c-df88020c4eaf"
      },
      "source": [
        "# Create an in-memory text stream\n",
        "textStream = StringIO();\n",
        "\n",
        "# Write the DataFrame contents to the text stream's buffer as a CSV\n",
        "dataFrame.to_csv(textStream);\n",
        "print(\"DataFrame as CSV (from the buffer):\");\n",
        "\n",
        "# Print the buffer contents\n",
        "print(textStream.getvalue());"
      ],
      "execution_count": 150,
      "outputs": [
        {
          "output_type": "stream",
          "text": [
            "DataFrame as CSV (from the buffer):\n",
            ",Input-1,Input-2,Output-1,Output-2\n",
            "0,2.781084,2.550537,0,Apple\n",
            "1,1.465489,2.362125,0,Apple\n",
            "2,3.396562,4.400294,0,Apple\n",
            "3,1.38807,1.85022,0,Apple\n",
            "4,3.064072,3.005306,0,Apple\n",
            "5,7.627531,2.759262,1,Orange\n",
            "6,5.332441,2.088627,1,Orange\n",
            "7,6.922597,1.771064,1,Orange\n",
            "8,8.675419,-0.24207,1,Orange\n",
            "9,7.673756,3.508563,1,Orange\n",
            "\n"
          ],
          "name": "stdout"
        }
      ]
    },
    {
      "cell_type": "markdown",
      "metadata": {
        "id": "BxIlU-qRywqP"
      },
      "source": [
        "#To Read Excel Files Using PANDAS :"
      ]
    },
    {
      "cell_type": "code",
      "metadata": {
        "id": "IO_uKhgzynFV"
      },
      "source": [
        "import pandas as pd\n",
        "import numpy as np \n",
        "\n",
        "from google.colab import files\n",
        "#uploaded = files.upload()\n"
      ],
      "execution_count": 151,
      "outputs": []
    },
    {
      "cell_type": "code",
      "metadata": {
        "colab": {
          "base_uri": "https://localhost:8080/",
          "height": 206
        },
        "id": "o_Bm3ofTynP7",
        "outputId": "e8908516-41e7-4919-8cf7-d570e9ab1582"
      },
      "source": [
        "import io\n",
        "df2 = pd.read_excel(io.BytesIO(uploaded['Bev_nm.xlsx']))\n",
        "df2.head()"
      ],
      "execution_count": 152,
      "outputs": [
        {
          "output_type": "execute_result",
          "data": {
            "text/html": [
              "<div>\n",
              "<style scoped>\n",
              "    .dataframe tbody tr th:only-of-type {\n",
              "        vertical-align: middle;\n",
              "    }\n",
              "\n",
              "    .dataframe tbody tr th {\n",
              "        vertical-align: top;\n",
              "    }\n",
              "\n",
              "    .dataframe thead th {\n",
              "        text-align: right;\n",
              "    }\n",
              "</style>\n",
              "<table border=\"1\" class=\"dataframe\">\n",
              "  <thead>\n",
              "    <tr style=\"text-align: right;\">\n",
              "      <th></th>\n",
              "      <th>Name</th>\n",
              "      <th>Potassium</th>\n",
              "      <th>Sodium</th>\n",
              "      <th>Caffeine</th>\n",
              "      <th>Cost</th>\n",
              "    </tr>\n",
              "  </thead>\n",
              "  <tbody>\n",
              "    <tr>\n",
              "      <th>0</th>\n",
              "      <td>new_england_coffee</td>\n",
              "      <td>144</td>\n",
              "      <td>15</td>\n",
              "      <td>4.7</td>\n",
              "      <td>0.43</td>\n",
              "    </tr>\n",
              "    <tr>\n",
              "      <th>1</th>\n",
              "      <td>post_alley_blend</td>\n",
              "      <td>151</td>\n",
              "      <td>19</td>\n",
              "      <td>4.9</td>\n",
              "      <td>0.43</td>\n",
              "    </tr>\n",
              "    <tr>\n",
              "      <th>2</th>\n",
              "      <td>stumpdown_coffee</td>\n",
              "      <td>157</td>\n",
              "      <td>15</td>\n",
              "      <td>0.9</td>\n",
              "      <td>0.48</td>\n",
              "    </tr>\n",
              "    <tr>\n",
              "      <th>3</th>\n",
              "      <td>bizzy_organic_coffee</td>\n",
              "      <td>170</td>\n",
              "      <td>7</td>\n",
              "      <td>5.2</td>\n",
              "      <td>0.73</td>\n",
              "    </tr>\n",
              "    <tr>\n",
              "      <th>4</th>\n",
              "      <td>indian_bean</td>\n",
              "      <td>152</td>\n",
              "      <td>11</td>\n",
              "      <td>5.0</td>\n",
              "      <td>0.77</td>\n",
              "    </tr>\n",
              "  </tbody>\n",
              "</table>\n",
              "</div>"
            ],
            "text/plain": [
              "                   Name  Potassium  Sodium  Caffeine  Cost\n",
              "0    new_england_coffee        144      15       4.7  0.43\n",
              "1      post_alley_blend        151      19       4.9  0.43\n",
              "2      stumpdown_coffee        157      15       0.9  0.48\n",
              "3  bizzy_organic_coffee        170       7       5.2  0.73\n",
              "4           indian_bean        152      11       5.0  0.77"
            ]
          },
          "metadata": {
            "tags": []
          },
          "execution_count": 152
        }
      ]
    },
    {
      "cell_type": "code",
      "metadata": {
        "id": "0MgJ5wLqynXE"
      },
      "source": [
        ""
      ],
      "execution_count": 152,
      "outputs": []
    },
    {
      "cell_type": "markdown",
      "metadata": {
        "id": "81cwzMocdE3h"
      },
      "source": [
        "#2.\t**Extract data using web scraping with python from a typical web source**"
      ]
    },
    {
      "cell_type": "markdown",
      "metadata": {
        "id": "a6E2PdgnnWmS"
      },
      "source": [
        "#To Implement Web Scrapping on the Weather Forecasting webpage of the National Weather Service’s website of the US :"
      ]
    },
    {
      "cell_type": "code",
      "metadata": {
        "colab": {
          "base_uri": "https://localhost:8080/"
        },
        "id": "O6dkkN3inUfd",
        "outputId": "ea48edba-12b0-47f3-dd30-9b40b422b031"
      },
      "source": [
        "from urllib.request import urlopen\n",
        "import requests\n",
        "page = requests.get(\"https://forecast.weather.gov/MapClick.php?lat=37.7772&lon=-122.4168\")\n",
        "page\n",
        "page.status_code"
      ],
      "execution_count": 153,
      "outputs": [
        {
          "output_type": "execute_result",
          "data": {
            "text/plain": [
              "200"
            ]
          },
          "metadata": {
            "tags": []
          },
          "execution_count": 153
        }
      ]
    },
    {
      "cell_type": "code",
      "metadata": {
        "id": "NPfB2QwUnUiy"
      },
      "source": [
        "from bs4 import BeautifulSoup\n",
        "soup_wf = BeautifulSoup(page.content, 'html.parser')"
      ],
      "execution_count": 154,
      "outputs": []
    },
    {
      "cell_type": "markdown",
      "metadata": {
        "id": "idhAgXv6oO3L"
      },
      "source": [
        "To check the type of each element in the list :"
      ]
    },
    {
      "cell_type": "code",
      "metadata": {
        "colab": {
          "base_uri": "https://localhost:8080/"
        },
        "id": "IE4mM9IWnUlC",
        "outputId": "bd3f16af-7597-408f-ccd5-8d1956a443f3"
      },
      "source": [
        "[type(item) for item in list(soup_wf.children)]"
      ],
      "execution_count": 155,
      "outputs": [
        {
          "output_type": "execute_result",
          "data": {
            "text/plain": [
              "[bs4.element.Doctype,\n",
              " bs4.element.NavigableString,\n",
              " bs4.element.Tag,\n",
              " bs4.element.NavigableString,\n",
              " bs4.element.Tag,\n",
              " bs4.element.NavigableString,\n",
              " bs4.element.NavigableString,\n",
              " bs4.element.NavigableString,\n",
              " bs4.element.NavigableString]"
            ]
          },
          "metadata": {
            "tags": []
          },
          "execution_count": 155
        }
      ]
    },
    {
      "cell_type": "markdown",
      "metadata": {
        "id": "ervLxuK7iVGD"
      },
      "source": [
        "Since 'find_all' returns a list, so it is required to loop through, or use list indexing, in order to to extract the text:"
      ]
    },
    {
      "cell_type": "code",
      "metadata": {
        "colab": {
          "base_uri": "https://localhost:8080/"
        },
        "id": "T1AfhIyAnUn9",
        "outputId": "37d0c72f-2200-448e-98d2-5c1bd7bd9aa8"
      },
      "source": [
        "for i in range(10, 21) :\n",
        "    print(soup_wf.find_all('div')[i].get_text())"
      ],
      "execution_count": 156,
      "outputs": [
        {
          "output_type": "stream",
          "text": [
            "Multiple locations were found. Please select one of the following:\n",
            "\n",
            "\n",
            "Your local forecast office is\n",
            "\n",
            "\n",
            "\n",
            "\n",
            "\n",
            "\n",
            "Flash Flooding and Heat Threats Will Exist Into the Weekend\n",
            "\n",
            "            Heavy rain may result in flash flooding from the central Plains into New England on Friday through Saturday. Flash flooding will also be possible in the Southwest through the weekend. Excessive heat is forecast in portions of the Mid-Atlantic on Friday and northern Rockies and High Plains this weekend into next week.\r\n",
            "\n",
            "            Read More >\n",
            "\n",
            "\n",
            "\n",
            "\n",
            "\n",
            "\n",
            "\n",
            "Flash Flooding and Heat Threats Will Exist Into the Weekend\n",
            "\n",
            "            Heavy rain may result in flash flooding from the central Plains into New England on Friday through Saturday. Flash flooding will also be possible in the Southwest through the weekend. Excessive heat is forecast in portions of the Mid-Atlantic on Friday and northern Rockies and High Plains this weekend into next week.\r\n",
            "\n",
            "            Read More >\n",
            "\n",
            "\n",
            "\n",
            "\n",
            "\n",
            "Flash Flooding and Heat Threats Will Exist Into the Weekend\n",
            "\n",
            "            Heavy rain may result in flash flooding from the central Plains into New England on Friday through Saturday. Flash flooding will also be possible in the Southwest through the weekend. Excessive heat is forecast in portions of the Mid-Atlantic on Friday and northern Rockies and High Plains this weekend into next week.\r\n",
            "\n",
            "            Read More >\n",
            "\n",
            "\n",
            "\n",
            "En Español\n",
            "\n",
            "Share\n",
            "|\n",
            "\n",
            "\n",
            "\n",
            "\n",
            "\n",
            "\n",
            "\n",
            "\t\tvar addthis_config = addthis_config || {data_track_addressbar:true, pubid: 'xa-4b05b2d91f18c9cc'};\n",
            "\t    $(document).ready(function(){\n",
            "\t\t\tjQuery.ajax({\n",
            "\t\t\t\turl: \"//s7.addthis.com/js/300/addthis_widget.js#async=1\",\n",
            "\t\t\t\tdataType: \"script\",\n",
            "\t\t\t\tcache: false\n",
            "\t\t\t});\n",
            "\t    });\n",
            "\t\n",
            "\n",
            "\n",
            "Share\n",
            "|\n",
            "\n",
            "\n",
            "\n",
            "\n",
            "\n",
            "\n",
            "\n",
            "\n",
            "\n",
            "\n",
            "Current conditions at\n",
            "SAN FRANCISCO DOWNTOWN (SFOC1)\n",
            "Lat: 37.77056°NLon: 122.42694°WElev: 150ft.\n",
            "\n",
            "\n",
            "\n",
            "\n",
            "\n",
            "NA\n",
            "53°F\n",
            "12°C\n",
            "\n",
            "\n",
            "\n",
            "\n",
            "Humidity\n",
            "93%\n",
            "\n",
            "\n",
            "Wind Speed\n",
            "NA NA MPH\n",
            "\n",
            "\n",
            "Barometer\n",
            "NA\n",
            "\n",
            "\n",
            "Dewpoint\n",
            "51°F (11°C)\n",
            "\n",
            "\n",
            "Visibility\n",
            "NA\n",
            "\n",
            "\n",
            "Last update\n",
            "\n",
            "                16 Jul 01:43 AM PDT            \n",
            "\n",
            "\n",
            "\n",
            "\n",
            "\n",
            "\n",
            "More Information:Local Forecast OfficeMore Local Wx3 Day HistoryMobile WeatherHourly Weather Forecast \n",
            "\n",
            "\n",
            "\n",
            "\n",
            "\n",
            "\n",
            "\n",
            "\n",
            "Current conditions at\n",
            "SAN FRANCISCO DOWNTOWN (SFOC1)\n",
            "Lat: 37.77056°NLon: 122.42694°WElev: 150ft.\n",
            "\n",
            "\n"
          ],
          "name": "stdout"
        }
      ]
    },
    {
      "cell_type": "markdown",
      "metadata": {
        "id": "0zeCUThVlN_b"
      },
      "source": [
        "To search for elements / tags that contains the id 'seven-day-forecast' in the concerned HTML document:"
      ]
    },
    {
      "cell_type": "code",
      "metadata": {
        "colab": {
          "base_uri": "https://localhost:8080/"
        },
        "id": "xWl2Ue1BlNmj",
        "outputId": "e0d7b5f7-ba62-4445-d71f-7182c801fa4d"
      },
      "source": [
        "soup_wf.find_all(id='seven-day-forecast')"
      ],
      "execution_count": 157,
      "outputs": [
        {
          "output_type": "execute_result",
          "data": {
            "text/plain": [
              "[<div class=\"panel panel-default\" id=\"seven-day-forecast\">\n",
              " <div class=\"panel-heading\">\n",
              " <b>Extended Forecast for</b>\n",
              " <h2 class=\"panel-title\">\n",
              " \t    \t    San Francisco CA\t</h2>\n",
              " </div>\n",
              " <div class=\"panel-body\" id=\"seven-day-forecast-body\">\n",
              " <div id=\"seven-day-forecast-container\"><ul class=\"list-unstyled\" id=\"seven-day-forecast-list\"><li class=\"forecast-tombstone\">\n",
              " <div class=\"tombstone-container\">\n",
              " <p class=\"period-name\">Overnight<br/><br/></p>\n",
              " <p><img alt=\"Overnight: Mostly cloudy, with a low around 54. Southwest wind around 8 mph. \" class=\"forecast-icon\" src=\"newimages/medium/nbkn.png\" title=\"Overnight: Mostly cloudy, with a low around 54. Southwest wind around 8 mph. \"/></p><p class=\"short-desc\">Mostly Cloudy</p><p class=\"temp temp-low\">Low: 54 °F</p></div></li><li class=\"forecast-tombstone\">\n",
              " <div class=\"tombstone-container\">\n",
              " <p class=\"period-name\">Friday<br/><br/></p>\n",
              " <p><img alt=\"Friday: Cloudy through mid morning, then gradual clearing, with a high near 65. Southwest wind 7 to 12 mph increasing to 16 to 21 mph in the afternoon. Winds could gust as high as 28 mph. \" class=\"forecast-icon\" src=\"newimages/medium/bkn.png\" title=\"Friday: Cloudy through mid morning, then gradual clearing, with a high near 65. Southwest wind 7 to 12 mph increasing to 16 to 21 mph in the afternoon. Winds could gust as high as 28 mph. \"/></p><p class=\"short-desc\">Gradual<br/>Clearing</p><p class=\"temp temp-high\">High: 65 °F</p></div></li><li class=\"forecast-tombstone\">\n",
              " <div class=\"tombstone-container\">\n",
              " <p class=\"period-name\">Friday<br/>Night</p>\n",
              " <p><img alt=\"Friday Night: Partly cloudy, with a low around 54. Breezy, with a southwest wind 17 to 22 mph decreasing to 9 to 14 mph in the evening. Winds could gust as high as 28 mph. \" class=\"forecast-icon\" src=\"DualImage.php?i=nwind_sct&amp;j=nbkn\" title=\"Friday Night: Partly cloudy, with a low around 54. Breezy, with a southwest wind 17 to 22 mph decreasing to 9 to 14 mph in the evening. Winds could gust as high as 28 mph. \"/></p><p class=\"short-desc\">Partly Cloudy<br/>and Breezy<br/>then Mostly<br/>Cloudy</p><p class=\"temp temp-low\">Low: 54 °F</p></div></li><li class=\"forecast-tombstone\">\n",
              " <div class=\"tombstone-container\">\n",
              " <p class=\"period-name\">Saturday<br/><br/></p>\n",
              " <p><img alt=\"Saturday: Mostly sunny, with a high near 68. Southwest wind 11 to 21 mph, with gusts as high as 26 mph. \" class=\"forecast-icon\" src=\"newimages/medium/sct.png\" title=\"Saturday: Mostly sunny, with a high near 68. Southwest wind 11 to 21 mph, with gusts as high as 26 mph. \"/></p><p class=\"short-desc\">Mostly Sunny</p><p class=\"temp temp-high\">High: 68 °F</p></div></li><li class=\"forecast-tombstone\">\n",
              " <div class=\"tombstone-container\">\n",
              " <p class=\"period-name\">Saturday<br/>Night</p>\n",
              " <p><img alt=\"Saturday Night: Partly cloudy, with a low around 54. Breezy, with a west southwest wind 14 to 22 mph, with gusts as high as 28 mph. \" class=\"forecast-icon\" src=\"DualImage.php?i=nwind_sct&amp;j=nbkn\" title=\"Saturday Night: Partly cloudy, with a low around 54. Breezy, with a west southwest wind 14 to 22 mph, with gusts as high as 28 mph. \"/></p><p class=\"short-desc\">Partly Cloudy<br/>and Breezy<br/>then Mostly<br/>Cloudy</p><p class=\"temp temp-low\">Low: 54 °F</p></div></li><li class=\"forecast-tombstone\">\n",
              " <div class=\"tombstone-container\">\n",
              " <p class=\"period-name\">Sunday<br/><br/></p>\n",
              " <p><img alt=\"Sunday: Mostly sunny, with a high near 68.\" class=\"forecast-icon\" src=\"newimages/medium/sct.png\" title=\"Sunday: Mostly sunny, with a high near 68.\"/></p><p class=\"short-desc\">Mostly Sunny</p><p class=\"temp temp-high\">High: 68 °F</p></div></li><li class=\"forecast-tombstone\">\n",
              " <div class=\"tombstone-container\">\n",
              " <p class=\"period-name\">Sunday<br/>Night</p>\n",
              " <p><img alt=\"Sunday Night: Mostly cloudy, with a low around 55.\" class=\"forecast-icon\" src=\"newimages/medium/nbkn.png\" title=\"Sunday Night: Mostly cloudy, with a low around 55.\"/></p><p class=\"short-desc\">Mostly Cloudy</p><p class=\"temp temp-low\">Low: 55 °F</p></div></li><li class=\"forecast-tombstone\">\n",
              " <div class=\"tombstone-container\">\n",
              " <p class=\"period-name\">Monday<br/><br/></p>\n",
              " <p><img alt=\"Monday: Mostly sunny, with a high near 69.\" class=\"forecast-icon\" src=\"newimages/medium/sct.png\" title=\"Monday: Mostly sunny, with a high near 69.\"/></p><p class=\"short-desc\">Mostly Sunny</p><p class=\"temp temp-high\">High: 69 °F</p></div></li><li class=\"forecast-tombstone\">\n",
              " <div class=\"tombstone-container\">\n",
              " <p class=\"period-name\">Monday<br/>Night</p>\n",
              " <p><img alt=\"Monday Night: Partly cloudy, with a low around 55.\" class=\"forecast-icon\" src=\"newimages/medium/nsct.png\" title=\"Monday Night: Partly cloudy, with a low around 55.\"/></p><p class=\"short-desc\">Partly Cloudy</p><p class=\"temp temp-low\">Low: 55 °F</p></div></li></ul></div>\n",
              " <script type=\"text/javascript\">\n",
              " // equalize forecast heights\n",
              " $(function () {\n",
              " \tvar maxh = 0;\n",
              " \t$(\".forecast-tombstone .short-desc\").each(function () {\n",
              " \t\tvar h = $(this).height();\n",
              " \t\tif (h > maxh) { maxh = h; }\n",
              " \t});\n",
              " \t$(\".forecast-tombstone .short-desc\").height(maxh);\n",
              " });\n",
              " </script> </div>\n",
              " </div>]"
            ]
          },
          "metadata": {
            "tags": []
          },
          "execution_count": 157
        }
      ]
    },
    {
      "cell_type": "markdown",
      "metadata": {
        "id": "IDBRA79Mopa6"
      },
      "source": [
        "To Find the div with id seven-day-forecast, and assign it to sd variable :"
      ]
    },
    {
      "cell_type": "code",
      "metadata": {
        "colab": {
          "base_uri": "https://localhost:8080/"
        },
        "id": "wZd_G3pUnUqv",
        "outputId": "1f4284bc-e47f-4f3e-be49-a2c9ba0b3daf"
      },
      "source": [
        "sd = soup_wf.find(id=\"seven-day-forecast\")\n",
        "sd"
      ],
      "execution_count": 158,
      "outputs": [
        {
          "output_type": "execute_result",
          "data": {
            "text/plain": [
              "<div class=\"panel panel-default\" id=\"seven-day-forecast\">\n",
              "<div class=\"panel-heading\">\n",
              "<b>Extended Forecast for</b>\n",
              "<h2 class=\"panel-title\">\n",
              "\t    \t    San Francisco CA\t</h2>\n",
              "</div>\n",
              "<div class=\"panel-body\" id=\"seven-day-forecast-body\">\n",
              "<div id=\"seven-day-forecast-container\"><ul class=\"list-unstyled\" id=\"seven-day-forecast-list\"><li class=\"forecast-tombstone\">\n",
              "<div class=\"tombstone-container\">\n",
              "<p class=\"period-name\">Overnight<br/><br/></p>\n",
              "<p><img alt=\"Overnight: Mostly cloudy, with a low around 54. Southwest wind around 8 mph. \" class=\"forecast-icon\" src=\"newimages/medium/nbkn.png\" title=\"Overnight: Mostly cloudy, with a low around 54. Southwest wind around 8 mph. \"/></p><p class=\"short-desc\">Mostly Cloudy</p><p class=\"temp temp-low\">Low: 54 °F</p></div></li><li class=\"forecast-tombstone\">\n",
              "<div class=\"tombstone-container\">\n",
              "<p class=\"period-name\">Friday<br/><br/></p>\n",
              "<p><img alt=\"Friday: Cloudy through mid morning, then gradual clearing, with a high near 65. Southwest wind 7 to 12 mph increasing to 16 to 21 mph in the afternoon. Winds could gust as high as 28 mph. \" class=\"forecast-icon\" src=\"newimages/medium/bkn.png\" title=\"Friday: Cloudy through mid morning, then gradual clearing, with a high near 65. Southwest wind 7 to 12 mph increasing to 16 to 21 mph in the afternoon. Winds could gust as high as 28 mph. \"/></p><p class=\"short-desc\">Gradual<br/>Clearing</p><p class=\"temp temp-high\">High: 65 °F</p></div></li><li class=\"forecast-tombstone\">\n",
              "<div class=\"tombstone-container\">\n",
              "<p class=\"period-name\">Friday<br/>Night</p>\n",
              "<p><img alt=\"Friday Night: Partly cloudy, with a low around 54. Breezy, with a southwest wind 17 to 22 mph decreasing to 9 to 14 mph in the evening. Winds could gust as high as 28 mph. \" class=\"forecast-icon\" src=\"DualImage.php?i=nwind_sct&amp;j=nbkn\" title=\"Friday Night: Partly cloudy, with a low around 54. Breezy, with a southwest wind 17 to 22 mph decreasing to 9 to 14 mph in the evening. Winds could gust as high as 28 mph. \"/></p><p class=\"short-desc\">Partly Cloudy<br/>and Breezy<br/>then Mostly<br/>Cloudy</p><p class=\"temp temp-low\">Low: 54 °F</p></div></li><li class=\"forecast-tombstone\">\n",
              "<div class=\"tombstone-container\">\n",
              "<p class=\"period-name\">Saturday<br/><br/></p>\n",
              "<p><img alt=\"Saturday: Mostly sunny, with a high near 68. Southwest wind 11 to 21 mph, with gusts as high as 26 mph. \" class=\"forecast-icon\" src=\"newimages/medium/sct.png\" title=\"Saturday: Mostly sunny, with a high near 68. Southwest wind 11 to 21 mph, with gusts as high as 26 mph. \"/></p><p class=\"short-desc\">Mostly Sunny</p><p class=\"temp temp-high\">High: 68 °F</p></div></li><li class=\"forecast-tombstone\">\n",
              "<div class=\"tombstone-container\">\n",
              "<p class=\"period-name\">Saturday<br/>Night</p>\n",
              "<p><img alt=\"Saturday Night: Partly cloudy, with a low around 54. Breezy, with a west southwest wind 14 to 22 mph, with gusts as high as 28 mph. \" class=\"forecast-icon\" src=\"DualImage.php?i=nwind_sct&amp;j=nbkn\" title=\"Saturday Night: Partly cloudy, with a low around 54. Breezy, with a west southwest wind 14 to 22 mph, with gusts as high as 28 mph. \"/></p><p class=\"short-desc\">Partly Cloudy<br/>and Breezy<br/>then Mostly<br/>Cloudy</p><p class=\"temp temp-low\">Low: 54 °F</p></div></li><li class=\"forecast-tombstone\">\n",
              "<div class=\"tombstone-container\">\n",
              "<p class=\"period-name\">Sunday<br/><br/></p>\n",
              "<p><img alt=\"Sunday: Mostly sunny, with a high near 68.\" class=\"forecast-icon\" src=\"newimages/medium/sct.png\" title=\"Sunday: Mostly sunny, with a high near 68.\"/></p><p class=\"short-desc\">Mostly Sunny</p><p class=\"temp temp-high\">High: 68 °F</p></div></li><li class=\"forecast-tombstone\">\n",
              "<div class=\"tombstone-container\">\n",
              "<p class=\"period-name\">Sunday<br/>Night</p>\n",
              "<p><img alt=\"Sunday Night: Mostly cloudy, with a low around 55.\" class=\"forecast-icon\" src=\"newimages/medium/nbkn.png\" title=\"Sunday Night: Mostly cloudy, with a low around 55.\"/></p><p class=\"short-desc\">Mostly Cloudy</p><p class=\"temp temp-low\">Low: 55 °F</p></div></li><li class=\"forecast-tombstone\">\n",
              "<div class=\"tombstone-container\">\n",
              "<p class=\"period-name\">Monday<br/><br/></p>\n",
              "<p><img alt=\"Monday: Mostly sunny, with a high near 69.\" class=\"forecast-icon\" src=\"newimages/medium/sct.png\" title=\"Monday: Mostly sunny, with a high near 69.\"/></p><p class=\"short-desc\">Mostly Sunny</p><p class=\"temp temp-high\">High: 69 °F</p></div></li><li class=\"forecast-tombstone\">\n",
              "<div class=\"tombstone-container\">\n",
              "<p class=\"period-name\">Monday<br/>Night</p>\n",
              "<p><img alt=\"Monday Night: Partly cloudy, with a low around 55.\" class=\"forecast-icon\" src=\"newimages/medium/nsct.png\" title=\"Monday Night: Partly cloudy, with a low around 55.\"/></p><p class=\"short-desc\">Partly Cloudy</p><p class=\"temp temp-low\">Low: 55 °F</p></div></li></ul></div>\n",
              "<script type=\"text/javascript\">\n",
              "// equalize forecast heights\n",
              "$(function () {\n",
              "\tvar maxh = 0;\n",
              "\t$(\".forecast-tombstone .short-desc\").each(function () {\n",
              "\t\tvar h = $(this).height();\n",
              "\t\tif (h > maxh) { maxh = h; }\n",
              "\t});\n",
              "\t$(\".forecast-tombstone .short-desc\").height(maxh);\n",
              "});\n",
              "</script> </div>\n",
              "</div>"
            ]
          },
          "metadata": {
            "tags": []
          },
          "execution_count": 158
        }
      ]
    },
    {
      "cell_type": "markdown",
      "metadata": {
        "id": "0qyfd1bIo0v3"
      },
      "source": [
        "#To Extract and print the fourth weather forecast item :"
      ]
    },
    {
      "cell_type": "code",
      "metadata": {
        "colab": {
          "base_uri": "https://localhost:8080/"
        },
        "id": "VnMS3e-lnUtc",
        "outputId": "21d2a696-dd94-460b-c276-0bd940dda7f1"
      },
      "source": [
        "fi = sd.find_all(class_=\"tombstone-container\")\n",
        "fi\n",
        "t = fi[3]\n",
        "print(t.prettify())"
      ],
      "execution_count": 159,
      "outputs": [
        {
          "output_type": "stream",
          "text": [
            "<div class=\"tombstone-container\">\n",
            " <p class=\"period-name\">\n",
            "  Saturday\n",
            "  <br/>\n",
            "  <br/>\n",
            " </p>\n",
            " <p>\n",
            "  <img alt=\"Saturday: Mostly sunny, with a high near 68. Southwest wind 11 to 21 mph, with gusts as high as 26 mph. \" class=\"forecast-icon\" src=\"newimages/medium/sct.png\" title=\"Saturday: Mostly sunny, with a high near 68. Southwest wind 11 to 21 mph, with gusts as high as 26 mph. \"/>\n",
            " </p>\n",
            " <p class=\"short-desc\">\n",
            "  Mostly Sunny\n",
            " </p>\n",
            " <p class=\"temp temp-high\">\n",
            "  High: 68 °F\n",
            " </p>\n",
            "</div>\n"
          ],
          "name": "stdout"
        }
      ]
    },
    {
      "cell_type": "markdown",
      "metadata": {
        "id": "Yj6-ivfMIMgr"
      },
      "source": [
        "#To extract the name of the weather forecast item, the short description related to it, and the corresponding temperature of the particular weather forecast item:"
      ]
    },
    {
      "cell_type": "code",
      "metadata": {
        "colab": {
          "base_uri": "https://localhost:8080/",
          "height": 36
        },
        "id": "37_VWwTjIJDA",
        "outputId": "46a6ba61-07ac-42f0-be09-4f6d77dddc1d"
      },
      "source": [
        "#To extract the time period / name of the weather forecast item:\n",
        "time1 = t.find(class_=\"period-name\").get_text()\n",
        "time1"
      ],
      "execution_count": 160,
      "outputs": [
        {
          "output_type": "execute_result",
          "data": {
            "application/vnd.google.colaboratory.intrinsic+json": {
              "type": "string"
            },
            "text/plain": [
              "'Saturday'"
            ]
          },
          "metadata": {
            "tags": []
          },
          "execution_count": 160
        }
      ]
    },
    {
      "cell_type": "code",
      "metadata": {
        "colab": {
          "base_uri": "https://localhost:8080/",
          "height": 36
        },
        "id": "oXs-tHmuIJSN",
        "outputId": "d5cd74a5-7a49-4ff1-b7bc-3b61b04572ca"
      },
      "source": [
        "#To extract the description of the realted weather conditions of the weather forecast item:\n",
        "short_desc1 = t.find(class_=\"short-desc\").get_text()\n",
        "short_desc1"
      ],
      "execution_count": 161,
      "outputs": [
        {
          "output_type": "execute_result",
          "data": {
            "application/vnd.google.colaboratory.intrinsic+json": {
              "type": "string"
            },
            "text/plain": [
              "'Mostly Sunny'"
            ]
          },
          "metadata": {
            "tags": []
          },
          "execution_count": 161
        }
      ]
    },
    {
      "cell_type": "code",
      "metadata": {
        "colab": {
          "base_uri": "https://localhost:8080/",
          "height": 36
        },
        "id": "VFNTKmE1IJdI",
        "outputId": "d52e74bf-b737-4467-a42a-806ab35a6f15"
      },
      "source": [
        "#To extract the The temperature of the weather forecast item:\n",
        "temp1 = t.find(class_=\"temp\").get_text()\n",
        "temp1"
      ],
      "execution_count": 162,
      "outputs": [
        {
          "output_type": "execute_result",
          "data": {
            "application/vnd.google.colaboratory.intrinsic+json": {
              "type": "string"
            },
            "text/plain": [
              "'High: 68 °F'"
            ]
          },
          "metadata": {
            "tags": []
          },
          "execution_count": 162
        }
      ]
    },
    {
      "cell_type": "code",
      "metadata": {
        "colab": {
          "base_uri": "https://localhost:8080/"
        },
        "id": "WiOQ52AWIJm5",
        "outputId": "cad27f96-5273-43e1-89e2-8ff560cd6897"
      },
      "source": [
        "#To extract the 'title' attribute from the img tag of the concerned weather forecast item :\n",
        "img1 = t.find(\"img\")\n",
        "title1 = img1['title']\n",
        "print(title1)"
      ],
      "execution_count": 163,
      "outputs": [
        {
          "output_type": "stream",
          "text": [
            "Saturday: Mostly sunny, with a high near 68. Southwest wind 11 to 21 mph, with gusts as high as 26 mph. \n"
          ],
          "name": "stdout"
        }
      ]
    },
    {
      "cell_type": "code",
      "metadata": {
        "id": "QURKuWyvJabt"
      },
      "source": [
        ""
      ],
      "execution_count": 163,
      "outputs": []
    },
    {
      "cell_type": "markdown",
      "metadata": {
        "id": "U7GzhR5jpOrG"
      },
      "source": [
        "#To Extract all the information from the Weather Forecasting webpage :"
      ]
    },
    {
      "cell_type": "code",
      "metadata": {
        "id": "CDWGmZDJnUwS"
      },
      "source": [
        "#To Select all items with the class period-name inside an item with the class tombstone-container in sd :\n",
        "p_tags1 = sd.select(\".tombstone-container .period-name\")\n",
        "\n",
        "#To use a list comprehension to call the get_text method on each of the BeautifulSoup object in sd :\n",
        "#inorder to obtain each of the period names of each of the weather forecast items :\n",
        "tm_pr = [k.get_text() for k in p_tags1]\n",
        "\n",
        "#To Select all items with the class short-desc inside an item with the class tombstone-container in sd and \n",
        "#to use a list comprehension to call the get_text method on each of the BeautifulSoup object in sd\n",
        "#inorder to obtain each of the short descriptions of each of the weather forecast items :\n",
        "short_desc1 = [d.get_text() for d in sd.select(\".tombstone-container .short-desc\")]\n",
        "\n",
        "#To Select all items with the class temp inside an item with the class tombstone-container in sd and to use \n",
        "#a list comprehension to call the get_text method on each of the BeautifulSoup object in sd\n",
        "#inorder to obtain each of the temparatures of each of the weather forecast items :\n",
        "temp1 = [t1.get_text() for t1 in sd.select(\".tombstone-container .temp\")]\n",
        "\n",
        "#To Select all items stored in the title property of the img tag with the class forecast-icon inside img item \n",
        "#with the class tombstone-container in sd and to use a list comprehension to call the get_text method on each \n",
        "#of the BeautifulSoup object in sd inorder to obtain each of the description of the Weather conditions of \n",
        "#each of the weather forecast items :\n",
        "wc1 = [w[\"title\"] for w in sd.select(\".tombstone-container img\")]"
      ],
      "execution_count": 164,
      "outputs": []
    },
    {
      "cell_type": "code",
      "metadata": {
        "id": "lRIudo9VpLTD"
      },
      "source": [
        ""
      ],
      "execution_count": 164,
      "outputs": []
    },
    {
      "cell_type": "markdown",
      "metadata": {
        "id": "TVb9fOtYccJe"
      },
      "source": [
        "#1.\t**Demonstrate the utility of PYTHON Computing Environment handling Data Frame and plotting the data using MATPLOT library**"
      ]
    },
    {
      "cell_type": "markdown",
      "metadata": {
        "id": "jZDqeldlhRqy"
      },
      "source": [
        "#To Implement Data Manipulation and Handling :"
      ]
    },
    {
      "cell_type": "markdown",
      "metadata": {
        "id": "ZjKVloo_hPFd"
      },
      "source": [
        "#To combine our Web Scraped data otained by Scrapping the National Weather Service’s website of the US containing Weather forecast data into a Pandas Dataframe :"
      ]
    },
    {
      "cell_type": "code",
      "metadata": {
        "id": "Z-tnVObJpLVw"
      },
      "source": [
        "#Importing pandas library\n",
        "import pandas as pd\n",
        "\n",
        "wforecast = pd.DataFrame({\n",
        "    \"Time_period\": tm_pr,\n",
        "    \"Short_desc\": short_desc1,\n",
        "    \"Temperature\": temp1,\n",
        "    \"Description_wc\":wc1\n",
        "})"
      ],
      "execution_count": 165,
      "outputs": []
    },
    {
      "cell_type": "code",
      "metadata": {
        "colab": {
          "base_uri": "https://localhost:8080/",
          "height": 143
        },
        "id": "NGMZVTSygxOD",
        "outputId": "ae2698f4-ca56-4377-dfc6-f3eb77a42e72"
      },
      "source": [
        "wforecast.head(3)"
      ],
      "execution_count": 166,
      "outputs": [
        {
          "output_type": "execute_result",
          "data": {
            "text/html": [
              "<div>\n",
              "<style scoped>\n",
              "    .dataframe tbody tr th:only-of-type {\n",
              "        vertical-align: middle;\n",
              "    }\n",
              "\n",
              "    .dataframe tbody tr th {\n",
              "        vertical-align: top;\n",
              "    }\n",
              "\n",
              "    .dataframe thead th {\n",
              "        text-align: right;\n",
              "    }\n",
              "</style>\n",
              "<table border=\"1\" class=\"dataframe\">\n",
              "  <thead>\n",
              "    <tr style=\"text-align: right;\">\n",
              "      <th></th>\n",
              "      <th>Time_period</th>\n",
              "      <th>Short_desc</th>\n",
              "      <th>Temperature</th>\n",
              "      <th>Description_wc</th>\n",
              "    </tr>\n",
              "  </thead>\n",
              "  <tbody>\n",
              "    <tr>\n",
              "      <th>0</th>\n",
              "      <td>Overnight</td>\n",
              "      <td>Mostly Cloudy</td>\n",
              "      <td>Low: 54 °F</td>\n",
              "      <td>Overnight: Mostly cloudy, with a low around 54...</td>\n",
              "    </tr>\n",
              "    <tr>\n",
              "      <th>1</th>\n",
              "      <td>Friday</td>\n",
              "      <td>GradualClearing</td>\n",
              "      <td>High: 65 °F</td>\n",
              "      <td>Friday: Cloudy through mid morning, then gradu...</td>\n",
              "    </tr>\n",
              "    <tr>\n",
              "      <th>2</th>\n",
              "      <td>FridayNight</td>\n",
              "      <td>Partly Cloudyand Breezythen MostlyCloudy</td>\n",
              "      <td>Low: 54 °F</td>\n",
              "      <td>Friday Night: Partly cloudy, with a low around...</td>\n",
              "    </tr>\n",
              "  </tbody>\n",
              "</table>\n",
              "</div>"
            ],
            "text/plain": [
              "   Time_period  ...                                     Description_wc\n",
              "0    Overnight  ...  Overnight: Mostly cloudy, with a low around 54...\n",
              "1       Friday  ...  Friday: Cloudy through mid morning, then gradu...\n",
              "2  FridayNight  ...  Friday Night: Partly cloudy, with a low around...\n",
              "\n",
              "[3 rows x 4 columns]"
            ]
          },
          "metadata": {
            "tags": []
          },
          "execution_count": 166
        }
      ]
    },
    {
      "cell_type": "markdown",
      "metadata": {
        "id": "dDhS9wkTkfMT"
      },
      "source": [
        "#To perform some Data Analysis on the Web Scrapped data :"
      ]
    },
    {
      "cell_type": "code",
      "metadata": {
        "colab": {
          "base_uri": "https://localhost:8080/"
        },
        "id": "nYfDeZ09gxQ1",
        "outputId": "87816bd0-b42d-4a34-c767-5328dd2bc875"
      },
      "source": [
        "#shape of the dataframe indicates 9 rows and 5 Columns inthe dataset\n",
        "wforecast.shape"
      ],
      "execution_count": 167,
      "outputs": [
        {
          "output_type": "execute_result",
          "data": {
            "text/plain": [
              "(9, 4)"
            ]
          },
          "metadata": {
            "tags": []
          },
          "execution_count": 167
        }
      ]
    },
    {
      "cell_type": "code",
      "metadata": {
        "id": "JC5yy08GgxTY"
      },
      "source": [
        "#Pre-processing the data in the Datframe :\n",
        "import numpy as np\n",
        "wforecast = wforecast.replace('?',np.nan)"
      ],
      "execution_count": 168,
      "outputs": []
    },
    {
      "cell_type": "code",
      "metadata": {
        "id": "LYBlcqTCgxWY"
      },
      "source": [
        "#To Replace the zero values in the DataFrame to NaN\n",
        "wforecast.replace(str(0), np.nan, inplace=True)\n",
        "wforecast.replace(0, np.nan, inplace=True)"
      ],
      "execution_count": 169,
      "outputs": []
    },
    {
      "cell_type": "code",
      "metadata": {
        "colab": {
          "base_uri": "https://localhost:8080/"
        },
        "id": "4f8Baw0YgxY0",
        "outputId": "a075fa60-2ad5-4c1b-e337-662a7b1b406c"
      },
      "source": [
        "#Counting the Number of NaNs in the DataFrame\n",
        "count_nan = len(wforecast) - wforecast.count()\n",
        "count_nan"
      ],
      "execution_count": 170,
      "outputs": [
        {
          "output_type": "execute_result",
          "data": {
            "text/plain": [
              "Time_period       0\n",
              "Short_desc        0\n",
              "Temperature       0\n",
              "Description_wc    0\n",
              "dtype: int64"
            ]
          },
          "metadata": {
            "tags": []
          },
          "execution_count": 170
        }
      ]
    },
    {
      "cell_type": "code",
      "metadata": {
        "colab": {
          "base_uri": "https://localhost:8080/"
        },
        "id": "VJAP4FLNgxb4",
        "outputId": "459d8aa8-0e25-4075-f199-07bed9d69873"
      },
      "source": [
        "# To find all the unique values of Time_period \n",
        "wforecast['Time_period'].unique()"
      ],
      "execution_count": 171,
      "outputs": [
        {
          "output_type": "execute_result",
          "data": {
            "text/plain": [
              "array(['Overnight', 'Friday', 'FridayNight', 'Saturday', 'SaturdayNight',\n",
              "       'Sunday', 'SundayNight', 'Monday', 'MondayNight'], dtype=object)"
            ]
          },
          "metadata": {
            "tags": []
          },
          "execution_count": 171
        }
      ]
    },
    {
      "cell_type": "code",
      "metadata": {
        "colab": {
          "base_uri": "https://localhost:8080/"
        },
        "id": "JvL4rKwNgxeZ",
        "outputId": "73143d44-c3f8-430b-d0d0-1105568bbe26"
      },
      "source": [
        "# To find total the counts of occurrence of each of the unique possble values of Short_desc\n",
        "wforecast['Short_desc'].value_counts()"
      ],
      "execution_count": 172,
      "outputs": [
        {
          "output_type": "execute_result",
          "data": {
            "text/plain": [
              "Mostly Sunny                                3\n",
              "Mostly Cloudy                               2\n",
              "Partly Cloudyand Breezythen MostlyCloudy    2\n",
              "Partly Cloudy                               1\n",
              "GradualClearing                             1\n",
              "Name: Short_desc, dtype: int64"
            ]
          },
          "metadata": {
            "tags": []
          },
          "execution_count": 172
        }
      ]
    },
    {
      "cell_type": "code",
      "metadata": {
        "colab": {
          "base_uri": "https://localhost:8080/"
        },
        "id": "FDq4WR5pgxg_",
        "outputId": "93bd4f02-0a33-432c-e15c-2b0745739224"
      },
      "source": [
        "wforecast[\"Temperature\"]\n"
      ],
      "execution_count": 173,
      "outputs": [
        {
          "output_type": "execute_result",
          "data": {
            "text/plain": [
              "0     Low: 54 °F\n",
              "1    High: 65 °F\n",
              "2     Low: 54 °F\n",
              "3    High: 68 °F\n",
              "4     Low: 54 °F\n",
              "5    High: 68 °F\n",
              "6     Low: 55 °F\n",
              "7    High: 69 °F\n",
              "8     Low: 55 °F\n",
              "Name: Temperature, dtype: object"
            ]
          },
          "metadata": {
            "tags": []
          },
          "execution_count": 173
        }
      ]
    },
    {
      "cell_type": "markdown",
      "metadata": {
        "id": "dI43WZvDlDcE"
      },
      "source": [
        "To use lambda function to pull out the numeric temperature values from the Weather Forecast data in the dataframe: :"
      ]
    },
    {
      "cell_type": "code",
      "metadata": {
        "colab": {
          "base_uri": "https://localhost:8080/"
        },
        "id": "prn5hkN9mgr3",
        "outputId": "f11d2eb7-7262-44b4-c3ca-cc50278bc8b9"
      },
      "source": [
        "wforecast['Temperature'] = wforecast['Temperature'].apply(lambda x: x.split()[1])\n",
        "wforecast['Temp_nmr'] = pd.to_numeric(wforecast['Temperature'])\n",
        "wforecast['Temp_nmr']"
      ],
      "execution_count": 174,
      "outputs": [
        {
          "output_type": "execute_result",
          "data": {
            "text/plain": [
              "0    54\n",
              "1    65\n",
              "2    54\n",
              "3    68\n",
              "4    54\n",
              "5    68\n",
              "6    55\n",
              "7    69\n",
              "8    55\n",
              "Name: Temp_nmr, dtype: int64"
            ]
          },
          "metadata": {
            "tags": []
          },
          "execution_count": 174
        }
      ]
    },
    {
      "cell_type": "code",
      "metadata": {
        "colab": {
          "base_uri": "https://localhost:8080/"
        },
        "id": "ZjInJQFHgxmB",
        "outputId": "b04891e3-0f6c-46f8-e8c1-b08243f26212"
      },
      "source": [
        "#To find the mean of all the high and low temperatures:\n",
        "wforecast[\"Temp_nmr\"].mean()"
      ],
      "execution_count": 175,
      "outputs": [
        {
          "output_type": "execute_result",
          "data": {
            "text/plain": [
              "60.22222222222222"
            ]
          },
          "metadata": {
            "tags": []
          },
          "execution_count": 175
        }
      ]
    },
    {
      "cell_type": "code",
      "metadata": {
        "colab": {
          "base_uri": "https://localhost:8080/"
        },
        "id": "y1wQqlaipLY6",
        "outputId": "9ca8ebe2-85fc-4615-eb17-9bdada36eef7"
      },
      "source": [
        "#To verify the data types of the DataFrame\n",
        "wforecast.dtypes"
      ],
      "execution_count": 176,
      "outputs": [
        {
          "output_type": "execute_result",
          "data": {
            "text/plain": [
              "Time_period       object\n",
              "Short_desc        object\n",
              "Temperature       object\n",
              "Description_wc    object\n",
              "Temp_nmr           int64\n",
              "dtype: object"
            ]
          },
          "metadata": {
            "tags": []
          },
          "execution_count": 176
        }
      ]
    },
    {
      "cell_type": "code",
      "metadata": {
        "colab": {
          "base_uri": "https://localhost:8080/"
        },
        "id": "1BCztK3mpLbb",
        "outputId": "33ee35aa-cd2e-4940-df7d-8d5845183dc4"
      },
      "source": [
        "#To only select the rows that happen at night:\n",
        "is_nyt = wforecast[\"Temperature\"].str.contains(\"Low\")\n",
        "is_nyt\n"
      ],
      "execution_count": 177,
      "outputs": [
        {
          "output_type": "execute_result",
          "data": {
            "text/plain": [
              "0    False\n",
              "1    False\n",
              "2    False\n",
              "3    False\n",
              "4    False\n",
              "5    False\n",
              "6    False\n",
              "7    False\n",
              "8    False\n",
              "Name: Temperature, dtype: bool"
            ]
          },
          "metadata": {
            "tags": []
          },
          "execution_count": 177
        }
      ]
    },
    {
      "cell_type": "code",
      "metadata": {
        "colab": {
          "base_uri": "https://localhost:8080/",
          "height": 143
        },
        "id": "kOY1W-DLo1mE",
        "outputId": "64e8d92d-4579-4eff-fe82-0818915c3245"
      },
      "source": [
        "wforecast[\"is_nyt\"]=is_nyt\n",
        "wforecast.head(3)"
      ],
      "execution_count": 178,
      "outputs": [
        {
          "output_type": "execute_result",
          "data": {
            "text/html": [
              "<div>\n",
              "<style scoped>\n",
              "    .dataframe tbody tr th:only-of-type {\n",
              "        vertical-align: middle;\n",
              "    }\n",
              "\n",
              "    .dataframe tbody tr th {\n",
              "        vertical-align: top;\n",
              "    }\n",
              "\n",
              "    .dataframe thead th {\n",
              "        text-align: right;\n",
              "    }\n",
              "</style>\n",
              "<table border=\"1\" class=\"dataframe\">\n",
              "  <thead>\n",
              "    <tr style=\"text-align: right;\">\n",
              "      <th></th>\n",
              "      <th>Time_period</th>\n",
              "      <th>Short_desc</th>\n",
              "      <th>Temperature</th>\n",
              "      <th>Description_wc</th>\n",
              "      <th>Temp_nmr</th>\n",
              "      <th>is_nyt</th>\n",
              "    </tr>\n",
              "  </thead>\n",
              "  <tbody>\n",
              "    <tr>\n",
              "      <th>0</th>\n",
              "      <td>Overnight</td>\n",
              "      <td>Mostly Cloudy</td>\n",
              "      <td>54</td>\n",
              "      <td>Overnight: Mostly cloudy, with a low around 54...</td>\n",
              "      <td>54</td>\n",
              "      <td>False</td>\n",
              "    </tr>\n",
              "    <tr>\n",
              "      <th>1</th>\n",
              "      <td>Friday</td>\n",
              "      <td>GradualClearing</td>\n",
              "      <td>65</td>\n",
              "      <td>Friday: Cloudy through mid morning, then gradu...</td>\n",
              "      <td>65</td>\n",
              "      <td>False</td>\n",
              "    </tr>\n",
              "    <tr>\n",
              "      <th>2</th>\n",
              "      <td>FridayNight</td>\n",
              "      <td>Partly Cloudyand Breezythen MostlyCloudy</td>\n",
              "      <td>54</td>\n",
              "      <td>Friday Night: Partly cloudy, with a low around...</td>\n",
              "      <td>54</td>\n",
              "      <td>False</td>\n",
              "    </tr>\n",
              "  </tbody>\n",
              "</table>\n",
              "</div>"
            ],
            "text/plain": [
              "   Time_period                                Short_desc  ... Temp_nmr is_nyt\n",
              "0    Overnight                             Mostly Cloudy  ...       54  False\n",
              "1       Friday                           GradualClearing  ...       65  False\n",
              "2  FridayNight  Partly Cloudyand Breezythen MostlyCloudy  ...       54  False\n",
              "\n",
              "[3 rows x 6 columns]"
            ]
          },
          "metadata": {
            "tags": []
          },
          "execution_count": 178
        }
      ]
    },
    {
      "cell_type": "code",
      "metadata": {
        "colab": {
          "base_uri": "https://localhost:8080/",
          "height": 206
        },
        "id": "oUnu8uRQpLeU",
        "outputId": "3980f63f-7ced-446c-c087-643393b9e9d9"
      },
      "source": [
        "#To find out which all Time_period had the high Temparatures :\n",
        "tempr1 = wforecast.sort_values([\"Temperature\"], axis=0, ascending=False)[:15]\n",
        "tempr1.head()"
      ],
      "execution_count": 179,
      "outputs": [
        {
          "output_type": "execute_result",
          "data": {
            "text/html": [
              "<div>\n",
              "<style scoped>\n",
              "    .dataframe tbody tr th:only-of-type {\n",
              "        vertical-align: middle;\n",
              "    }\n",
              "\n",
              "    .dataframe tbody tr th {\n",
              "        vertical-align: top;\n",
              "    }\n",
              "\n",
              "    .dataframe thead th {\n",
              "        text-align: right;\n",
              "    }\n",
              "</style>\n",
              "<table border=\"1\" class=\"dataframe\">\n",
              "  <thead>\n",
              "    <tr style=\"text-align: right;\">\n",
              "      <th></th>\n",
              "      <th>Time_period</th>\n",
              "      <th>Short_desc</th>\n",
              "      <th>Temperature</th>\n",
              "      <th>Description_wc</th>\n",
              "      <th>Temp_nmr</th>\n",
              "      <th>is_nyt</th>\n",
              "    </tr>\n",
              "  </thead>\n",
              "  <tbody>\n",
              "    <tr>\n",
              "      <th>7</th>\n",
              "      <td>Monday</td>\n",
              "      <td>Mostly Sunny</td>\n",
              "      <td>69</td>\n",
              "      <td>Monday: Mostly sunny, with a high near 69.</td>\n",
              "      <td>69</td>\n",
              "      <td>False</td>\n",
              "    </tr>\n",
              "    <tr>\n",
              "      <th>3</th>\n",
              "      <td>Saturday</td>\n",
              "      <td>Mostly Sunny</td>\n",
              "      <td>68</td>\n",
              "      <td>Saturday: Mostly sunny, with a high near 68. S...</td>\n",
              "      <td>68</td>\n",
              "      <td>False</td>\n",
              "    </tr>\n",
              "    <tr>\n",
              "      <th>5</th>\n",
              "      <td>Sunday</td>\n",
              "      <td>Mostly Sunny</td>\n",
              "      <td>68</td>\n",
              "      <td>Sunday: Mostly sunny, with a high near 68.</td>\n",
              "      <td>68</td>\n",
              "      <td>False</td>\n",
              "    </tr>\n",
              "    <tr>\n",
              "      <th>1</th>\n",
              "      <td>Friday</td>\n",
              "      <td>GradualClearing</td>\n",
              "      <td>65</td>\n",
              "      <td>Friday: Cloudy through mid morning, then gradu...</td>\n",
              "      <td>65</td>\n",
              "      <td>False</td>\n",
              "    </tr>\n",
              "    <tr>\n",
              "      <th>6</th>\n",
              "      <td>SundayNight</td>\n",
              "      <td>Mostly Cloudy</td>\n",
              "      <td>55</td>\n",
              "      <td>Sunday Night: Mostly cloudy, with a low around...</td>\n",
              "      <td>55</td>\n",
              "      <td>False</td>\n",
              "    </tr>\n",
              "  </tbody>\n",
              "</table>\n",
              "</div>"
            ],
            "text/plain": [
              "   Time_period       Short_desc  ... Temp_nmr is_nyt\n",
              "7       Monday     Mostly Sunny  ...       69  False\n",
              "3     Saturday     Mostly Sunny  ...       68  False\n",
              "5       Sunday     Mostly Sunny  ...       68  False\n",
              "1       Friday  GradualClearing  ...       65  False\n",
              "6  SundayNight    Mostly Cloudy  ...       55  False\n",
              "\n",
              "[5 rows x 6 columns]"
            ]
          },
          "metadata": {
            "tags": []
          },
          "execution_count": 179
        }
      ]
    },
    {
      "cell_type": "code",
      "metadata": {
        "id": "fM_Gf4W2lgOx"
      },
      "source": [
        "import matplotlib.pyplot as plt\n",
        "import seaborn as sns\n",
        "%matplotlib inline\n",
        "import re\n",
        "import time\n",
        "from datetime import datetime\n",
        "import matplotlib.dates as mdates\n",
        "import matplotlib.ticker as ticker\n",
        "#Loading BokehJS\n",
        "from bokeh.models import ColumnDataSource\n",
        "from bokeh.transform import dodge\n",
        "import math\n",
        "from bokeh.io import curdoc\n",
        "curdoc().clear()\n",
        "from bokeh.io import push_notebook, show, output_notebook\n",
        "from bokeh.layouts import row\n",
        "from bokeh.plotting import figure\n",
        "from bokeh.transform import factor_cmap\n",
        "from bokeh.models import Legend\n",
        "output_notebook()\n"
      ],
      "execution_count": 180,
      "outputs": []
    },
    {
      "cell_type": "markdown",
      "metadata": {
        "id": "0D6rIOeflqLD"
      },
      "source": [
        "#Plot to visualize the Time periods with the Highest Temperatures :"
      ]
    },
    {
      "cell_type": "code",
      "metadata": {
        "colab": {
          "base_uri": "https://localhost:8080/",
          "height": 567
        },
        "id": "QlfuNMRslgRQ",
        "outputId": "53c0f1d0-e339-43da-9967-e67c07805c41"
      },
      "source": [
        "p1 = figure(x_range=wforecast.iloc[:,0], plot_width=800, plot_height=550, title=\"Time_period with the Highest Temperatures\", toolbar_location=None, tools=\"\")\n",
        "\n",
        "p1.vbar(x=wforecast.iloc[:,0], top=wforecast.iloc[:,2], width=0.9)\n",
        "\n",
        "p1.xgrid.grid_line_color = None\n",
        "p1.y_range.start = 0\n",
        "p1.xaxis.major_label_orientation = math.pi/2\n",
        "\n",
        "show(p1)"
      ],
      "execution_count": 181,
      "outputs": [
        {
          "output_type": "display_data",
          "data": {
            "application/javascript": [
              "\n",
              "(function(root) {\n",
              "  function now() {\n",
              "    return new Date();\n",
              "  }\n",
              "\n",
              "  var force = true;\n",
              "\n",
              "  if (typeof root._bokeh_onload_callbacks === \"undefined\" || force === true) {\n",
              "    root._bokeh_onload_callbacks = [];\n",
              "    root._bokeh_is_loading = undefined;\n",
              "  }\n",
              "\n",
              "  var JS_MIME_TYPE = 'application/javascript';\n",
              "  var HTML_MIME_TYPE = 'text/html';\n",
              "  var EXEC_MIME_TYPE = 'application/vnd.bokehjs_exec.v0+json';\n",
              "  var CLASS_NAME = 'output_bokeh rendered_html';\n",
              "\n",
              "  /**\n",
              "   * Render data to the DOM node\n",
              "   */\n",
              "  function render(props, node) {\n",
              "    var script = document.createElement(\"script\");\n",
              "    node.appendChild(script);\n",
              "  }\n",
              "\n",
              "  /**\n",
              "   * Handle when an output is cleared or removed\n",
              "   */\n",
              "  function handleClearOutput(event, handle) {\n",
              "    var cell = handle.cell;\n",
              "\n",
              "    var id = cell.output_area._bokeh_element_id;\n",
              "    var server_id = cell.output_area._bokeh_server_id;\n",
              "    // Clean up Bokeh references\n",
              "    if (id != null && id in Bokeh.index) {\n",
              "      Bokeh.index[id].model.document.clear();\n",
              "      delete Bokeh.index[id];\n",
              "    }\n",
              "\n",
              "    if (server_id !== undefined) {\n",
              "      // Clean up Bokeh references\n",
              "      var cmd = \"from bokeh.io.state import curstate; print(curstate().uuid_to_server['\" + server_id + \"'].get_sessions()[0].document.roots[0]._id)\";\n",
              "      cell.notebook.kernel.execute(cmd, {\n",
              "        iopub: {\n",
              "          output: function(msg) {\n",
              "            var id = msg.content.text.trim();\n",
              "            if (id in Bokeh.index) {\n",
              "              Bokeh.index[id].model.document.clear();\n",
              "              delete Bokeh.index[id];\n",
              "            }\n",
              "          }\n",
              "        }\n",
              "      });\n",
              "      // Destroy server and session\n",
              "      var cmd = \"import bokeh.io.notebook as ion; ion.destroy_server('\" + server_id + \"')\";\n",
              "      cell.notebook.kernel.execute(cmd);\n",
              "    }\n",
              "  }\n",
              "\n",
              "  /**\n",
              "   * Handle when a new output is added\n",
              "   */\n",
              "  function handleAddOutput(event, handle) {\n",
              "    var output_area = handle.output_area;\n",
              "    var output = handle.output;\n",
              "\n",
              "    // limit handleAddOutput to display_data with EXEC_MIME_TYPE content only\n",
              "    if ((output.output_type != \"display_data\") || (!Object.prototype.hasOwnProperty.call(output.data, EXEC_MIME_TYPE))) {\n",
              "      return\n",
              "    }\n",
              "\n",
              "    var toinsert = output_area.element.find(\".\" + CLASS_NAME.split(' ')[0]);\n",
              "\n",
              "    if (output.metadata[EXEC_MIME_TYPE][\"id\"] !== undefined) {\n",
              "      toinsert[toinsert.length - 1].firstChild.textContent = output.data[JS_MIME_TYPE];\n",
              "      // store reference to embed id on output_area\n",
              "      output_area._bokeh_element_id = output.metadata[EXEC_MIME_TYPE][\"id\"];\n",
              "    }\n",
              "    if (output.metadata[EXEC_MIME_TYPE][\"server_id\"] !== undefined) {\n",
              "      var bk_div = document.createElement(\"div\");\n",
              "      bk_div.innerHTML = output.data[HTML_MIME_TYPE];\n",
              "      var script_attrs = bk_div.children[0].attributes;\n",
              "      for (var i = 0; i < script_attrs.length; i++) {\n",
              "        toinsert[toinsert.length - 1].firstChild.setAttribute(script_attrs[i].name, script_attrs[i].value);\n",
              "        toinsert[toinsert.length - 1].firstChild.textContent = bk_div.children[0].textContent\n",
              "      }\n",
              "      // store reference to server id on output_area\n",
              "      output_area._bokeh_server_id = output.metadata[EXEC_MIME_TYPE][\"server_id\"];\n",
              "    }\n",
              "  }\n",
              "\n",
              "  function register_renderer(events, OutputArea) {\n",
              "\n",
              "    function append_mime(data, metadata, element) {\n",
              "      // create a DOM node to render to\n",
              "      var toinsert = this.create_output_subarea(\n",
              "        metadata,\n",
              "        CLASS_NAME,\n",
              "        EXEC_MIME_TYPE\n",
              "      );\n",
              "      this.keyboard_manager.register_events(toinsert);\n",
              "      // Render to node\n",
              "      var props = {data: data, metadata: metadata[EXEC_MIME_TYPE]};\n",
              "      render(props, toinsert[toinsert.length - 1]);\n",
              "      element.append(toinsert);\n",
              "      return toinsert\n",
              "    }\n",
              "\n",
              "    /* Handle when an output is cleared or removed */\n",
              "    events.on('clear_output.CodeCell', handleClearOutput);\n",
              "    events.on('delete.Cell', handleClearOutput);\n",
              "\n",
              "    /* Handle when a new output is added */\n",
              "    events.on('output_added.OutputArea', handleAddOutput);\n",
              "\n",
              "    /**\n",
              "     * Register the mime type and append_mime function with output_area\n",
              "     */\n",
              "    OutputArea.prototype.register_mime_type(EXEC_MIME_TYPE, append_mime, {\n",
              "      /* Is output safe? */\n",
              "      safe: true,\n",
              "      /* Index of renderer in `output_area.display_order` */\n",
              "      index: 0\n",
              "    });\n",
              "  }\n",
              "\n",
              "  // register the mime type if in Jupyter Notebook environment and previously unregistered\n",
              "  if (root.Jupyter !== undefined) {\n",
              "    var events = require('base/js/events');\n",
              "    var OutputArea = require('notebook/js/outputarea').OutputArea;\n",
              "\n",
              "    if (OutputArea.prototype.mime_types().indexOf(EXEC_MIME_TYPE) == -1) {\n",
              "      register_renderer(events, OutputArea);\n",
              "    }\n",
              "  }\n",
              "\n",
              "  \n",
              "  if (typeof (root._bokeh_timeout) === \"undefined\" || force === true) {\n",
              "    root._bokeh_timeout = Date.now() + 5000;\n",
              "    root._bokeh_failed_load = false;\n",
              "  }\n",
              "\n",
              "  var NB_LOAD_WARNING = {'data': {'text/html':\n",
              "     \"<div style='background-color: #fdd'>\\n\"+\n",
              "     \"<p>\\n\"+\n",
              "     \"BokehJS does not appear to have successfully loaded. If loading BokehJS from CDN, this \\n\"+\n",
              "     \"may be due to a slow or bad network connection. Possible fixes:\\n\"+\n",
              "     \"</p>\\n\"+\n",
              "     \"<ul>\\n\"+\n",
              "     \"<li>re-rerun `output_notebook()` to attempt to load from CDN again, or</li>\\n\"+\n",
              "     \"<li>use INLINE resources instead, as so:</li>\\n\"+\n",
              "     \"</ul>\\n\"+\n",
              "     \"<code>\\n\"+\n",
              "     \"from bokeh.resources import INLINE\\n\"+\n",
              "     \"output_notebook(resources=INLINE)\\n\"+\n",
              "     \"</code>\\n\"+\n",
              "     \"</div>\"}};\n",
              "\n",
              "  function display_loaded() {\n",
              "    var el = document.getElementById(null);\n",
              "    if (el != null) {\n",
              "      el.textContent = \"BokehJS is loading...\";\n",
              "    }\n",
              "    if (root.Bokeh !== undefined) {\n",
              "      if (el != null) {\n",
              "        el.textContent = \"BokehJS \" + root.Bokeh.version + \" successfully loaded.\";\n",
              "      }\n",
              "    } else if (Date.now() < root._bokeh_timeout) {\n",
              "      setTimeout(display_loaded, 100)\n",
              "    }\n",
              "  }\n",
              "\n",
              "\n",
              "  function run_callbacks() {\n",
              "    try {\n",
              "      root._bokeh_onload_callbacks.forEach(function(callback) {\n",
              "        if (callback != null)\n",
              "          callback();\n",
              "      });\n",
              "    } finally {\n",
              "      delete root._bokeh_onload_callbacks\n",
              "    }\n",
              "    console.debug(\"Bokeh: all callbacks have finished\");\n",
              "  }\n",
              "\n",
              "  function load_libs(css_urls, js_urls, callback) {\n",
              "    if (css_urls == null) css_urls = [];\n",
              "    if (js_urls == null) js_urls = [];\n",
              "\n",
              "    root._bokeh_onload_callbacks.push(callback);\n",
              "    if (root._bokeh_is_loading > 0) {\n",
              "      console.debug(\"Bokeh: BokehJS is being loaded, scheduling callback at\", now());\n",
              "      return null;\n",
              "    }\n",
              "    if (js_urls == null || js_urls.length === 0) {\n",
              "      run_callbacks();\n",
              "      return null;\n",
              "    }\n",
              "    console.debug(\"Bokeh: BokehJS not loaded, scheduling load and callback at\", now());\n",
              "    root._bokeh_is_loading = css_urls.length + js_urls.length;\n",
              "\n",
              "    function on_load() {\n",
              "      root._bokeh_is_loading--;\n",
              "      if (root._bokeh_is_loading === 0) {\n",
              "        console.debug(\"Bokeh: all BokehJS libraries/stylesheets loaded\");\n",
              "        run_callbacks()\n",
              "      }\n",
              "    }\n",
              "\n",
              "    function on_error(url) {\n",
              "      console.error(\"failed to load \" + url);\n",
              "    }\n",
              "\n",
              "    for (let i = 0; i < css_urls.length; i++) {\n",
              "      const url = css_urls[i];\n",
              "      const element = document.createElement(\"link\");\n",
              "      element.onload = on_load;\n",
              "      element.onerror = on_error.bind(null, url);\n",
              "      element.rel = \"stylesheet\";\n",
              "      element.type = \"text/css\";\n",
              "      element.href = url;\n",
              "      console.debug(\"Bokeh: injecting link tag for BokehJS stylesheet: \", url);\n",
              "      document.body.appendChild(element);\n",
              "    }\n",
              "\n",
              "    const hashes = {\"https://cdn.bokeh.org/bokeh/release/bokeh-2.3.3.min.js\": \"dM3QQsP+wXdHg42wTqW85BjZQdLNNIXqlPw/BgKoExPmTG7ZLML4EGqLMfqHT6ON\", \"https://cdn.bokeh.org/bokeh/release/bokeh-tables-2.3.3.min.js\": \"8x57I4YuIfu8XyZfFo0XVr2WAT8EK4rh/uDe3wF7YuW2FNUSNEpJbsPaB1nJ2fz2\", \"https://cdn.bokeh.org/bokeh/release/bokeh-widgets-2.3.3.min.js\": \"3QTqdz9LyAm2i0sG5XTePsHec3UHWwVsrOL68SYRoAXsafvfAyqtQ+h440+qIBhS\"};\n",
              "\n",
              "    for (let i = 0; i < js_urls.length; i++) {\n",
              "      const url = js_urls[i];\n",
              "      const element = document.createElement('script');\n",
              "      element.onload = on_load;\n",
              "      element.onerror = on_error.bind(null, url);\n",
              "      element.async = false;\n",
              "      element.src = url;\n",
              "      if (url in hashes) {\n",
              "        element.crossOrigin = \"anonymous\";\n",
              "        element.integrity = \"sha384-\" + hashes[url];\n",
              "      }\n",
              "      console.debug(\"Bokeh: injecting script tag for BokehJS library: \", url);\n",
              "      document.head.appendChild(element);\n",
              "    }\n",
              "  };\n",
              "\n",
              "  function inject_raw_css(css) {\n",
              "    const element = document.createElement(\"style\");\n",
              "    element.appendChild(document.createTextNode(css));\n",
              "    document.body.appendChild(element);\n",
              "  }\n",
              "\n",
              "  \n",
              "  var js_urls = [\"https://cdn.bokeh.org/bokeh/release/bokeh-2.3.3.min.js\", \"https://cdn.bokeh.org/bokeh/release/bokeh-widgets-2.3.3.min.js\", \"https://cdn.bokeh.org/bokeh/release/bokeh-tables-2.3.3.min.js\"];\n",
              "  var css_urls = [];\n",
              "  \n",
              "\n",
              "  var inline_js = [\n",
              "    function(Bokeh) {\n",
              "      Bokeh.set_log_level(\"info\");\n",
              "    },\n",
              "    function(Bokeh) {\n",
              "    \n",
              "    \n",
              "    }\n",
              "  ];\n",
              "\n",
              "  function run_inline_js() {\n",
              "    \n",
              "    if (root.Bokeh !== undefined || force === true) {\n",
              "      \n",
              "    for (var i = 0; i < inline_js.length; i++) {\n",
              "      inline_js[i].call(root, root.Bokeh);\n",
              "    }\n",
              "    } else if (Date.now() < root._bokeh_timeout) {\n",
              "      setTimeout(run_inline_js, 100);\n",
              "    } else if (!root._bokeh_failed_load) {\n",
              "      console.log(\"Bokeh: BokehJS failed to load within specified timeout.\");\n",
              "      root._bokeh_failed_load = true;\n",
              "    } else if (force !== true) {\n",
              "      var cell = $(document.getElementById(null)).parents('.cell').data().cell;\n",
              "      cell.output_area.append_execute_result(NB_LOAD_WARNING)\n",
              "    }\n",
              "\n",
              "  }\n",
              "\n",
              "  if (root._bokeh_is_loading === 0) {\n",
              "    console.debug(\"Bokeh: BokehJS loaded, going straight to plotting\");\n",
              "    run_inline_js();\n",
              "  } else {\n",
              "    load_libs(css_urls, js_urls, function() {\n",
              "      console.debug(\"Bokeh: BokehJS plotting callback run at\", now());\n",
              "      run_inline_js();\n",
              "    });\n",
              "  }\n",
              "}(window));"
            ],
            "application/vnd.bokehjs_load.v0+json": "\n(function(root) {\n  function now() {\n    return new Date();\n  }\n\n  var force = true;\n\n  if (typeof root._bokeh_onload_callbacks === \"undefined\" || force === true) {\n    root._bokeh_onload_callbacks = [];\n    root._bokeh_is_loading = undefined;\n  }\n\n  \n\n  \n  if (typeof (root._bokeh_timeout) === \"undefined\" || force === true) {\n    root._bokeh_timeout = Date.now() + 5000;\n    root._bokeh_failed_load = false;\n  }\n\n  var NB_LOAD_WARNING = {'data': {'text/html':\n     \"<div style='background-color: #fdd'>\\n\"+\n     \"<p>\\n\"+\n     \"BokehJS does not appear to have successfully loaded. If loading BokehJS from CDN, this \\n\"+\n     \"may be due to a slow or bad network connection. Possible fixes:\\n\"+\n     \"</p>\\n\"+\n     \"<ul>\\n\"+\n     \"<li>re-rerun `output_notebook()` to attempt to load from CDN again, or</li>\\n\"+\n     \"<li>use INLINE resources instead, as so:</li>\\n\"+\n     \"</ul>\\n\"+\n     \"<code>\\n\"+\n     \"from bokeh.resources import INLINE\\n\"+\n     \"output_notebook(resources=INLINE)\\n\"+\n     \"</code>\\n\"+\n     \"</div>\"}};\n\n  function display_loaded() {\n    var el = document.getElementById(null);\n    if (el != null) {\n      el.textContent = \"BokehJS is loading...\";\n    }\n    if (root.Bokeh !== undefined) {\n      if (el != null) {\n        el.textContent = \"BokehJS \" + root.Bokeh.version + \" successfully loaded.\";\n      }\n    } else if (Date.now() < root._bokeh_timeout) {\n      setTimeout(display_loaded, 100)\n    }\n  }\n\n\n  function run_callbacks() {\n    try {\n      root._bokeh_onload_callbacks.forEach(function(callback) {\n        if (callback != null)\n          callback();\n      });\n    } finally {\n      delete root._bokeh_onload_callbacks\n    }\n    console.debug(\"Bokeh: all callbacks have finished\");\n  }\n\n  function load_libs(css_urls, js_urls, callback) {\n    if (css_urls == null) css_urls = [];\n    if (js_urls == null) js_urls = [];\n\n    root._bokeh_onload_callbacks.push(callback);\n    if (root._bokeh_is_loading > 0) {\n      console.debug(\"Bokeh: BokehJS is being loaded, scheduling callback at\", now());\n      return null;\n    }\n    if (js_urls == null || js_urls.length === 0) {\n      run_callbacks();\n      return null;\n    }\n    console.debug(\"Bokeh: BokehJS not loaded, scheduling load and callback at\", now());\n    root._bokeh_is_loading = css_urls.length + js_urls.length;\n\n    function on_load() {\n      root._bokeh_is_loading--;\n      if (root._bokeh_is_loading === 0) {\n        console.debug(\"Bokeh: all BokehJS libraries/stylesheets loaded\");\n        run_callbacks()\n      }\n    }\n\n    function on_error(url) {\n      console.error(\"failed to load \" + url);\n    }\n\n    for (let i = 0; i < css_urls.length; i++) {\n      const url = css_urls[i];\n      const element = document.createElement(\"link\");\n      element.onload = on_load;\n      element.onerror = on_error.bind(null, url);\n      element.rel = \"stylesheet\";\n      element.type = \"text/css\";\n      element.href = url;\n      console.debug(\"Bokeh: injecting link tag for BokehJS stylesheet: \", url);\n      document.body.appendChild(element);\n    }\n\n    const hashes = {\"https://cdn.bokeh.org/bokeh/release/bokeh-2.3.3.min.js\": \"dM3QQsP+wXdHg42wTqW85BjZQdLNNIXqlPw/BgKoExPmTG7ZLML4EGqLMfqHT6ON\", \"https://cdn.bokeh.org/bokeh/release/bokeh-tables-2.3.3.min.js\": \"8x57I4YuIfu8XyZfFo0XVr2WAT8EK4rh/uDe3wF7YuW2FNUSNEpJbsPaB1nJ2fz2\", \"https://cdn.bokeh.org/bokeh/release/bokeh-widgets-2.3.3.min.js\": \"3QTqdz9LyAm2i0sG5XTePsHec3UHWwVsrOL68SYRoAXsafvfAyqtQ+h440+qIBhS\"};\n\n    for (let i = 0; i < js_urls.length; i++) {\n      const url = js_urls[i];\n      const element = document.createElement('script');\n      element.onload = on_load;\n      element.onerror = on_error.bind(null, url);\n      element.async = false;\n      element.src = url;\n      if (url in hashes) {\n        element.crossOrigin = \"anonymous\";\n        element.integrity = \"sha384-\" + hashes[url];\n      }\n      console.debug(\"Bokeh: injecting script tag for BokehJS library: \", url);\n      document.head.appendChild(element);\n    }\n  };\n\n  function inject_raw_css(css) {\n    const element = document.createElement(\"style\");\n    element.appendChild(document.createTextNode(css));\n    document.body.appendChild(element);\n  }\n\n  \n  var js_urls = [\"https://cdn.bokeh.org/bokeh/release/bokeh-2.3.3.min.js\", \"https://cdn.bokeh.org/bokeh/release/bokeh-widgets-2.3.3.min.js\", \"https://cdn.bokeh.org/bokeh/release/bokeh-tables-2.3.3.min.js\"];\n  var css_urls = [];\n  \n\n  var inline_js = [\n    function(Bokeh) {\n      Bokeh.set_log_level(\"info\");\n    },\n    function(Bokeh) {\n    \n    \n    }\n  ];\n\n  function run_inline_js() {\n    \n    if (root.Bokeh !== undefined || force === true) {\n      \n    for (var i = 0; i < inline_js.length; i++) {\n      inline_js[i].call(root, root.Bokeh);\n    }\n    } else if (Date.now() < root._bokeh_timeout) {\n      setTimeout(run_inline_js, 100);\n    } else if (!root._bokeh_failed_load) {\n      console.log(\"Bokeh: BokehJS failed to load within specified timeout.\");\n      root._bokeh_failed_load = true;\n    } else if (force !== true) {\n      var cell = $(document.getElementById(null)).parents('.cell').data().cell;\n      cell.output_area.append_execute_result(NB_LOAD_WARNING)\n    }\n\n  }\n\n  if (root._bokeh_is_loading === 0) {\n    console.debug(\"Bokeh: BokehJS loaded, going straight to plotting\");\n    run_inline_js();\n  } else {\n    load_libs(css_urls, js_urls, function() {\n      console.debug(\"Bokeh: BokehJS plotting callback run at\", now());\n      run_inline_js();\n    });\n  }\n}(window));"
          },
          "metadata": {
            "tags": []
          }
        },
        {
          "output_type": "display_data",
          "data": {
            "text/html": [
              "\n",
              "\n",
              "\n",
              "\n",
              "\n",
              "\n",
              "  <div class=\"bk-root\" id=\"86a7b332-509f-4f25-8f9b-cd57546897d5\" data-root-id=\"1533\"></div>\n"
            ]
          },
          "metadata": {
            "tags": []
          }
        },
        {
          "output_type": "display_data",
          "data": {
            "application/javascript": [
              "(function(root) {\n",
              "  function embed_document(root) {\n",
              "    \n",
              "  var docs_json = {\"4c25ffab-35ca-4c26-96fa-178ca1b81a08\":{\"defs\":[],\"roots\":{\"references\":[{\"attributes\":{\"below\":[{\"id\":\"1544\"}],\"center\":[{\"id\":\"1546\"},{\"id\":\"1550\"}],\"height\":550,\"left\":[{\"id\":\"1547\"}],\"renderers\":[{\"id\":\"1555\"}],\"title\":{\"id\":\"1534\"},\"toolbar\":{\"id\":\"1551\"},\"toolbar_location\":null,\"width\":800,\"x_range\":{\"id\":\"1536\"},\"x_scale\":{\"id\":\"1540\"},\"y_range\":{\"id\":\"1538\"},\"y_scale\":{\"id\":\"1542\"}},\"id\":\"1533\",\"subtype\":\"Figure\",\"type\":\"Plot\"},{\"attributes\":{\"factors\":[\"Overnight\",\"Friday\",\"FridayNight\",\"Saturday\",\"SaturdayNight\",\"Sunday\",\"SundayNight\",\"Monday\",\"MondayNight\"]},\"id\":\"1536\",\"type\":\"FactorRange\"},{\"attributes\":{},\"id\":\"1560\",\"type\":\"BasicTickFormatter\"},{\"attributes\":{},\"id\":\"1545\",\"type\":\"CategoricalTicker\"},{\"attributes\":{},\"id\":\"1542\",\"type\":\"LinearScale\"},{\"attributes\":{\"formatter\":{\"id\":\"1560\"},\"major_label_policy\":{\"id\":\"1559\"},\"ticker\":{\"id\":\"1548\"}},\"id\":\"1547\",\"type\":\"LinearAxis\"},{\"attributes\":{},\"id\":\"1559\",\"type\":\"AllLabels\"},{\"attributes\":{\"axis\":{\"id\":\"1547\"},\"dimension\":1,\"ticker\":null},\"id\":\"1550\",\"type\":\"Grid\"},{\"attributes\":{\"fill_alpha\":{\"value\":0.1},\"fill_color\":{\"value\":\"#1f77b4\"},\"line_alpha\":{\"value\":0.1},\"line_color\":{\"value\":\"#1f77b4\"},\"top\":{\"field\":\"top\"},\"width\":{\"value\":0.9},\"x\":{\"field\":\"x\"}},\"id\":\"1554\",\"type\":\"VBar\"},{\"attributes\":{},\"id\":\"1564\",\"type\":\"UnionRenderers\"},{\"attributes\":{\"fill_color\":{\"value\":\"#1f77b4\"},\"line_color\":{\"value\":\"#1f77b4\"},\"top\":{\"field\":\"top\"},\"width\":{\"value\":0.9},\"x\":{\"field\":\"x\"}},\"id\":\"1553\",\"type\":\"VBar\"},{\"attributes\":{},\"id\":\"1565\",\"type\":\"Selection\"},{\"attributes\":{\"text\":\"Time_period with the Highest Temperatures\"},\"id\":\"1534\",\"type\":\"Title\"},{\"attributes\":{},\"id\":\"1548\",\"type\":\"BasicTicker\"},{\"attributes\":{\"source\":{\"id\":\"1552\"}},\"id\":\"1556\",\"type\":\"CDSView\"},{\"attributes\":{},\"id\":\"1563\",\"type\":\"CategoricalTickFormatter\"},{\"attributes\":{\"data_source\":{\"id\":\"1552\"},\"glyph\":{\"id\":\"1553\"},\"hover_glyph\":null,\"muted_glyph\":null,\"nonselection_glyph\":{\"id\":\"1554\"},\"view\":{\"id\":\"1556\"}},\"id\":\"1555\",\"type\":\"GlyphRenderer\"},{\"attributes\":{\"start\":0},\"id\":\"1538\",\"type\":\"DataRange1d\"},{\"attributes\":{},\"id\":\"1562\",\"type\":\"AllLabels\"},{\"attributes\":{\"data\":{\"top\":[\"54\",\"65\",\"54\",\"68\",\"54\",\"68\",\"55\",\"69\",\"55\"],\"x\":[\"Overnight\",\"Friday\",\"FridayNight\",\"Saturday\",\"SaturdayNight\",\"Sunday\",\"SundayNight\",\"Monday\",\"MondayNight\"]},\"selected\":{\"id\":\"1565\"},\"selection_policy\":{\"id\":\"1564\"}},\"id\":\"1552\",\"type\":\"ColumnDataSource\"},{\"attributes\":{},\"id\":\"1540\",\"type\":\"CategoricalScale\"},{\"attributes\":{\"active_multi\":null},\"id\":\"1551\",\"type\":\"Toolbar\"},{\"attributes\":{\"formatter\":{\"id\":\"1563\"},\"major_label_orientation\":1.5707963267948966,\"major_label_policy\":{\"id\":\"1562\"},\"ticker\":{\"id\":\"1545\"}},\"id\":\"1544\",\"type\":\"CategoricalAxis\"},{\"attributes\":{\"axis\":{\"id\":\"1544\"},\"grid_line_color\":null,\"ticker\":null},\"id\":\"1546\",\"type\":\"Grid\"}],\"root_ids\":[\"1533\"]},\"title\":\"Bokeh Application\",\"version\":\"2.3.3\"}};\n",
              "  var render_items = [{\"docid\":\"4c25ffab-35ca-4c26-96fa-178ca1b81a08\",\"root_ids\":[\"1533\"],\"roots\":{\"1533\":\"86a7b332-509f-4f25-8f9b-cd57546897d5\"}}];\n",
              "  root.Bokeh.embed.embed_items_notebook(docs_json, render_items);\n",
              "\n",
              "  }\n",
              "  if (root.Bokeh !== undefined) {\n",
              "    embed_document(root);\n",
              "  } else {\n",
              "    var attempts = 0;\n",
              "    var timer = setInterval(function(root) {\n",
              "      if (root.Bokeh !== undefined) {\n",
              "        clearInterval(timer);\n",
              "        embed_document(root);\n",
              "      } else {\n",
              "        attempts++;\n",
              "        if (attempts > 100) {\n",
              "          clearInterval(timer);\n",
              "          console.log(\"Bokeh: ERROR: Unable to run BokehJS code because BokehJS library is missing\");\n",
              "        }\n",
              "      }\n",
              "    }, 10, root)\n",
              "  }\n",
              "})(window);"
            ],
            "application/vnd.bokehjs_exec.v0+json": ""
          },
          "metadata": {
            "tags": [],
            "application/vnd.bokehjs_exec.v0+json": {
              "id": "1533"
            }
          }
        }
      ]
    },
    {
      "cell_type": "markdown",
      "metadata": {
        "id": "Kvm8wjYklu21"
      },
      "source": [
        "#Plot to visualize the Time periods with the Highest Temperatures where Temperature greater than 55 F:"
      ]
    },
    {
      "cell_type": "code",
      "metadata": {
        "colab": {
          "base_uri": "https://localhost:8080/",
          "height": 175
        },
        "id": "4Dxiuvg6lgTy",
        "outputId": "fc588eac-3246-479d-8605-a96ecc7d5acd"
      },
      "source": [
        "data1 = wforecast[wforecast['Temp_nmr'] > 55]\n",
        "data1 = data1.sort_values(['Time_period'],axis=0, ascending=False)[:15]\n",
        "data1"
      ],
      "execution_count": 182,
      "outputs": [
        {
          "output_type": "execute_result",
          "data": {
            "text/html": [
              "<div>\n",
              "<style scoped>\n",
              "    .dataframe tbody tr th:only-of-type {\n",
              "        vertical-align: middle;\n",
              "    }\n",
              "\n",
              "    .dataframe tbody tr th {\n",
              "        vertical-align: top;\n",
              "    }\n",
              "\n",
              "    .dataframe thead th {\n",
              "        text-align: right;\n",
              "    }\n",
              "</style>\n",
              "<table border=\"1\" class=\"dataframe\">\n",
              "  <thead>\n",
              "    <tr style=\"text-align: right;\">\n",
              "      <th></th>\n",
              "      <th>Time_period</th>\n",
              "      <th>Short_desc</th>\n",
              "      <th>Temperature</th>\n",
              "      <th>Description_wc</th>\n",
              "      <th>Temp_nmr</th>\n",
              "      <th>is_nyt</th>\n",
              "    </tr>\n",
              "  </thead>\n",
              "  <tbody>\n",
              "    <tr>\n",
              "      <th>5</th>\n",
              "      <td>Sunday</td>\n",
              "      <td>Mostly Sunny</td>\n",
              "      <td>68</td>\n",
              "      <td>Sunday: Mostly sunny, with a high near 68.</td>\n",
              "      <td>68</td>\n",
              "      <td>False</td>\n",
              "    </tr>\n",
              "    <tr>\n",
              "      <th>3</th>\n",
              "      <td>Saturday</td>\n",
              "      <td>Mostly Sunny</td>\n",
              "      <td>68</td>\n",
              "      <td>Saturday: Mostly sunny, with a high near 68. S...</td>\n",
              "      <td>68</td>\n",
              "      <td>False</td>\n",
              "    </tr>\n",
              "    <tr>\n",
              "      <th>7</th>\n",
              "      <td>Monday</td>\n",
              "      <td>Mostly Sunny</td>\n",
              "      <td>69</td>\n",
              "      <td>Monday: Mostly sunny, with a high near 69.</td>\n",
              "      <td>69</td>\n",
              "      <td>False</td>\n",
              "    </tr>\n",
              "    <tr>\n",
              "      <th>1</th>\n",
              "      <td>Friday</td>\n",
              "      <td>GradualClearing</td>\n",
              "      <td>65</td>\n",
              "      <td>Friday: Cloudy through mid morning, then gradu...</td>\n",
              "      <td>65</td>\n",
              "      <td>False</td>\n",
              "    </tr>\n",
              "  </tbody>\n",
              "</table>\n",
              "</div>"
            ],
            "text/plain": [
              "  Time_period       Short_desc  ... Temp_nmr is_nyt\n",
              "5      Sunday     Mostly Sunny  ...       68  False\n",
              "3    Saturday     Mostly Sunny  ...       68  False\n",
              "7      Monday     Mostly Sunny  ...       69  False\n",
              "1      Friday  GradualClearing  ...       65  False\n",
              "\n",
              "[4 rows x 6 columns]"
            ]
          },
          "metadata": {
            "tags": []
          },
          "execution_count": 182
        }
      ]
    },
    {
      "cell_type": "code",
      "metadata": {
        "colab": {
          "base_uri": "https://localhost:8080/",
          "height": 617
        },
        "id": "nO24DUDAlgWZ",
        "outputId": "aca166e5-011a-488c-94e9-c446903c2e31"
      },
      "source": [
        "p = figure(x_range=data1.iloc[:,0], plot_width=800, plot_height=600, title=\"Time periods with the Highest Temperatures where Temperature greater than 55 F\", toolbar_location=None, tools=\"\")\n",
        "\n",
        "p.vbar(x=data1.iloc[:,0], top=data1.iloc[:,2], width=0.9)\n",
        "\n",
        "p.xgrid.grid_line_color = None\n",
        "p.y_range.start = 0\n",
        "p.xaxis.major_label_orientation = math.pi/2\n",
        "\n",
        "show(p)"
      ],
      "execution_count": 183,
      "outputs": [
        {
          "output_type": "display_data",
          "data": {
            "application/javascript": [
              "\n",
              "(function(root) {\n",
              "  function now() {\n",
              "    return new Date();\n",
              "  }\n",
              "\n",
              "  var force = true;\n",
              "\n",
              "  if (typeof root._bokeh_onload_callbacks === \"undefined\" || force === true) {\n",
              "    root._bokeh_onload_callbacks = [];\n",
              "    root._bokeh_is_loading = undefined;\n",
              "  }\n",
              "\n",
              "  var JS_MIME_TYPE = 'application/javascript';\n",
              "  var HTML_MIME_TYPE = 'text/html';\n",
              "  var EXEC_MIME_TYPE = 'application/vnd.bokehjs_exec.v0+json';\n",
              "  var CLASS_NAME = 'output_bokeh rendered_html';\n",
              "\n",
              "  /**\n",
              "   * Render data to the DOM node\n",
              "   */\n",
              "  function render(props, node) {\n",
              "    var script = document.createElement(\"script\");\n",
              "    node.appendChild(script);\n",
              "  }\n",
              "\n",
              "  /**\n",
              "   * Handle when an output is cleared or removed\n",
              "   */\n",
              "  function handleClearOutput(event, handle) {\n",
              "    var cell = handle.cell;\n",
              "\n",
              "    var id = cell.output_area._bokeh_element_id;\n",
              "    var server_id = cell.output_area._bokeh_server_id;\n",
              "    // Clean up Bokeh references\n",
              "    if (id != null && id in Bokeh.index) {\n",
              "      Bokeh.index[id].model.document.clear();\n",
              "      delete Bokeh.index[id];\n",
              "    }\n",
              "\n",
              "    if (server_id !== undefined) {\n",
              "      // Clean up Bokeh references\n",
              "      var cmd = \"from bokeh.io.state import curstate; print(curstate().uuid_to_server['\" + server_id + \"'].get_sessions()[0].document.roots[0]._id)\";\n",
              "      cell.notebook.kernel.execute(cmd, {\n",
              "        iopub: {\n",
              "          output: function(msg) {\n",
              "            var id = msg.content.text.trim();\n",
              "            if (id in Bokeh.index) {\n",
              "              Bokeh.index[id].model.document.clear();\n",
              "              delete Bokeh.index[id];\n",
              "            }\n",
              "          }\n",
              "        }\n",
              "      });\n",
              "      // Destroy server and session\n",
              "      var cmd = \"import bokeh.io.notebook as ion; ion.destroy_server('\" + server_id + \"')\";\n",
              "      cell.notebook.kernel.execute(cmd);\n",
              "    }\n",
              "  }\n",
              "\n",
              "  /**\n",
              "   * Handle when a new output is added\n",
              "   */\n",
              "  function handleAddOutput(event, handle) {\n",
              "    var output_area = handle.output_area;\n",
              "    var output = handle.output;\n",
              "\n",
              "    // limit handleAddOutput to display_data with EXEC_MIME_TYPE content only\n",
              "    if ((output.output_type != \"display_data\") || (!Object.prototype.hasOwnProperty.call(output.data, EXEC_MIME_TYPE))) {\n",
              "      return\n",
              "    }\n",
              "\n",
              "    var toinsert = output_area.element.find(\".\" + CLASS_NAME.split(' ')[0]);\n",
              "\n",
              "    if (output.metadata[EXEC_MIME_TYPE][\"id\"] !== undefined) {\n",
              "      toinsert[toinsert.length - 1].firstChild.textContent = output.data[JS_MIME_TYPE];\n",
              "      // store reference to embed id on output_area\n",
              "      output_area._bokeh_element_id = output.metadata[EXEC_MIME_TYPE][\"id\"];\n",
              "    }\n",
              "    if (output.metadata[EXEC_MIME_TYPE][\"server_id\"] !== undefined) {\n",
              "      var bk_div = document.createElement(\"div\");\n",
              "      bk_div.innerHTML = output.data[HTML_MIME_TYPE];\n",
              "      var script_attrs = bk_div.children[0].attributes;\n",
              "      for (var i = 0; i < script_attrs.length; i++) {\n",
              "        toinsert[toinsert.length - 1].firstChild.setAttribute(script_attrs[i].name, script_attrs[i].value);\n",
              "        toinsert[toinsert.length - 1].firstChild.textContent = bk_div.children[0].textContent\n",
              "      }\n",
              "      // store reference to server id on output_area\n",
              "      output_area._bokeh_server_id = output.metadata[EXEC_MIME_TYPE][\"server_id\"];\n",
              "    }\n",
              "  }\n",
              "\n",
              "  function register_renderer(events, OutputArea) {\n",
              "\n",
              "    function append_mime(data, metadata, element) {\n",
              "      // create a DOM node to render to\n",
              "      var toinsert = this.create_output_subarea(\n",
              "        metadata,\n",
              "        CLASS_NAME,\n",
              "        EXEC_MIME_TYPE\n",
              "      );\n",
              "      this.keyboard_manager.register_events(toinsert);\n",
              "      // Render to node\n",
              "      var props = {data: data, metadata: metadata[EXEC_MIME_TYPE]};\n",
              "      render(props, toinsert[toinsert.length - 1]);\n",
              "      element.append(toinsert);\n",
              "      return toinsert\n",
              "    }\n",
              "\n",
              "    /* Handle when an output is cleared or removed */\n",
              "    events.on('clear_output.CodeCell', handleClearOutput);\n",
              "    events.on('delete.Cell', handleClearOutput);\n",
              "\n",
              "    /* Handle when a new output is added */\n",
              "    events.on('output_added.OutputArea', handleAddOutput);\n",
              "\n",
              "    /**\n",
              "     * Register the mime type and append_mime function with output_area\n",
              "     */\n",
              "    OutputArea.prototype.register_mime_type(EXEC_MIME_TYPE, append_mime, {\n",
              "      /* Is output safe? */\n",
              "      safe: true,\n",
              "      /* Index of renderer in `output_area.display_order` */\n",
              "      index: 0\n",
              "    });\n",
              "  }\n",
              "\n",
              "  // register the mime type if in Jupyter Notebook environment and previously unregistered\n",
              "  if (root.Jupyter !== undefined) {\n",
              "    var events = require('base/js/events');\n",
              "    var OutputArea = require('notebook/js/outputarea').OutputArea;\n",
              "\n",
              "    if (OutputArea.prototype.mime_types().indexOf(EXEC_MIME_TYPE) == -1) {\n",
              "      register_renderer(events, OutputArea);\n",
              "    }\n",
              "  }\n",
              "\n",
              "  \n",
              "  if (typeof (root._bokeh_timeout) === \"undefined\" || force === true) {\n",
              "    root._bokeh_timeout = Date.now() + 5000;\n",
              "    root._bokeh_failed_load = false;\n",
              "  }\n",
              "\n",
              "  var NB_LOAD_WARNING = {'data': {'text/html':\n",
              "     \"<div style='background-color: #fdd'>\\n\"+\n",
              "     \"<p>\\n\"+\n",
              "     \"BokehJS does not appear to have successfully loaded. If loading BokehJS from CDN, this \\n\"+\n",
              "     \"may be due to a slow or bad network connection. Possible fixes:\\n\"+\n",
              "     \"</p>\\n\"+\n",
              "     \"<ul>\\n\"+\n",
              "     \"<li>re-rerun `output_notebook()` to attempt to load from CDN again, or</li>\\n\"+\n",
              "     \"<li>use INLINE resources instead, as so:</li>\\n\"+\n",
              "     \"</ul>\\n\"+\n",
              "     \"<code>\\n\"+\n",
              "     \"from bokeh.resources import INLINE\\n\"+\n",
              "     \"output_notebook(resources=INLINE)\\n\"+\n",
              "     \"</code>\\n\"+\n",
              "     \"</div>\"}};\n",
              "\n",
              "  function display_loaded() {\n",
              "    var el = document.getElementById(null);\n",
              "    if (el != null) {\n",
              "      el.textContent = \"BokehJS is loading...\";\n",
              "    }\n",
              "    if (root.Bokeh !== undefined) {\n",
              "      if (el != null) {\n",
              "        el.textContent = \"BokehJS \" + root.Bokeh.version + \" successfully loaded.\";\n",
              "      }\n",
              "    } else if (Date.now() < root._bokeh_timeout) {\n",
              "      setTimeout(display_loaded, 100)\n",
              "    }\n",
              "  }\n",
              "\n",
              "\n",
              "  function run_callbacks() {\n",
              "    try {\n",
              "      root._bokeh_onload_callbacks.forEach(function(callback) {\n",
              "        if (callback != null)\n",
              "          callback();\n",
              "      });\n",
              "    } finally {\n",
              "      delete root._bokeh_onload_callbacks\n",
              "    }\n",
              "    console.debug(\"Bokeh: all callbacks have finished\");\n",
              "  }\n",
              "\n",
              "  function load_libs(css_urls, js_urls, callback) {\n",
              "    if (css_urls == null) css_urls = [];\n",
              "    if (js_urls == null) js_urls = [];\n",
              "\n",
              "    root._bokeh_onload_callbacks.push(callback);\n",
              "    if (root._bokeh_is_loading > 0) {\n",
              "      console.debug(\"Bokeh: BokehJS is being loaded, scheduling callback at\", now());\n",
              "      return null;\n",
              "    }\n",
              "    if (js_urls == null || js_urls.length === 0) {\n",
              "      run_callbacks();\n",
              "      return null;\n",
              "    }\n",
              "    console.debug(\"Bokeh: BokehJS not loaded, scheduling load and callback at\", now());\n",
              "    root._bokeh_is_loading = css_urls.length + js_urls.length;\n",
              "\n",
              "    function on_load() {\n",
              "      root._bokeh_is_loading--;\n",
              "      if (root._bokeh_is_loading === 0) {\n",
              "        console.debug(\"Bokeh: all BokehJS libraries/stylesheets loaded\");\n",
              "        run_callbacks()\n",
              "      }\n",
              "    }\n",
              "\n",
              "    function on_error(url) {\n",
              "      console.error(\"failed to load \" + url);\n",
              "    }\n",
              "\n",
              "    for (let i = 0; i < css_urls.length; i++) {\n",
              "      const url = css_urls[i];\n",
              "      const element = document.createElement(\"link\");\n",
              "      element.onload = on_load;\n",
              "      element.onerror = on_error.bind(null, url);\n",
              "      element.rel = \"stylesheet\";\n",
              "      element.type = \"text/css\";\n",
              "      element.href = url;\n",
              "      console.debug(\"Bokeh: injecting link tag for BokehJS stylesheet: \", url);\n",
              "      document.body.appendChild(element);\n",
              "    }\n",
              "\n",
              "    const hashes = {\"https://cdn.bokeh.org/bokeh/release/bokeh-2.3.3.min.js\": \"dM3QQsP+wXdHg42wTqW85BjZQdLNNIXqlPw/BgKoExPmTG7ZLML4EGqLMfqHT6ON\", \"https://cdn.bokeh.org/bokeh/release/bokeh-tables-2.3.3.min.js\": \"8x57I4YuIfu8XyZfFo0XVr2WAT8EK4rh/uDe3wF7YuW2FNUSNEpJbsPaB1nJ2fz2\", \"https://cdn.bokeh.org/bokeh/release/bokeh-widgets-2.3.3.min.js\": \"3QTqdz9LyAm2i0sG5XTePsHec3UHWwVsrOL68SYRoAXsafvfAyqtQ+h440+qIBhS\"};\n",
              "\n",
              "    for (let i = 0; i < js_urls.length; i++) {\n",
              "      const url = js_urls[i];\n",
              "      const element = document.createElement('script');\n",
              "      element.onload = on_load;\n",
              "      element.onerror = on_error.bind(null, url);\n",
              "      element.async = false;\n",
              "      element.src = url;\n",
              "      if (url in hashes) {\n",
              "        element.crossOrigin = \"anonymous\";\n",
              "        element.integrity = \"sha384-\" + hashes[url];\n",
              "      }\n",
              "      console.debug(\"Bokeh: injecting script tag for BokehJS library: \", url);\n",
              "      document.head.appendChild(element);\n",
              "    }\n",
              "  };\n",
              "\n",
              "  function inject_raw_css(css) {\n",
              "    const element = document.createElement(\"style\");\n",
              "    element.appendChild(document.createTextNode(css));\n",
              "    document.body.appendChild(element);\n",
              "  }\n",
              "\n",
              "  \n",
              "  var js_urls = [\"https://cdn.bokeh.org/bokeh/release/bokeh-2.3.3.min.js\", \"https://cdn.bokeh.org/bokeh/release/bokeh-widgets-2.3.3.min.js\", \"https://cdn.bokeh.org/bokeh/release/bokeh-tables-2.3.3.min.js\"];\n",
              "  var css_urls = [];\n",
              "  \n",
              "\n",
              "  var inline_js = [\n",
              "    function(Bokeh) {\n",
              "      Bokeh.set_log_level(\"info\");\n",
              "    },\n",
              "    function(Bokeh) {\n",
              "    \n",
              "    \n",
              "    }\n",
              "  ];\n",
              "\n",
              "  function run_inline_js() {\n",
              "    \n",
              "    if (root.Bokeh !== undefined || force === true) {\n",
              "      \n",
              "    for (var i = 0; i < inline_js.length; i++) {\n",
              "      inline_js[i].call(root, root.Bokeh);\n",
              "    }\n",
              "    } else if (Date.now() < root._bokeh_timeout) {\n",
              "      setTimeout(run_inline_js, 100);\n",
              "    } else if (!root._bokeh_failed_load) {\n",
              "      console.log(\"Bokeh: BokehJS failed to load within specified timeout.\");\n",
              "      root._bokeh_failed_load = true;\n",
              "    } else if (force !== true) {\n",
              "      var cell = $(document.getElementById(null)).parents('.cell').data().cell;\n",
              "      cell.output_area.append_execute_result(NB_LOAD_WARNING)\n",
              "    }\n",
              "\n",
              "  }\n",
              "\n",
              "  if (root._bokeh_is_loading === 0) {\n",
              "    console.debug(\"Bokeh: BokehJS loaded, going straight to plotting\");\n",
              "    run_inline_js();\n",
              "  } else {\n",
              "    load_libs(css_urls, js_urls, function() {\n",
              "      console.debug(\"Bokeh: BokehJS plotting callback run at\", now());\n",
              "      run_inline_js();\n",
              "    });\n",
              "  }\n",
              "}(window));"
            ],
            "application/vnd.bokehjs_load.v0+json": "\n(function(root) {\n  function now() {\n    return new Date();\n  }\n\n  var force = true;\n\n  if (typeof root._bokeh_onload_callbacks === \"undefined\" || force === true) {\n    root._bokeh_onload_callbacks = [];\n    root._bokeh_is_loading = undefined;\n  }\n\n  \n\n  \n  if (typeof (root._bokeh_timeout) === \"undefined\" || force === true) {\n    root._bokeh_timeout = Date.now() + 5000;\n    root._bokeh_failed_load = false;\n  }\n\n  var NB_LOAD_WARNING = {'data': {'text/html':\n     \"<div style='background-color: #fdd'>\\n\"+\n     \"<p>\\n\"+\n     \"BokehJS does not appear to have successfully loaded. If loading BokehJS from CDN, this \\n\"+\n     \"may be due to a slow or bad network connection. Possible fixes:\\n\"+\n     \"</p>\\n\"+\n     \"<ul>\\n\"+\n     \"<li>re-rerun `output_notebook()` to attempt to load from CDN again, or</li>\\n\"+\n     \"<li>use INLINE resources instead, as so:</li>\\n\"+\n     \"</ul>\\n\"+\n     \"<code>\\n\"+\n     \"from bokeh.resources import INLINE\\n\"+\n     \"output_notebook(resources=INLINE)\\n\"+\n     \"</code>\\n\"+\n     \"</div>\"}};\n\n  function display_loaded() {\n    var el = document.getElementById(null);\n    if (el != null) {\n      el.textContent = \"BokehJS is loading...\";\n    }\n    if (root.Bokeh !== undefined) {\n      if (el != null) {\n        el.textContent = \"BokehJS \" + root.Bokeh.version + \" successfully loaded.\";\n      }\n    } else if (Date.now() < root._bokeh_timeout) {\n      setTimeout(display_loaded, 100)\n    }\n  }\n\n\n  function run_callbacks() {\n    try {\n      root._bokeh_onload_callbacks.forEach(function(callback) {\n        if (callback != null)\n          callback();\n      });\n    } finally {\n      delete root._bokeh_onload_callbacks\n    }\n    console.debug(\"Bokeh: all callbacks have finished\");\n  }\n\n  function load_libs(css_urls, js_urls, callback) {\n    if (css_urls == null) css_urls = [];\n    if (js_urls == null) js_urls = [];\n\n    root._bokeh_onload_callbacks.push(callback);\n    if (root._bokeh_is_loading > 0) {\n      console.debug(\"Bokeh: BokehJS is being loaded, scheduling callback at\", now());\n      return null;\n    }\n    if (js_urls == null || js_urls.length === 0) {\n      run_callbacks();\n      return null;\n    }\n    console.debug(\"Bokeh: BokehJS not loaded, scheduling load and callback at\", now());\n    root._bokeh_is_loading = css_urls.length + js_urls.length;\n\n    function on_load() {\n      root._bokeh_is_loading--;\n      if (root._bokeh_is_loading === 0) {\n        console.debug(\"Bokeh: all BokehJS libraries/stylesheets loaded\");\n        run_callbacks()\n      }\n    }\n\n    function on_error(url) {\n      console.error(\"failed to load \" + url);\n    }\n\n    for (let i = 0; i < css_urls.length; i++) {\n      const url = css_urls[i];\n      const element = document.createElement(\"link\");\n      element.onload = on_load;\n      element.onerror = on_error.bind(null, url);\n      element.rel = \"stylesheet\";\n      element.type = \"text/css\";\n      element.href = url;\n      console.debug(\"Bokeh: injecting link tag for BokehJS stylesheet: \", url);\n      document.body.appendChild(element);\n    }\n\n    const hashes = {\"https://cdn.bokeh.org/bokeh/release/bokeh-2.3.3.min.js\": \"dM3QQsP+wXdHg42wTqW85BjZQdLNNIXqlPw/BgKoExPmTG7ZLML4EGqLMfqHT6ON\", \"https://cdn.bokeh.org/bokeh/release/bokeh-tables-2.3.3.min.js\": \"8x57I4YuIfu8XyZfFo0XVr2WAT8EK4rh/uDe3wF7YuW2FNUSNEpJbsPaB1nJ2fz2\", \"https://cdn.bokeh.org/bokeh/release/bokeh-widgets-2.3.3.min.js\": \"3QTqdz9LyAm2i0sG5XTePsHec3UHWwVsrOL68SYRoAXsafvfAyqtQ+h440+qIBhS\"};\n\n    for (let i = 0; i < js_urls.length; i++) {\n      const url = js_urls[i];\n      const element = document.createElement('script');\n      element.onload = on_load;\n      element.onerror = on_error.bind(null, url);\n      element.async = false;\n      element.src = url;\n      if (url in hashes) {\n        element.crossOrigin = \"anonymous\";\n        element.integrity = \"sha384-\" + hashes[url];\n      }\n      console.debug(\"Bokeh: injecting script tag for BokehJS library: \", url);\n      document.head.appendChild(element);\n    }\n  };\n\n  function inject_raw_css(css) {\n    const element = document.createElement(\"style\");\n    element.appendChild(document.createTextNode(css));\n    document.body.appendChild(element);\n  }\n\n  \n  var js_urls = [\"https://cdn.bokeh.org/bokeh/release/bokeh-2.3.3.min.js\", \"https://cdn.bokeh.org/bokeh/release/bokeh-widgets-2.3.3.min.js\", \"https://cdn.bokeh.org/bokeh/release/bokeh-tables-2.3.3.min.js\"];\n  var css_urls = [];\n  \n\n  var inline_js = [\n    function(Bokeh) {\n      Bokeh.set_log_level(\"info\");\n    },\n    function(Bokeh) {\n    \n    \n    }\n  ];\n\n  function run_inline_js() {\n    \n    if (root.Bokeh !== undefined || force === true) {\n      \n    for (var i = 0; i < inline_js.length; i++) {\n      inline_js[i].call(root, root.Bokeh);\n    }\n    } else if (Date.now() < root._bokeh_timeout) {\n      setTimeout(run_inline_js, 100);\n    } else if (!root._bokeh_failed_load) {\n      console.log(\"Bokeh: BokehJS failed to load within specified timeout.\");\n      root._bokeh_failed_load = true;\n    } else if (force !== true) {\n      var cell = $(document.getElementById(null)).parents('.cell').data().cell;\n      cell.output_area.append_execute_result(NB_LOAD_WARNING)\n    }\n\n  }\n\n  if (root._bokeh_is_loading === 0) {\n    console.debug(\"Bokeh: BokehJS loaded, going straight to plotting\");\n    run_inline_js();\n  } else {\n    load_libs(css_urls, js_urls, function() {\n      console.debug(\"Bokeh: BokehJS plotting callback run at\", now());\n      run_inline_js();\n    });\n  }\n}(window));"
          },
          "metadata": {
            "tags": []
          }
        },
        {
          "output_type": "display_data",
          "data": {
            "text/html": [
              "\n",
              "\n",
              "\n",
              "\n",
              "\n",
              "\n",
              "  <div class=\"bk-root\" id=\"8ed6b21c-a263-494a-a67e-fe3dfdaeae45\" data-root-id=\"1611\"></div>\n"
            ]
          },
          "metadata": {
            "tags": []
          }
        },
        {
          "output_type": "display_data",
          "data": {
            "application/javascript": [
              "(function(root) {\n",
              "  function embed_document(root) {\n",
              "    \n",
              "  var docs_json = {\"fb7a6074-c201-44a6-87b0-63f3485cbf81\":{\"defs\":[],\"roots\":{\"references\":[{\"attributes\":{\"below\":[{\"id\":\"1622\"}],\"center\":[{\"id\":\"1624\"},{\"id\":\"1628\"}],\"left\":[{\"id\":\"1625\"}],\"renderers\":[{\"id\":\"1633\"}],\"title\":{\"id\":\"1612\"},\"toolbar\":{\"id\":\"1629\"},\"toolbar_location\":null,\"width\":800,\"x_range\":{\"id\":\"1614\"},\"x_scale\":{\"id\":\"1618\"},\"y_range\":{\"id\":\"1616\"},\"y_scale\":{\"id\":\"1620\"}},\"id\":\"1611\",\"subtype\":\"Figure\",\"type\":\"Plot\"},{\"attributes\":{\"source\":{\"id\":\"1630\"}},\"id\":\"1634\",\"type\":\"CDSView\"},{\"attributes\":{},\"id\":\"1647\",\"type\":\"BasicTickFormatter\"},{\"attributes\":{},\"id\":\"1646\",\"type\":\"AllLabels\"},{\"attributes\":{\"axis\":{\"id\":\"1622\"},\"grid_line_color\":null,\"ticker\":null},\"id\":\"1624\",\"type\":\"Grid\"},{\"attributes\":{\"start\":0},\"id\":\"1616\",\"type\":\"DataRange1d\"},{\"attributes\":{},\"id\":\"1623\",\"type\":\"CategoricalTicker\"},{\"attributes\":{},\"id\":\"1651\",\"type\":\"UnionRenderers\"},{\"attributes\":{},\"id\":\"1652\",\"type\":\"Selection\"},{\"attributes\":{\"factors\":[\"Sunday\",\"Saturday\",\"Monday\",\"Friday\"]},\"id\":\"1614\",\"type\":\"FactorRange\"},{\"attributes\":{},\"id\":\"1650\",\"type\":\"CategoricalTickFormatter\"},{\"attributes\":{\"data\":{\"top\":[\"68\",\"68\",\"69\",\"65\"],\"x\":[\"Sunday\",\"Saturday\",\"Monday\",\"Friday\"]},\"selected\":{\"id\":\"1652\"},\"selection_policy\":{\"id\":\"1651\"}},\"id\":\"1630\",\"type\":\"ColumnDataSource\"},{\"attributes\":{},\"id\":\"1618\",\"type\":\"CategoricalScale\"},{\"attributes\":{},\"id\":\"1649\",\"type\":\"AllLabels\"},{\"attributes\":{\"text\":\"Time periods with the Highest Temperatures where Temperature greater than 55 F\"},\"id\":\"1612\",\"type\":\"Title\"},{\"attributes\":{},\"id\":\"1620\",\"type\":\"LinearScale\"},{\"attributes\":{\"axis\":{\"id\":\"1625\"},\"dimension\":1,\"ticker\":null},\"id\":\"1628\",\"type\":\"Grid\"},{\"attributes\":{\"formatter\":{\"id\":\"1650\"},\"major_label_orientation\":1.5707963267948966,\"major_label_policy\":{\"id\":\"1649\"},\"ticker\":{\"id\":\"1623\"}},\"id\":\"1622\",\"type\":\"CategoricalAxis\"},{\"attributes\":{\"active_multi\":null},\"id\":\"1629\",\"type\":\"Toolbar\"},{\"attributes\":{},\"id\":\"1626\",\"type\":\"BasicTicker\"},{\"attributes\":{\"formatter\":{\"id\":\"1647\"},\"major_label_policy\":{\"id\":\"1646\"},\"ticker\":{\"id\":\"1626\"}},\"id\":\"1625\",\"type\":\"LinearAxis\"},{\"attributes\":{\"data_source\":{\"id\":\"1630\"},\"glyph\":{\"id\":\"1631\"},\"hover_glyph\":null,\"muted_glyph\":null,\"nonselection_glyph\":{\"id\":\"1632\"},\"view\":{\"id\":\"1634\"}},\"id\":\"1633\",\"type\":\"GlyphRenderer\"},{\"attributes\":{\"fill_color\":{\"value\":\"#1f77b4\"},\"line_color\":{\"value\":\"#1f77b4\"},\"top\":{\"field\":\"top\"},\"width\":{\"value\":0.9},\"x\":{\"field\":\"x\"}},\"id\":\"1631\",\"type\":\"VBar\"},{\"attributes\":{\"fill_alpha\":{\"value\":0.1},\"fill_color\":{\"value\":\"#1f77b4\"},\"line_alpha\":{\"value\":0.1},\"line_color\":{\"value\":\"#1f77b4\"},\"top\":{\"field\":\"top\"},\"width\":{\"value\":0.9},\"x\":{\"field\":\"x\"}},\"id\":\"1632\",\"type\":\"VBar\"}],\"root_ids\":[\"1611\"]},\"title\":\"Bokeh Application\",\"version\":\"2.3.3\"}};\n",
              "  var render_items = [{\"docid\":\"fb7a6074-c201-44a6-87b0-63f3485cbf81\",\"root_ids\":[\"1611\"],\"roots\":{\"1611\":\"8ed6b21c-a263-494a-a67e-fe3dfdaeae45\"}}];\n",
              "  root.Bokeh.embed.embed_items_notebook(docs_json, render_items);\n",
              "\n",
              "  }\n",
              "  if (root.Bokeh !== undefined) {\n",
              "    embed_document(root);\n",
              "  } else {\n",
              "    var attempts = 0;\n",
              "    var timer = setInterval(function(root) {\n",
              "      if (root.Bokeh !== undefined) {\n",
              "        clearInterval(timer);\n",
              "        embed_document(root);\n",
              "      } else {\n",
              "        attempts++;\n",
              "        if (attempts > 100) {\n",
              "          clearInterval(timer);\n",
              "          console.log(\"Bokeh: ERROR: Unable to run BokehJS code because BokehJS library is missing\");\n",
              "        }\n",
              "      }\n",
              "    }, 10, root)\n",
              "  }\n",
              "})(window);"
            ],
            "application/vnd.bokehjs_exec.v0+json": ""
          },
          "metadata": {
            "tags": [],
            "application/vnd.bokehjs_exec.v0+json": {
              "id": "1611"
            }
          }
        }
      ]
    },
    {
      "cell_type": "markdown",
      "metadata": {
        "id": "MbDTxE11Maec"
      },
      "source": [
        "#Plot to visualize Name VS. Age :"
      ]
    },
    {
      "cell_type": "code",
      "metadata": {
        "colab": {
          "base_uri": "https://localhost:8080/",
          "height": 326
        },
        "id": "knltqWw8lgY0",
        "outputId": "0a134399-1f62-4de3-cf17-402bc11776a5"
      },
      "source": [
        "# importing pandas library\n",
        "import pandas as pd\n",
        "# importing matplotlib library\n",
        "import matplotlib.pyplot as plt\n",
        "\n",
        "# creating dataframe\n",
        "df = pd.DataFrame({\n",
        "\t'Name': ['John', 'Sammy', 'Joe'],\n",
        "\t'Age': [45, 38, 90]\n",
        "})\n",
        "\n",
        "# plotting a bar graph\n",
        "df.plot(x=\"Name\", y=\"Age\", kind=\"bar\")\n"
      ],
      "execution_count": 184,
      "outputs": [
        {
          "output_type": "execute_result",
          "data": {
            "text/plain": [
              "<matplotlib.axes._subplots.AxesSubplot at 0x7fb09d419d10>"
            ]
          },
          "metadata": {
            "tags": []
          },
          "execution_count": 184
        },
        {
          "output_type": "display_data",
          "data": {
            "image/png": "[encoded data removed]",
            "text/plain": [
              "<Figure size 432x288 with 1 Axes>"
            ]
          },
          "metadata": {
            "tags": [],
            "needs_background": "light"
          }
        }
      ]
    },
    {
      "cell_type": "code",
      "metadata": {
        "colab": {
          "base_uri": "https://localhost:8080/",
          "height": 143
        },
        "id": "jt7ZLjmTxgAA",
        "outputId": "af695497-1531-458c-f668-40856dde792e"
      },
      "source": [
        "# Import pandas\n",
        "import pandas as pd\n",
        "# Load csv\n",
        "#df1 = pd.read_csv(\"Bev_nm.csv\")\n",
        "#Read a CSV File\n",
        "df2.head(3)"
      ],
      "execution_count": 185,
      "outputs": [
        {
          "output_type": "execute_result",
          "data": {
            "text/html": [
              "<div>\n",
              "<style scoped>\n",
              "    .dataframe tbody tr th:only-of-type {\n",
              "        vertical-align: middle;\n",
              "    }\n",
              "\n",
              "    .dataframe tbody tr th {\n",
              "        vertical-align: top;\n",
              "    }\n",
              "\n",
              "    .dataframe thead th {\n",
              "        text-align: right;\n",
              "    }\n",
              "</style>\n",
              "<table border=\"1\" class=\"dataframe\">\n",
              "  <thead>\n",
              "    <tr style=\"text-align: right;\">\n",
              "      <th></th>\n",
              "      <th>Name</th>\n",
              "      <th>Potassium</th>\n",
              "      <th>Sodium</th>\n",
              "      <th>Caffeine</th>\n",
              "      <th>Cost</th>\n",
              "    </tr>\n",
              "  </thead>\n",
              "  <tbody>\n",
              "    <tr>\n",
              "      <th>0</th>\n",
              "      <td>new_england_coffee</td>\n",
              "      <td>144</td>\n",
              "      <td>15</td>\n",
              "      <td>4.7</td>\n",
              "      <td>0.43</td>\n",
              "    </tr>\n",
              "    <tr>\n",
              "      <th>1</th>\n",
              "      <td>post_alley_blend</td>\n",
              "      <td>151</td>\n",
              "      <td>19</td>\n",
              "      <td>4.9</td>\n",
              "      <td>0.43</td>\n",
              "    </tr>\n",
              "    <tr>\n",
              "      <th>2</th>\n",
              "      <td>stumpdown_coffee</td>\n",
              "      <td>157</td>\n",
              "      <td>15</td>\n",
              "      <td>0.9</td>\n",
              "      <td>0.48</td>\n",
              "    </tr>\n",
              "  </tbody>\n",
              "</table>\n",
              "</div>"
            ],
            "text/plain": [
              "                 Name  Potassium  Sodium  Caffeine  Cost\n",
              "0  new_england_coffee        144      15       4.7  0.43\n",
              "1    post_alley_blend        151      19       4.9  0.43\n",
              "2    stumpdown_coffee        157      15       0.9  0.48"
            ]
          },
          "metadata": {
            "tags": []
          },
          "execution_count": 185
        }
      ]
    },
    {
      "cell_type": "markdown",
      "metadata": {
        "id": "CLKKvN8pyezW"
      },
      "source": [
        "#Scatter Plot of Pottasium VS. Sodium Content for Beverage dataset Bev_nm.csv :"
      ]
    },
    {
      "cell_type": "code",
      "metadata": {
        "colab": {
          "base_uri": "https://localhost:8080/",
          "height": 300
        },
        "id": "K9AxUeBoxsGQ",
        "outputId": "aef6b617-3612-437e-87b4-0826da0db744"
      },
      "source": [
        "import matplotlib.pyplot as plt\n",
        "\n",
        "plt.scatter(df2['Potassium'], df2['Sodium'], color='green')\n",
        "plt.title('Potassium Vs Sodium', fontsize=14)\n",
        "plt.xlabel('Potassium', fontsize=14)\n",
        "plt.ylabel('Sodium', fontsize=14)\n",
        "plt.grid(True)\n",
        "plt.show()\n"
      ],
      "execution_count": 186,
      "outputs": [
        {
          "output_type": "display_data",
          "data": {
            "image/png": "[encoded data removed]",
            "text/plain": [
              "<Figure size 432x288 with 1 Axes>"
            ]
          },
          "metadata": {
            "tags": [],
            "needs_background": "light"
          }
        }
      ]
    },
    {
      "cell_type": "markdown",
      "metadata": {
        "id": "6NSlnuAIyupZ"
      },
      "source": [
        "#Scatter Plot of Caffeine VS Cost for Beverage dataset Bev_nm.csv :"
      ]
    },
    {
      "cell_type": "code",
      "metadata": {
        "colab": {
          "base_uri": "https://localhost:8080/",
          "height": 300
        },
        "id": "Ir-J3hXAx6_m",
        "outputId": "e3a401e3-66d3-42ad-c2ef-750a14d5661c"
      },
      "source": [
        "import matplotlib.pyplot as plt\n",
        "\n",
        "plt.scatter(df2['Caffeine'], df2['Cost'], color='red')\n",
        "plt.title('Caffeine Vs Cost', fontsize=14)\n",
        "plt.xlabel('Caffeine', fontsize=14)\n",
        "plt.ylabel('Cost', fontsize=14)\n",
        "plt.grid(True)\n",
        "plt.show()"
      ],
      "execution_count": 187,
      "outputs": [
        {
          "output_type": "display_data",
          "data": {
            "image/png": "[encoded data removed]",
            "text/plain": [
              "<Figure size 432x288 with 1 Axes>"
            ]
          },
          "metadata": {
            "tags": [],
            "needs_background": "light"
          }
        }
      ]
    },
    {
      "cell_type": "code",
      "metadata": {
        "id": "VkhAYbGtzFNr"
      },
      "source": [
        ""
      ],
      "execution_count": 187,
      "outputs": []
    },
    {
      "cell_type": "markdown",
      "metadata": {
        "id": "4bOm5FOuaF6J"
      },
      "source": [
        "#4.\t**Using Python computing environment, Demonstrate the Tensor application with an example**"
      ]
    },
    {
      "cell_type": "code",
      "metadata": {
        "colab": {
          "base_uri": "https://localhost:8080/"
        },
        "id": "8ErCMi_Ya0Ts",
        "outputId": "48137b10-3ff4-4e64-8a0a-e90fca69ceef"
      },
      "source": [
        "import tensorflow as tf\n",
        "import numpy as np\n",
        "tensor1 = tf.constant([\n",
        "  [[0, 1, 2, 3, 4],\n",
        "   [5, 6, 7, 8, 9]],\n",
        "  [[10, 11, 12, 13, 14],\n",
        "   [15, 16, 17, 18, 19]],\n",
        "  [[20, 21, 22, 23, 24],\n",
        "   [25, 26, 27, 28, 29]],])\n",
        "print(tensor1)"
      ],
      "execution_count": 188,
      "outputs": [
        {
          "output_type": "stream",
          "text": [
            "tf.Tensor(\n",
            "[[[ 0  1  2  3  4]\n",
            "  [ 5  6  7  8  9]]\n",
            "\n",
            " [[10 11 12 13 14]\n",
            "  [15 16 17 18 19]]\n",
            "\n",
            " [[20 21 22 23 24]\n",
            "  [25 26 27 28 29]]], shape=(3, 2, 5), dtype=int32)\n"
          ],
          "name": "stdout"
        }
      ]
    },
    {
      "cell_type": "markdown",
      "metadata": {
        "id": "2FI5ZzX2NYDf"
      },
      "source": [
        "#To create tensor"
      ]
    },
    {
      "cell_type": "code",
      "metadata": {
        "colab": {
          "base_uri": "https://localhost:8080/"
        },
        "id": "k4SmvmqMlgbd",
        "outputId": "03acacad-c86d-43dd-cf43-76b7d2c64c8f"
      },
      "source": [
        "from numpy import array\n",
        "\n",
        "T = array([\n",
        "  [[1,2,3],    [4,5,6],    [7,8,9]],\n",
        "  [[11,12,13], [14,15,16], [17,18,19]],\n",
        "  [[21,22,23], [24,25,26], [27,28,29]],\n",
        "  ])\n",
        "\n",
        "print(T.shape)\n",
        "print(T)"
      ],
      "execution_count": 189,
      "outputs": [
        {
          "output_type": "stream",
          "text": [
            "(3, 3, 3)\n",
            "[[[ 1  2  3]\n",
            "  [ 4  5  6]\n",
            "  [ 7  8  9]]\n",
            "\n",
            " [[11 12 13]\n",
            "  [14 15 16]\n",
            "  [17 18 19]]\n",
            "\n",
            " [[21 22 23]\n",
            "  [24 25 26]\n",
            "  [27 28 29]]]\n"
          ],
          "name": "stdout"
        }
      ]
    },
    {
      "cell_type": "markdown",
      "metadata": {
        "id": "AxvfmFYTbD1d"
      },
      "source": [
        "#Element-Wise Tensor Operations :\n"
      ]
    },
    {
      "cell_type": "code",
      "metadata": {
        "colab": {
          "base_uri": "https://localhost:8080/"
        },
        "id": "QISlR_UPlgeO",
        "outputId": "c5f933c7-3ab3-4d87-8bbd-cca6ceb8e328"
      },
      "source": [
        "# Tensor Addition\n",
        "from numpy import array\n",
        "A = array([\n",
        "  [[1,2,3],    [4,5,6],    [7,8,9]],\n",
        "  [[11,12,13], [14,15,16], [17,18,19]],\n",
        "  [[21,22,23], [24,25,26], [27,28,29]],\n",
        "  ])\n",
        "B = array([\n",
        "  [[1,2,3],    [4,5,6],    [7,8,9]],\n",
        "  [[11,12,13], [14,15,16], [17,18,19]],\n",
        "  [[21,22,23], [24,25,26], [27,28,29]],\n",
        "  ])\n",
        "C = A + B\n",
        "print(C)"
      ],
      "execution_count": 190,
      "outputs": [
        {
          "output_type": "stream",
          "text": [
            "[[[ 2  4  6]\n",
            "  [ 8 10 12]\n",
            "  [14 16 18]]\n",
            "\n",
            " [[22 24 26]\n",
            "  [28 30 32]\n",
            "  [34 36 38]]\n",
            "\n",
            " [[42 44 46]\n",
            "  [48 50 52]\n",
            "  [54 56 58]]]\n"
          ],
          "name": "stdout"
        }
      ]
    },
    {
      "cell_type": "code",
      "metadata": {
        "colab": {
          "base_uri": "https://localhost:8080/"
        },
        "id": "rfKU4n0ulggU",
        "outputId": "b158b5b3-0fcf-4746-a1e4-83f4dcaf411f"
      },
      "source": [
        "# Tensor Subtraction\n",
        "from numpy import array\n",
        "A = array([\n",
        "  [[1,2,3],    [4,5,6],    [7,8,9]],\n",
        "  [[11,12,13], [14,15,16], [17,18,19]],\n",
        "  [[21,22,23], [24,25,26], [27,28,29]],\n",
        "  ])\n",
        "B = array([\n",
        "  [[1,2,3],    [4,5,6],    [7,8,9]],\n",
        "  [[11,12,13], [14,15,16], [17,18,19]],\n",
        "  [[21,22,23], [24,25,26], [27,28,29]],\n",
        "  ])\n",
        "C = A - B\n",
        "print(C)"
      ],
      "execution_count": 191,
      "outputs": [
        {
          "output_type": "stream",
          "text": [
            "[[[0 0 0]\n",
            "  [0 0 0]\n",
            "  [0 0 0]]\n",
            "\n",
            " [[0 0 0]\n",
            "  [0 0 0]\n",
            "  [0 0 0]]\n",
            "\n",
            " [[0 0 0]\n",
            "  [0 0 0]\n",
            "  [0 0 0]]]\n"
          ],
          "name": "stdout"
        }
      ]
    },
    {
      "cell_type": "code",
      "metadata": {
        "colab": {
          "base_uri": "https://localhost:8080/"
        },
        "id": "fv6jnNWTbpm1",
        "outputId": "0c3d25a1-38dc-410f-8aa6-31b65dd84144"
      },
      "source": [
        "# Tensor Product\n",
        "# tensor Hadamard product\n",
        "from numpy import array\n",
        "A = array([\n",
        "  [[1,2,3],    [4,5,6],    [7,8,9]],\n",
        "  [[11,12,13], [14,15,16], [17,18,19]],\n",
        "  [[21,22,23], [24,25,26], [27,28,29]],\n",
        "  ])\n",
        "B = array([\n",
        "  [[1,2,3],    [4,5,6],    [7,8,9]],\n",
        "  [[11,12,13], [14,15,16], [17,18,19]],\n",
        "  [[21,22,23], [24,25,26], [27,28,29]],\n",
        "  ])\n",
        "C = A * B\n",
        "print(C)"
      ],
      "execution_count": 192,
      "outputs": [
        {
          "output_type": "stream",
          "text": [
            "[[[  1   4   9]\n",
            "  [ 16  25  36]\n",
            "  [ 49  64  81]]\n",
            "\n",
            " [[121 144 169]\n",
            "  [196 225 256]\n",
            "  [289 324 361]]\n",
            "\n",
            " [[441 484 529]\n",
            "  [576 625 676]\n",
            "  [729 784 841]]]\n"
          ],
          "name": "stdout"
        }
      ]
    },
    {
      "cell_type": "code",
      "metadata": {
        "colab": {
          "base_uri": "https://localhost:8080/"
        },
        "id": "kP5ktmnaOaKQ",
        "outputId": "fb100984-3a0d-4cf9-db40-794a4d5341f8"
      },
      "source": [
        "from numpy import array\n",
        "from numpy import tensordot\n",
        "A = array([1,2])\n",
        "B = array([3,4])\n",
        "C = tensordot(A, B, axes=0)\n",
        "print(C)"
      ],
      "execution_count": 193,
      "outputs": [
        {
          "output_type": "stream",
          "text": [
            "[[3 4]\n",
            " [6 8]]\n"
          ],
          "name": "stdout"
        }
      ]
    },
    {
      "cell_type": "code",
      "metadata": {
        "colab": {
          "base_uri": "https://localhost:8080/"
        },
        "id": "2HRL1lCVbpp4",
        "outputId": "dc0eaf3d-a782-4114-d5be-66dae44bed5b"
      },
      "source": [
        "# Tensor Division\n",
        "from numpy import array\n",
        "A = array([\n",
        "  [[1,2,3],    [4,5,6],    [7,8,9]],\n",
        "  [[11,12,13], [14,15,16], [17,18,19]],\n",
        "  [[21,22,23], [24,25,26], [27,28,29]],\n",
        "  ])\n",
        "B = array([\n",
        "  [[1,2,3],    [4,5,6],    [7,8,9]],\n",
        "  [[11,12,13], [14,15,16], [17,18,19]],\n",
        "  [[21,22,23], [24,25,26], [27,28,29]],\n",
        "  ])\n",
        "C = A / B\n",
        "print(C)"
      ],
      "execution_count": 194,
      "outputs": [
        {
          "output_type": "stream",
          "text": [
            "[[[1. 1. 1.]\n",
            "  [1. 1. 1.]\n",
            "  [1. 1. 1.]]\n",
            "\n",
            " [[1. 1. 1.]\n",
            "  [1. 1. 1.]\n",
            "  [1. 1. 1.]]\n",
            "\n",
            " [[1. 1. 1.]\n",
            "  [1. 1. 1.]\n",
            "  [1. 1. 1.]]]\n"
          ],
          "name": "stdout"
        }
      ]
    },
    {
      "cell_type": "code",
      "metadata": {
        "id": "GqIByUi_05vp"
      },
      "source": [
        ""
      ],
      "execution_count": 194,
      "outputs": []
    },
    {
      "cell_type": "markdown",
      "metadata": {
        "id": "ODsPk9OB1GoX"
      },
      "source": [
        "#**Computing Eigenvalues & Eigenvectors in Python**"
      ]
    },
    {
      "cell_type": "code",
      "metadata": {
        "id": "DHhB4txCbpvV"
      },
      "source": [
        "import numpy as np\n",
        "from sklearn.preprocessing import StandardScaler\n",
        "from numpy.linalg import eig\n",
        "\n",
        "#Numpy array : students , containing Percentage of marks and no. of hours studied\n",
        "students = np.array([[85.4, 5],\n",
        "            [82.3, 6],\n",
        "            [97, 7],\n",
        "            [96.5, 6.5]])\n",
        "\n",
        "# Scaling the features\n",
        "sc = StandardScaler()\n",
        "students_scaled = sc.fit_transform(students)\n"
      ],
      "execution_count": 195,
      "outputs": []
    },
    {
      "cell_type": "code",
      "metadata": {
        "id": "lprPyTZgbpyX"
      },
      "source": [
        "# Calculate covariance matrix :\n",
        "cov_matrix = np.cov(students_scaled.T)\n",
        "\n",
        "# Calculate Eigenvalues and Eigenmatrix\n",
        "eigenvalues, eigenvectors = eig(cov_matrix)"
      ],
      "execution_count": 196,
      "outputs": []
    },
    {
      "cell_type": "markdown",
      "metadata": {
        "id": "v1aRdoeh4ZEa"
      },
      "source": [
        "#Eigenvalues :"
      ]
    },
    {
      "cell_type": "code",
      "metadata": {
        "colab": {
          "base_uri": "https://localhost:8080/"
        },
        "id": "0p6m_vZLbp01",
        "outputId": "51f66b06-b2bd-4b8c-fcf1-d559af572fb4"
      },
      "source": [
        "eigenvalues"
      ],
      "execution_count": 197,
      "outputs": [
        {
          "output_type": "execute_result",
          "data": {
            "text/plain": [
              "array([2.34573455, 0.32093211])"
            ]
          },
          "metadata": {
            "tags": []
          },
          "execution_count": 197
        }
      ]
    },
    {
      "cell_type": "markdown",
      "metadata": {
        "id": "lbRe2Gtq4d0j"
      },
      "source": [
        "#Eigenvectors :"
      ]
    },
    {
      "cell_type": "code",
      "metadata": {
        "colab": {
          "base_uri": "https://localhost:8080/"
        },
        "id": "uuCII37xbp3V",
        "outputId": "dd171bc6-6a36-4cb9-e88d-e6525b883b29"
      },
      "source": [
        "eigenvectors"
      ],
      "execution_count": 198,
      "outputs": [
        {
          "output_type": "execute_result",
          "data": {
            "text/plain": [
              "array([[ 0.70710678, -0.70710678],\n",
              "       [ 0.70710678,  0.70710678]])"
            ]
          },
          "metadata": {
            "tags": []
          },
          "execution_count": 198
        }
      ]
    },
    {
      "cell_type": "markdown",
      "metadata": {
        "id": "eXwWcqka5PQ1"
      },
      "source": [
        "#Compairing LHS and RHS of Ax=λx (where A represents the transformation matrix , x represents eigenvectors and λ represents eigenvalues ) to check the correctness of above computed EigenValues and EigenVectors ;"
      ]
    },
    {
      "cell_type": "code",
      "metadata": {
        "colab": {
          "base_uri": "https://localhost:8080/"
        },
        "id": "pbbEmlHv4eZ5",
        "outputId": "9a28662a-897a-4fb1-d3d1-943126054ab8"
      },
      "source": [
        "# LHS\n",
        "cov_matrix.dot(eigenvectors[:, 0])\n"
      ],
      "execution_count": 199,
      "outputs": [
        {
          "output_type": "execute_result",
          "data": {
            "text/plain": [
              "array([1.65868481, 1.65868481])"
            ]
          },
          "metadata": {
            "tags": []
          },
          "execution_count": 199
        }
      ]
    },
    {
      "cell_type": "code",
      "metadata": {
        "colab": {
          "base_uri": "https://localhost:8080/"
        },
        "id": "IILHmgQZ4ehI",
        "outputId": "6708000f-42a4-4803-a257-b01dc19b4282"
      },
      "source": [
        "# RHS\n",
        "eigenvalues[0]*eigenvectors[:, 0]"
      ],
      "execution_count": 200,
      "outputs": [
        {
          "output_type": "execute_result",
          "data": {
            "text/plain": [
              "array([1.65868481, 1.65868481])"
            ]
          },
          "metadata": {
            "tags": []
          },
          "execution_count": 200
        }
      ]
    },
    {
      "cell_type": "code",
      "metadata": {
        "id": "K5_VGUNK4ej7"
      },
      "source": [
        ""
      ],
      "execution_count": 200,
      "outputs": []
    }
  ]
}