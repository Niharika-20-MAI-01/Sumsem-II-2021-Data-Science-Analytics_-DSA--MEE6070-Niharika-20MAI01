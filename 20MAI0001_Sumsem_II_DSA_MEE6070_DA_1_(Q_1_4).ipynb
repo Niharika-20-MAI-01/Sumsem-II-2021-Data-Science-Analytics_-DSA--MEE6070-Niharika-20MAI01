{
  "nbformat": 4,
  "nbformat_minor": 0,
  "metadata": {
    "colab": {
      "name": "20MAI0001_Sumsem-II_DSA-MEE6070_DA-1-(Q_1-4).ipynb",
      "provenance": [],
      "collapsed_sections": [],
      "authorship_tag": "ABX9TyOu2/ty1ROI0HhVf2y797ux",
      "include_colab_link": true
    },
    "kernelspec": {
      "display_name": "Python 3",
      "name": "python3"
    },
    "language_info": {
      "name": "python"
    }
  },
  "cells": [
    {
      "cell_type": "markdown",
      "metadata": {
        "id": "view-in-github",
        "colab_type": "text"
      },
      "source": [
        "<a href=\"https://colab.research.google.com/github/Niharika-20-MAI-01/Sumsem-II-2021-Data-Science-Analytics_-DSA--MEE6070-Niharika-20MAI01/blob/main/20MAI0001_Sumsem_II_DSA_MEE6070_DA_1_(Q_1_4).ipynb\" target=\"_parent\"><img src=\"https://colab.research.google.com/assets/colab-badge.svg\" alt=\"Open In Colab\"/></a>"
      ]
    },
    {
      "cell_type": "markdown",
      "metadata": {
        "id": "LOg7CnKzYWSN"
      },
      "source": [
        "#Data Science and Analytics -(MEE 6070) -Digital Assignment -1 : Q-(1-4)\n",
        "\n",
        "#Submitted By: 20MAI0001 - NIHARIKA MAITRA\n",
        "\n",
        "git Repo Link for notebook : \n",
        "\n",
        "git Repo Link For datasets used :\n",
        "\n",
        "https://github.com/Niharika-20-MAI-01/Sumsem-II-2021-Data-Science-Analytics_-DSA--MEE6070-Niharika-20MAI01"
      ]
    },
    {
      "cell_type": "markdown",
      "metadata": {
        "id": "Z1cLJCX5deZS"
      },
      "source": [
        "#3.\t**Read a typical CSV file and Write data in Excel sheet using python**"
      ]
    },
    {
      "cell_type": "code",
      "metadata": {
        "colab": {
          "base_uri": "https://localhost:8080/",
          "height": 175
        },
        "id": "qMxhR9uoeZ3o",
        "outputId": "a8176dcf-dd04-4840-a37a-2f720c7d418d"
      },
      "source": [
        "# Import pandas\n",
        "import pandas as pd\n",
        "\n",
        "# Load csv\n",
        "df1 = pd.read_csv(\"titanic_data.csv\")\n",
        "\n",
        "#Read a CSV File\n",
        "df1.head(4)"
      ],
      "execution_count": 681,
      "outputs": [
        {
          "output_type": "execute_result",
          "data": {
            "text/html": [
              "<div>\n",
              "<style scoped>\n",
              "    .dataframe tbody tr th:only-of-type {\n",
              "        vertical-align: middle;\n",
              "    }\n",
              "\n",
              "    .dataframe tbody tr th {\n",
              "        vertical-align: top;\n",
              "    }\n",
              "\n",
              "    .dataframe thead th {\n",
              "        text-align: right;\n",
              "    }\n",
              "</style>\n",
              "<table border=\"1\" class=\"dataframe\">\n",
              "  <thead>\n",
              "    <tr style=\"text-align: right;\">\n",
              "      <th></th>\n",
              "      <th>PassengerId</th>\n",
              "      <th>Survived</th>\n",
              "      <th>Pclass</th>\n",
              "      <th>Name</th>\n",
              "      <th>Sex</th>\n",
              "      <th>Age</th>\n",
              "      <th>SibSp</th>\n",
              "      <th>Parch</th>\n",
              "      <th>Ticket</th>\n",
              "      <th>Fare</th>\n",
              "      <th>Cabin</th>\n",
              "      <th>Embarked</th>\n",
              "    </tr>\n",
              "  </thead>\n",
              "  <tbody>\n",
              "    <tr>\n",
              "      <th>0</th>\n",
              "      <td>1</td>\n",
              "      <td>0</td>\n",
              "      <td>3</td>\n",
              "      <td>Braund, Mr. Owen Harris</td>\n",
              "      <td>male</td>\n",
              "      <td>22.0</td>\n",
              "      <td>1</td>\n",
              "      <td>0</td>\n",
              "      <td>A/5 21171</td>\n",
              "      <td>7.2500</td>\n",
              "      <td>NaN</td>\n",
              "      <td>S</td>\n",
              "    </tr>\n",
              "    <tr>\n",
              "      <th>1</th>\n",
              "      <td>2</td>\n",
              "      <td>1</td>\n",
              "      <td>1</td>\n",
              "      <td>Cumings, Mrs. John Bradley (Florence Briggs Th...</td>\n",
              "      <td>female</td>\n",
              "      <td>38.0</td>\n",
              "      <td>1</td>\n",
              "      <td>0</td>\n",
              "      <td>PC 17599</td>\n",
              "      <td>71.2833</td>\n",
              "      <td>C85</td>\n",
              "      <td>C</td>\n",
              "    </tr>\n",
              "    <tr>\n",
              "      <th>2</th>\n",
              "      <td>3</td>\n",
              "      <td>1</td>\n",
              "      <td>3</td>\n",
              "      <td>Heikkinen, Miss. Laina</td>\n",
              "      <td>female</td>\n",
              "      <td>26.0</td>\n",
              "      <td>0</td>\n",
              "      <td>0</td>\n",
              "      <td>STON/O2. 3101282</td>\n",
              "      <td>7.9250</td>\n",
              "      <td>NaN</td>\n",
              "      <td>S</td>\n",
              "    </tr>\n",
              "    <tr>\n",
              "      <th>3</th>\n",
              "      <td>4</td>\n",
              "      <td>1</td>\n",
              "      <td>1</td>\n",
              "      <td>Futrelle, Mrs. Jacques Heath (Lily May Peel)</td>\n",
              "      <td>female</td>\n",
              "      <td>35.0</td>\n",
              "      <td>1</td>\n",
              "      <td>0</td>\n",
              "      <td>113803</td>\n",
              "      <td>53.1000</td>\n",
              "      <td>C123</td>\n",
              "      <td>S</td>\n",
              "    </tr>\n",
              "  </tbody>\n",
              "</table>\n",
              "</div>"
            ],
            "text/plain": [
              "   PassengerId  Survived  Pclass  ...     Fare Cabin  Embarked\n",
              "0            1         0       3  ...   7.2500   NaN         S\n",
              "1            2         1       1  ...  71.2833   C85         C\n",
              "2            3         1       3  ...   7.9250   NaN         S\n",
              "3            4         1       1  ...  53.1000  C123         S\n",
              "\n",
              "[4 rows x 12 columns]"
            ]
          },
          "metadata": {
            "tags": []
          },
          "execution_count": 681
        }
      ]
    },
    {
      "cell_type": "markdown",
      "metadata": {
        "id": "zbjtYU8vhwP8"
      },
      "source": [
        "#To Write Pandas DataFrames to Excel Files :"
      ]
    },
    {
      "cell_type": "code",
      "metadata": {
        "id": "jMt_m5m0hoDO"
      },
      "source": [
        "# Install `XlsxWriter`\n",
        "#!pip install XlsxWriter"
      ],
      "execution_count": 682,
      "outputs": []
    },
    {
      "cell_type": "code",
      "metadata": {
        "id": "3ExjvHrph7UU"
      },
      "source": [
        "import pandas as pd\n",
        "# Specify a writer\n",
        "writer = pd.ExcelWriter('tt.xlsx', engine='xlsxwriter')\n",
        "\n",
        "# Write your DataFrame to a file \n",
        "# To store the dataframe that you are interested in writing as an excel file  \n",
        "df1.to_excel(writer, 'Sheet1')\n",
        "\n",
        "# Save the result\n",
        "writer.save()"
      ],
      "execution_count": 683,
      "outputs": []
    },
    {
      "cell_type": "code",
      "metadata": {
        "id": "ZV-58uSJh7Yh"
      },
      "source": [
        "# Write the DataFrame to csv\n",
        "df1.to_csv(\"example.csv\")"
      ],
      "execution_count": 684,
      "outputs": []
    },
    {
      "cell_type": "markdown",
      "metadata": {
        "id": "Ej7euHm8Zewr"
      },
      "source": [
        "#Importing a given table through Dataframe using PANDAS in python :"
      ]
    },
    {
      "cell_type": "code",
      "metadata": {
        "colab": {
          "base_uri": "https://localhost:8080/"
        },
        "id": "v-2U_gl4YVun",
        "outputId": "0e0cd28b-66d1-4c68-cc45-5d8bd35a6a25"
      },
      "source": [
        "import pandas as pd\n",
        "\n",
        "my_dist={'Input-1' : [2.781084,1.465489, 3.396562, 1.38807, 3.064072, 7.627531, 5.332441,6.922597,8.675419,7.673756], \n",
        "         'Input-2' : [2.550537,2.362125,4.400294, 1.85022, 3.005306, 2.759262, 2.088627,1.771064,-0.24207,3.508563], \n",
        "         'Output-1' : [0,0,0,0,0,1,1,1,1,1],\n",
        "         'Output-2' : [\"Apple\", \"Apple\", \"Apple\", \"Apple\", \"Apple\", \"Orange\", \"Orange\",\"Orange\",\"Orange\",\"Orange\"],\n",
        "        }\n",
        "#Load data into a DataFrame instance\n",
        "df=pd.DataFrame(my_dist)\n",
        "print(df.head())\n"
      ],
      "execution_count": 685,
      "outputs": [
        {
          "output_type": "stream",
          "text": [
            "    Input-1   Input-2  Output-1 Output-2\n",
            "0  2.781084  2.550537         0    Apple\n",
            "1  1.465489  2.362125         0    Apple\n",
            "2  3.396562  4.400294         0    Apple\n",
            "3  1.388070  1.850220         0    Apple\n",
            "4  3.064072  3.005306         0    Apple\n"
          ],
          "name": "stdout"
        }
      ]
    },
    {
      "cell_type": "markdown",
      "metadata": {
        "id": "OxvZ82bDfiEu"
      },
      "source": [
        "#To get the contents of a DataFrame as a CSV string\n",
        "\n",
        "\n",
        " \n"
      ]
    },
    {
      "cell_type": "code",
      "metadata": {
        "id": "ymLWOjoTY-zV"
      },
      "source": [
        "import pandas as pds\n",
        "\n",
        "my_dist={'Input-1' : [2.781084,1.465489, 3.396562, 1.38807, 3.064072, 7.627531, 5.332441,6.922597,8.675419,7.673756], \n",
        "         'Input-2' : [2.550537,2.362125,4.400294, 1.85022, 3.005306, 2.759262, 2.088627,1.771064,-0.24207,3.508563], \n",
        "         'Output-1' : [0,0,0,0,0,1,1,1,1,1],\n",
        "         'Output-2' : [\"Apple\", \"Apple\", \"Apple\", \"Apple\", \"Apple\", \"Orange\", \"Orange\",\"Orange\",\"Orange\",\"Orange\"],\n",
        "        }\n",
        "#Load data into a DataFrame instance\n",
        "#dataFrame = pds.DataFrame(data=my_dist, index=(\"Input-1\",\"Input-2\",\"Output-1\",\"Output-2\"));\n",
        "col = pd.DataFrame([my_dist], columns=[\"Input-1\",\"Input-2\",\"Output-1\",\"Output-2\"])"
      ],
      "execution_count": 686,
      "outputs": []
    },
    {
      "cell_type": "code",
      "metadata": {
        "colab": {
          "base_uri": "https://localhost:8080/"
        },
        "id": "qjsw8IgAY-2Q",
        "outputId": "7e2bf017-d40c-466d-9700-1976246a029c"
      },
      "source": [
        "#Get the contents of the DataFrame as a CSV file\n",
        "\n",
        "csv=col.to_csv();\n",
        "\n",
        "print(\"Contents of the DataFrame as a CSV string:\")\n",
        "\n",
        "print(csv);\n"
      ],
      "execution_count": 687,
      "outputs": [
        {
          "output_type": "stream",
          "text": [
            "Contents of the DataFrame as a CSV string:\n",
            ",Input-1,Input-2,Output-1,Output-2\n",
            "0,\"[2.781084, 1.465489, 3.396562, 1.38807, 3.064072, 7.627531, 5.332441, 6.922597, 8.675419, 7.673756]\",\"[2.550537, 2.362125, 4.400294, 1.85022, 3.005306, 2.759262, 2.088627, 1.771064, -0.24207, 3.508563]\",\"[0, 0, 0, 0, 0, 1, 1, 1, 1, 1]\",\"['Apple', 'Apple', 'Apple', 'Apple', 'Apple', 'Orange', 'Orange', 'Orange', 'Orange', 'Orange']\"\n",
            "\n"
          ],
          "name": "stdout"
        }
      ]
    },
    {
      "cell_type": "markdown",
      "metadata": {
        "id": "HzJDiDKajRmT"
      },
      "source": [
        "#To write the contents of a DataFrame to a buffer"
      ]
    },
    {
      "cell_type": "code",
      "metadata": {
        "id": "yKyYZrCmY-8I"
      },
      "source": [
        "import pandas as pds\n",
        "from io import StringIO\n",
        "\n",
        "my_dist={'Input-1' : [2.781084,1.465489, 3.396562, 1.38807, 3.064072, 7.627531, 5.332441,6.922597,8.675419,7.673756], \n",
        "         'Input-2' : [2.550537,2.362125,4.400294, 1.85022, 3.005306, 2.759262, 2.088627,1.771064,-0.24207,3.508563], \n",
        "         'Output-1' : [0,0,0,0,0,1,1,1,1,1],\n",
        "         'Output-2' : [\"Apple\", \"Apple\", \"Apple\", \"Apple\", \"Apple\", \"Orange\", \"Orange\",\"Orange\",\"Orange\",\"Orange\"],\n",
        "        }\n",
        "\n",
        "# Load data from the Python dictionary into a DataFrame instance\n",
        "dataFrame = pds.DataFrame(data=my_dist);\n"
      ],
      "execution_count": 688,
      "outputs": []
    },
    {
      "cell_type": "code",
      "metadata": {
        "colab": {
          "base_uri": "https://localhost:8080/"
        },
        "id": "tncDAobLY--n",
        "outputId": "26e8b9f7-ee44-4502-aab7-8517499407e2"
      },
      "source": [
        "# Create an in-memory text stream\n",
        "textStream = StringIO();\n",
        "\n",
        "# Write the DataFrame contents to the text stream's buffer as a CSV\n",
        "dataFrame.to_csv(textStream);\n",
        "print(\"DataFrame as CSV (from the buffer):\");\n",
        "\n",
        "# Print the buffer contents\n",
        "print(textStream.getvalue());"
      ],
      "execution_count": 689,
      "outputs": [
        {
          "output_type": "stream",
          "text": [
            "DataFrame as CSV (from the buffer):\n",
            ",Input-1,Input-2,Output-1,Output-2\n",
            "0,2.781084,2.550537,0,Apple\n",
            "1,1.465489,2.362125,0,Apple\n",
            "2,3.396562,4.400294,0,Apple\n",
            "3,1.38807,1.85022,0,Apple\n",
            "4,3.064072,3.005306,0,Apple\n",
            "5,7.627531,2.759262,1,Orange\n",
            "6,5.332441,2.088627,1,Orange\n",
            "7,6.922597,1.771064,1,Orange\n",
            "8,8.675419,-0.24207,1,Orange\n",
            "9,7.673756,3.508563,1,Orange\n",
            "\n"
          ],
          "name": "stdout"
        }
      ]
    },
    {
      "cell_type": "markdown",
      "metadata": {
        "id": "BxIlU-qRywqP"
      },
      "source": [
        "#To Read Excel Files Using PANDAS :"
      ]
    },
    {
      "cell_type": "code",
      "metadata": {
        "id": "IO_uKhgzynFV"
      },
      "source": [
        "import pandas as pd\n",
        "import numpy as np \n",
        "\n",
        "from google.colab import files\n",
        "#uploaded = files.upload()\n"
      ],
      "execution_count": 690,
      "outputs": []
    },
    {
      "cell_type": "code",
      "metadata": {
        "colab": {
          "base_uri": "https://localhost:8080/",
          "height": 206
        },
        "id": "o_Bm3ofTynP7",
        "outputId": "ecb7586a-6b96-42cc-da78-497414aa1026"
      },
      "source": [
        "import io\n",
        "df2 = pd.read_excel(io.BytesIO(uploaded['Bev_nm.xlsx']))\n",
        "df2.head()"
      ],
      "execution_count": 691,
      "outputs": [
        {
          "output_type": "execute_result",
          "data": {
            "text/html": [
              "<div>\n",
              "<style scoped>\n",
              "    .dataframe tbody tr th:only-of-type {\n",
              "        vertical-align: middle;\n",
              "    }\n",
              "\n",
              "    .dataframe tbody tr th {\n",
              "        vertical-align: top;\n",
              "    }\n",
              "\n",
              "    .dataframe thead th {\n",
              "        text-align: right;\n",
              "    }\n",
              "</style>\n",
              "<table border=\"1\" class=\"dataframe\">\n",
              "  <thead>\n",
              "    <tr style=\"text-align: right;\">\n",
              "      <th></th>\n",
              "      <th>Name</th>\n",
              "      <th>Potassium</th>\n",
              "      <th>Sodium</th>\n",
              "      <th>Caffeine</th>\n",
              "      <th>Cost</th>\n",
              "    </tr>\n",
              "  </thead>\n",
              "  <tbody>\n",
              "    <tr>\n",
              "      <th>0</th>\n",
              "      <td>new_england_coffee</td>\n",
              "      <td>144</td>\n",
              "      <td>15</td>\n",
              "      <td>4.7</td>\n",
              "      <td>0.43</td>\n",
              "    </tr>\n",
              "    <tr>\n",
              "      <th>1</th>\n",
              "      <td>post_alley_blend</td>\n",
              "      <td>151</td>\n",
              "      <td>19</td>\n",
              "      <td>4.9</td>\n",
              "      <td>0.43</td>\n",
              "    </tr>\n",
              "    <tr>\n",
              "      <th>2</th>\n",
              "      <td>stumpdown_coffee</td>\n",
              "      <td>157</td>\n",
              "      <td>15</td>\n",
              "      <td>0.9</td>\n",
              "      <td>0.48</td>\n",
              "    </tr>\n",
              "    <tr>\n",
              "      <th>3</th>\n",
              "      <td>bizzy_organic_coffee</td>\n",
              "      <td>170</td>\n",
              "      <td>7</td>\n",
              "      <td>5.2</td>\n",
              "      <td>0.73</td>\n",
              "    </tr>\n",
              "    <tr>\n",
              "      <th>4</th>\n",
              "      <td>indian_bean</td>\n",
              "      <td>152</td>\n",
              "      <td>11</td>\n",
              "      <td>5.0</td>\n",
              "      <td>0.77</td>\n",
              "    </tr>\n",
              "  </tbody>\n",
              "</table>\n",
              "</div>"
            ],
            "text/plain": [
              "                   Name  Potassium  Sodium  Caffeine  Cost\n",
              "0    new_england_coffee        144      15       4.7  0.43\n",
              "1      post_alley_blend        151      19       4.9  0.43\n",
              "2      stumpdown_coffee        157      15       0.9  0.48\n",
              "3  bizzy_organic_coffee        170       7       5.2  0.73\n",
              "4           indian_bean        152      11       5.0  0.77"
            ]
          },
          "metadata": {
            "tags": []
          },
          "execution_count": 691
        }
      ]
    },
    {
      "cell_type": "code",
      "metadata": {
        "id": "0MgJ5wLqynXE"
      },
      "source": [
        ""
      ],
      "execution_count": 691,
      "outputs": []
    },
    {
      "cell_type": "markdown",
      "metadata": {
        "id": "81cwzMocdE3h"
      },
      "source": [
        "#2.\t**Extract data using web scraping with python from a typical web source**"
      ]
    },
    {
      "cell_type": "markdown",
      "metadata": {
        "id": "a6E2PdgnnWmS"
      },
      "source": [
        "#To Implement Web Scrapping on the Weather Forecasting webpage of the National Weather Service’s website of the US :"
      ]
    },
    {
      "cell_type": "code",
      "metadata": {
        "colab": {
          "base_uri": "https://localhost:8080/"
        },
        "id": "O6dkkN3inUfd",
        "outputId": "35a001e3-dd57-4b93-a121-cd7ba1ad78ba"
      },
      "source": [
        "from urllib.request import urlopen\n",
        "import requests\n",
        "page = requests.get(\"https://forecast.weather.gov/MapClick.php?lat=37.7772&lon=-122.4168\")\n",
        "page\n",
        "page.status_code"
      ],
      "execution_count": 692,
      "outputs": [
        {
          "output_type": "execute_result",
          "data": {
            "text/plain": [
              "200"
            ]
          },
          "metadata": {
            "tags": []
          },
          "execution_count": 692
        }
      ]
    },
    {
      "cell_type": "code",
      "metadata": {
        "id": "NPfB2QwUnUiy"
      },
      "source": [
        "from bs4 import BeautifulSoup\n",
        "soup_wf = BeautifulSoup(page.content, 'html.parser')"
      ],
      "execution_count": 693,
      "outputs": []
    },
    {
      "cell_type": "markdown",
      "metadata": {
        "id": "idhAgXv6oO3L"
      },
      "source": [
        "To check the type of each element in the list :"
      ]
    },
    {
      "cell_type": "code",
      "metadata": {
        "colab": {
          "base_uri": "https://localhost:8080/"
        },
        "id": "IE4mM9IWnUlC",
        "outputId": "adc8e986-bff2-4864-efbe-0bd336a265f2"
      },
      "source": [
        "[type(item) for item in list(soup_wf.children)]"
      ],
      "execution_count": 694,
      "outputs": [
        {
          "output_type": "execute_result",
          "data": {
            "text/plain": [
              "[bs4.element.Doctype,\n",
              " bs4.element.NavigableString,\n",
              " bs4.element.Tag,\n",
              " bs4.element.NavigableString,\n",
              " bs4.element.Tag,\n",
              " bs4.element.NavigableString,\n",
              " bs4.element.NavigableString,\n",
              " bs4.element.NavigableString,\n",
              " bs4.element.NavigableString]"
            ]
          },
          "metadata": {
            "tags": []
          },
          "execution_count": 694
        }
      ]
    },
    {
      "cell_type": "markdown",
      "metadata": {
        "id": "ervLxuK7iVGD"
      },
      "source": [
        "Since 'find_all' returns a list, so it is required to loop through, or use list indexing, in order to to extract the text:"
      ]
    },
    {
      "cell_type": "code",
      "metadata": {
        "colab": {
          "base_uri": "https://localhost:8080/"
        },
        "id": "T1AfhIyAnUn9",
        "outputId": "05bc0e1a-43f1-4a54-a6d9-6b9f6d4c8fa0"
      },
      "source": [
        "for i in range(10, 21) :\n",
        "    print(soup_wf.find_all('div')[i].get_text())"
      ],
      "execution_count": 695,
      "outputs": [
        {
          "output_type": "stream",
          "text": [
            "Multiple locations were found. Please select one of the following:\n",
            "\n",
            "\n",
            "Your local forecast office is\n",
            "\n",
            "\n",
            "\n",
            "\n",
            "\n",
            "\n",
            "Heavy Rainfall Increases Flooding Threats in the Central and Southwest U.S.\n",
            "\n",
            "            Heavy rain may result in flash, urban and small stream flooding as well as new and renewed river rises today into Friday night across portions of Missouri into central Illinois. The heavy rain and flood threat will shift to the Northeast U.S. for Saturday. Monsoon moisture will contribute to the development of thunderstorms with heavy rain which may bring flash flooding today in the Southwest.\n",
            "            Read More >\n",
            "\n",
            "\n",
            "\n",
            "\n",
            "\n",
            "\n",
            "\n",
            "Heavy Rainfall Increases Flooding Threats in the Central and Southwest U.S.\n",
            "\n",
            "            Heavy rain may result in flash, urban and small stream flooding as well as new and renewed river rises today into Friday night across portions of Missouri into central Illinois. The heavy rain and flood threat will shift to the Northeast U.S. for Saturday. Monsoon moisture will contribute to the development of thunderstorms with heavy rain which may bring flash flooding today in the Southwest.\n",
            "            Read More >\n",
            "\n",
            "\n",
            "\n",
            "\n",
            "\n",
            "Heavy Rainfall Increases Flooding Threats in the Central and Southwest U.S.\n",
            "\n",
            "            Heavy rain may result in flash, urban and small stream flooding as well as new and renewed river rises today into Friday night across portions of Missouri into central Illinois. The heavy rain and flood threat will shift to the Northeast U.S. for Saturday. Monsoon moisture will contribute to the development of thunderstorms with heavy rain which may bring flash flooding today in the Southwest.\n",
            "            Read More >\n",
            "\n",
            "\n",
            "\n",
            "En Español\n",
            "\n",
            "Share\n",
            "|\n",
            "\n",
            "\n",
            "\n",
            "\n",
            "\n",
            "\n",
            "\n",
            "\t\tvar addthis_config = addthis_config || {data_track_addressbar:true, pubid: 'xa-4b05b2d91f18c9cc'};\n",
            "\t    $(document).ready(function(){\n",
            "\t\t\tjQuery.ajax({\n",
            "\t\t\t\turl: \"//s7.addthis.com/js/300/addthis_widget.js#async=1\",\n",
            "\t\t\t\tdataType: \"script\",\n",
            "\t\t\t\tcache: false\n",
            "\t\t\t});\n",
            "\t    });\n",
            "\t\n",
            "\n",
            "\n",
            "Share\n",
            "|\n",
            "\n",
            "\n",
            "\n",
            "\n",
            "\n",
            "\n",
            "\n",
            "\n",
            "\n",
            "\n",
            "Current conditions at\n",
            "SAN FRANCISCO DOWNTOWN (SFOC1)\n",
            "Lat: 37.77056°NLon: 122.42694°WElev: 150ft.\n",
            "\n",
            "\n",
            "\n",
            "\n",
            "\n",
            "NA\n",
            "53°F\n",
            "12°C\n",
            "\n",
            "\n",
            "\n",
            "\n",
            "Humidity\n",
            "94%\n",
            "\n",
            "\n",
            "Wind Speed\n",
            "NA NA MPH\n",
            "\n",
            "\n",
            "Barometer\n",
            "NA\n",
            "\n",
            "\n",
            "Dewpoint\n",
            "52°F (11°C)\n",
            "\n",
            "\n",
            "Visibility\n",
            "NA\n",
            "\n",
            "\n",
            "Last update\n",
            "\n",
            "                15 Jul 09:43 AM PDT            \n",
            "\n",
            "\n",
            "\n",
            "\n",
            "\n",
            "\n",
            "More Information:Local Forecast OfficeMore Local Wx3 Day HistoryMobile WeatherHourly Weather Forecast \n",
            "\n",
            "\n",
            "\n",
            "\n",
            "\n",
            "\n",
            "\n",
            "\n",
            "Current conditions at\n",
            "SAN FRANCISCO DOWNTOWN (SFOC1)\n",
            "Lat: 37.77056°NLon: 122.42694°WElev: 150ft.\n",
            "\n",
            "\n"
          ],
          "name": "stdout"
        }
      ]
    },
    {
      "cell_type": "markdown",
      "metadata": {
        "id": "IDBRA79Mopa6"
      },
      "source": [
        "To Find the div with id seven-day-forecast, and assign it to sd variable :"
      ]
    },
    {
      "cell_type": "code",
      "metadata": {
        "colab": {
          "base_uri": "https://localhost:8080/"
        },
        "id": "wZd_G3pUnUqv",
        "outputId": "2c259ab1-2461-4fc7-9e1f-c3f490bae827"
      },
      "source": [
        "sd = soup_wf.find(id=\"seven-day-forecast\")\n",
        "sd"
      ],
      "execution_count": 696,
      "outputs": [
        {
          "output_type": "execute_result",
          "data": {
            "text/plain": [
              "<div class=\"panel panel-default\" id=\"seven-day-forecast\">\n",
              "<div class=\"panel-heading\">\n",
              "<b>Extended Forecast for</b>\n",
              "<h2 class=\"panel-title\">\n",
              "\t    \t    San Francisco CA\t</h2>\n",
              "</div>\n",
              "<div class=\"panel-body\" id=\"seven-day-forecast-body\">\n",
              "<div id=\"seven-day-forecast-container\"><ul class=\"list-unstyled\" id=\"seven-day-forecast-list\"><li class=\"forecast-tombstone\">\n",
              "<div class=\"tombstone-container\">\n",
              "<p class=\"period-name\">Today<br/><br/></p>\n",
              "<p><img alt=\"Today: Cloudy, then gradually becoming mostly sunny, with a high near 63. Breezy, with a west southwest wind 14 to 23 mph, with gusts as high as 30 mph. \" class=\"forecast-icon\" src=\"DualImage.php?i=bkn&amp;j=wind_sct\" title=\"Today: Cloudy, then gradually becoming mostly sunny, with a high near 63. Breezy, with a west southwest wind 14 to 23 mph, with gusts as high as 30 mph. \"/></p><p class=\"short-desc\">Mostly Cloudy<br/>then Mostly<br/>Sunny and<br/>Breezy</p><p class=\"temp temp-high\">High: 63 °F</p></div></li><li class=\"forecast-tombstone\">\n",
              "<div class=\"tombstone-container\">\n",
              "<p class=\"period-name\">Tonight<br/><br/></p>\n",
              "<p><img alt=\"Tonight: Mostly cloudy, with a low around 53. Breezy, with a west southwest wind 18 to 23 mph decreasing to 11 to 16 mph after midnight. Winds could gust as high as 30 mph. \" class=\"forecast-icon\" src=\"DualImage.php?i=nwind_bkn&amp;j=nbkn\" title=\"Tonight: Mostly cloudy, with a low around 53. Breezy, with a west southwest wind 18 to 23 mph decreasing to 11 to 16 mph after midnight. Winds could gust as high as 30 mph. \"/></p><p class=\"short-desc\">Mostly Cloudy<br/>and Breezy<br/>then Mostly<br/>Cloudy</p><p class=\"temp temp-low\">Low: 53 °F</p></div></li><li class=\"forecast-tombstone\">\n",
              "<div class=\"tombstone-container\">\n",
              "<p class=\"period-name\">Friday<br/><br/></p>\n",
              "<p><img alt=\"Friday: Mostly cloudy, then gradually becoming sunny, with a high near 66. Southwest wind 9 to 14 mph increasing to 15 to 20 mph in the afternoon. Winds could gust as high as 25 mph. \" class=\"forecast-icon\" src=\"newimages/medium/bkn.png\" title=\"Friday: Mostly cloudy, then gradually becoming sunny, with a high near 66. Southwest wind 9 to 14 mph increasing to 15 to 20 mph in the afternoon. Winds could gust as high as 25 mph. \"/></p><p class=\"short-desc\">Decreasing<br/>Clouds</p><p class=\"temp temp-high\">High: 66 °F</p></div></li><li class=\"forecast-tombstone\">\n",
              "<div class=\"tombstone-container\">\n",
              "<p class=\"period-name\">Friday<br/>Night</p>\n",
              "<p><img alt=\"Friday Night: Partly cloudy, with a low around 54. Breezy, with a west southwest wind 17 to 22 mph decreasing to 9 to 14 mph in the evening. Winds could gust as high as 29 mph. \" class=\"forecast-icon\" src=\"DualImage.php?i=nwind_few&amp;j=nbkn\" title=\"Friday Night: Partly cloudy, with a low around 54. Breezy, with a west southwest wind 17 to 22 mph decreasing to 9 to 14 mph in the evening. Winds could gust as high as 29 mph. \"/></p><p class=\"short-desc\">Mostly Clear<br/>and Breezy<br/>then Mostly<br/>Cloudy</p><p class=\"temp temp-low\">Low: 54 °F</p></div></li><li class=\"forecast-tombstone\">\n",
              "<div class=\"tombstone-container\">\n",
              "<p class=\"period-name\">Saturday<br/><br/></p>\n",
              "<p><img alt=\"Saturday: Mostly sunny, with a high near 67. Southwest wind 8 to 13 mph increasing to 15 to 20 mph in the afternoon. Winds could gust as high as 25 mph. \" class=\"forecast-icon\" src=\"newimages/medium/sct.png\" title=\"Saturday: Mostly sunny, with a high near 67. Southwest wind 8 to 13 mph increasing to 15 to 20 mph in the afternoon. Winds could gust as high as 25 mph. \"/></p><p class=\"short-desc\">Mostly Sunny</p><p class=\"temp temp-high\">High: 67 °F</p></div></li><li class=\"forecast-tombstone\">\n",
              "<div class=\"tombstone-container\">\n",
              "<p class=\"period-name\">Saturday<br/>Night</p>\n",
              "<p><img alt=\"Saturday Night: Partly cloudy, with a low around 54. Breezy. \" class=\"forecast-icon\" src=\"DualImage.php?i=nwind_few&amp;j=nbkn\" title=\"Saturday Night: Partly cloudy, with a low around 54. Breezy. \"/></p><p class=\"short-desc\">Mostly Clear<br/>and Breezy<br/>then Mostly<br/>Cloudy</p><p class=\"temp temp-low\">Low: 54 °F</p></div></li><li class=\"forecast-tombstone\">\n",
              "<div class=\"tombstone-container\">\n",
              "<p class=\"period-name\">Sunday<br/><br/></p>\n",
              "<p><img alt=\"Sunday: Mostly sunny, with a high near 68.\" class=\"forecast-icon\" src=\"newimages/medium/sct.png\" title=\"Sunday: Mostly sunny, with a high near 68.\"/></p><p class=\"short-desc\">Mostly Sunny</p><p class=\"temp temp-high\">High: 68 °F</p></div></li><li class=\"forecast-tombstone\">\n",
              "<div class=\"tombstone-container\">\n",
              "<p class=\"period-name\">Sunday<br/>Night</p>\n",
              "<p><img alt=\"Sunday Night: Mostly cloudy, with a low around 55.\" class=\"forecast-icon\" src=\"newimages/medium/nbkn.png\" title=\"Sunday Night: Mostly cloudy, with a low around 55.\"/></p><p class=\"short-desc\">Mostly Cloudy</p><p class=\"temp temp-low\">Low: 55 °F</p></div></li><li class=\"forecast-tombstone\">\n",
              "<div class=\"tombstone-container\">\n",
              "<p class=\"period-name\">Monday<br/><br/></p>\n",
              "<p><img alt=\"Monday: Mostly sunny, with a high near 69.\" class=\"forecast-icon\" src=\"newimages/medium/sct.png\" title=\"Monday: Mostly sunny, with a high near 69.\"/></p><p class=\"short-desc\">Mostly Sunny</p><p class=\"temp temp-high\">High: 69 °F</p></div></li></ul></div>\n",
              "<script type=\"text/javascript\">\n",
              "// equalize forecast heights\n",
              "$(function () {\n",
              "\tvar maxh = 0;\n",
              "\t$(\".forecast-tombstone .short-desc\").each(function () {\n",
              "\t\tvar h = $(this).height();\n",
              "\t\tif (h > maxh) { maxh = h; }\n",
              "\t});\n",
              "\t$(\".forecast-tombstone .short-desc\").height(maxh);\n",
              "});\n",
              "</script> </div>\n",
              "</div>"
            ]
          },
          "metadata": {
            "tags": []
          },
          "execution_count": 696
        }
      ]
    },
    {
      "cell_type": "markdown",
      "metadata": {
        "id": "0qyfd1bIo0v3"
      },
      "source": [
        "#To Extract and print the fourth weather forecast item :"
      ]
    },
    {
      "cell_type": "code",
      "metadata": {
        "colab": {
          "base_uri": "https://localhost:8080/"
        },
        "id": "VnMS3e-lnUtc",
        "outputId": "1730b20d-d1ec-42ef-933f-29d001206707"
      },
      "source": [
        "fi = sd.find_all(class_=\"tombstone-container\")\n",
        "fi\n",
        "t = fi[3]\n",
        "print(t.prettify())"
      ],
      "execution_count": 697,
      "outputs": [
        {
          "output_type": "stream",
          "text": [
            "<div class=\"tombstone-container\">\n",
            " <p class=\"period-name\">\n",
            "  Friday\n",
            "  <br/>\n",
            "  Night\n",
            " </p>\n",
            " <p>\n",
            "  <img alt=\"Friday Night: Partly cloudy, with a low around 54. Breezy, with a west southwest wind 17 to 22 mph decreasing to 9 to 14 mph in the evening. Winds could gust as high as 29 mph. \" class=\"forecast-icon\" src=\"DualImage.php?i=nwind_few&amp;j=nbkn\" title=\"Friday Night: Partly cloudy, with a low around 54. Breezy, with a west southwest wind 17 to 22 mph decreasing to 9 to 14 mph in the evening. Winds could gust as high as 29 mph. \"/>\n",
            " </p>\n",
            " <p class=\"short-desc\">\n",
            "  Mostly Clear\n",
            "  <br/>\n",
            "  and Breezy\n",
            "  <br/>\n",
            "  then Mostly\n",
            "  <br/>\n",
            "  Cloudy\n",
            " </p>\n",
            " <p class=\"temp temp-low\">\n",
            "  Low: 54 °F\n",
            " </p>\n",
            "</div>\n"
          ],
          "name": "stdout"
        }
      ]
    },
    {
      "cell_type": "markdown",
      "metadata": {
        "id": "Yj6-ivfMIMgr"
      },
      "source": [
        "#To extract the name of the weather forecast item, the short description related to it, and the corresponding temperature of the particular weather forecast item:"
      ]
    },
    {
      "cell_type": "code",
      "metadata": {
        "colab": {
          "base_uri": "https://localhost:8080/",
          "height": 36
        },
        "id": "37_VWwTjIJDA",
        "outputId": "8250f472-76bb-4b16-dd21-4168ffd79d69"
      },
      "source": [
        "#To extract the time period / name of the weather forecast item:\n",
        "time1 = t.find(class_=\"period-name\").get_text()\n",
        "time1"
      ],
      "execution_count": 698,
      "outputs": [
        {
          "output_type": "execute_result",
          "data": {
            "application/vnd.google.colaboratory.intrinsic+json": {
              "type": "string"
            },
            "text/plain": [
              "'FridayNight'"
            ]
          },
          "metadata": {
            "tags": []
          },
          "execution_count": 698
        }
      ]
    },
    {
      "cell_type": "code",
      "metadata": {
        "colab": {
          "base_uri": "https://localhost:8080/",
          "height": 36
        },
        "id": "oXs-tHmuIJSN",
        "outputId": "73078f46-c54e-4021-cb42-824da7d93a5f"
      },
      "source": [
        "#To extract the description of the realted weather conditions of the weather forecast item:\n",
        "short_desc1 = t.find(class_=\"short-desc\").get_text()\n",
        "short_desc1"
      ],
      "execution_count": 699,
      "outputs": [
        {
          "output_type": "execute_result",
          "data": {
            "application/vnd.google.colaboratory.intrinsic+json": {
              "type": "string"
            },
            "text/plain": [
              "'Mostly Clearand Breezythen MostlyCloudy'"
            ]
          },
          "metadata": {
            "tags": []
          },
          "execution_count": 699
        }
      ]
    },
    {
      "cell_type": "code",
      "metadata": {
        "colab": {
          "base_uri": "https://localhost:8080/",
          "height": 36
        },
        "id": "VFNTKmE1IJdI",
        "outputId": "d6abd97a-7a0e-4e18-8381-2808a3d306df"
      },
      "source": [
        "#To extract the The temperature of the weather forecast item:\n",
        "short_desc1 = t.find(class_=\"short-desc\").get_text()\n",
        "short_desc1"
      ],
      "execution_count": 700,
      "outputs": [
        {
          "output_type": "execute_result",
          "data": {
            "application/vnd.google.colaboratory.intrinsic+json": {
              "type": "string"
            },
            "text/plain": [
              "'Mostly Clearand Breezythen MostlyCloudy'"
            ]
          },
          "metadata": {
            "tags": []
          },
          "execution_count": 700
        }
      ]
    },
    {
      "cell_type": "code",
      "metadata": {
        "colab": {
          "base_uri": "https://localhost:8080/"
        },
        "id": "WiOQ52AWIJm5",
        "outputId": "bf6748ff-69ff-4240-a874-c2c7ef593bb8"
      },
      "source": [
        "#To extract the 'title' attribute from the img tag of the concerned weather forecast item :\n",
        "img1 = t.find(\"img\")\n",
        "title1 = img1['title']\n",
        "print(title1)"
      ],
      "execution_count": 701,
      "outputs": [
        {
          "output_type": "stream",
          "text": [
            "Friday Night: Partly cloudy, with a low around 54. Breezy, with a west southwest wind 17 to 22 mph decreasing to 9 to 14 mph in the evening. Winds could gust as high as 29 mph. \n"
          ],
          "name": "stdout"
        }
      ]
    },
    {
      "cell_type": "code",
      "metadata": {
        "id": "QURKuWyvJabt"
      },
      "source": [
        ""
      ],
      "execution_count": 701,
      "outputs": []
    },
    {
      "cell_type": "markdown",
      "metadata": {
        "id": "U7GzhR5jpOrG"
      },
      "source": [
        "#To Extract all the information from the Weather Forecasting webpage :"
      ]
    },
    {
      "cell_type": "code",
      "metadata": {
        "id": "CDWGmZDJnUwS"
      },
      "source": [
        "#To Select all items with the class period-name inside an item with the class tombstone-container in sd :\n",
        "p_tags1 = sd.select(\".tombstone-container .period-name\")\n",
        "\n",
        "#To use a list comprehension to call the get_text method on each of the BeautifulSoup object in sd :\n",
        "#inorder to obtain each of the period names of each of the weather forecast items :\n",
        "tm_pr = [k.get_text() for k in p_tags1]\n",
        "\n",
        "#To Select all items with the class short-desc inside an item with the class tombstone-container in sd and \n",
        "#to use a list comprehension to call the get_text method on each of the BeautifulSoup object in sd\n",
        "#inorder to obtain each of the short descriptions of each of the weather forecast items :\n",
        "short_desc1 = [d.get_text() for d in sd.select(\".tombstone-container .short-desc\")]\n",
        "\n",
        "#To Select all items with the class temp inside an item with the class tombstone-container in sd and to use \n",
        "#a list comprehension to call the get_text method on each of the BeautifulSoup object in sd\n",
        "#inorder to obtain each of the temparatures of each of the weather forecast items :\n",
        "temp1 = [t1.get_text() for t1 in sd.select(\".tombstone-container .temp\")]\n",
        "\n",
        "#To Select all items stored in the title property of the img tag with the class forecast-icon inside img item \n",
        "#with the class tombstone-container in sd and to use a list comprehension to call the get_text method on each \n",
        "#of the BeautifulSoup object in sd inorder to obtain each of the description of the Weather conditions of \n",
        "#each of the weather forecast items :\n",
        "wc1 = [w[\"title\"] for w in sd.select(\".tombstone-container img\")]"
      ],
      "execution_count": 702,
      "outputs": []
    },
    {
      "cell_type": "code",
      "metadata": {
        "id": "lRIudo9VpLTD"
      },
      "source": [
        ""
      ],
      "execution_count": 702,
      "outputs": []
    },
    {
      "cell_type": "markdown",
      "metadata": {
        "id": "TVb9fOtYccJe"
      },
      "source": [
        "#1.\t**Demonstrate the utility of PYTHON Computing Environment handling Data Frame and plotting the data using MATPLOT library**"
      ]
    },
    {
      "cell_type": "markdown",
      "metadata": {
        "id": "jZDqeldlhRqy"
      },
      "source": [
        "#To Implement Data Manipulation and Handling :"
      ]
    },
    {
      "cell_type": "markdown",
      "metadata": {
        "id": "ZjKVloo_hPFd"
      },
      "source": [
        "#To combine our Web Scraped data otained by Scrapping the National Weather Service’s website of the US containing Weather forecast data into a Pandas Dataframe :"
      ]
    },
    {
      "cell_type": "code",
      "metadata": {
        "id": "Z-tnVObJpLVw"
      },
      "source": [
        "#Importing pandas library\n",
        "import pandas as pd\n",
        "\n",
        "wforecast = pd.DataFrame({\n",
        "    \"Time_period\": tm_pr,\n",
        "    \"Short_desc\": short_desc1,\n",
        "    \"Temperature\": temp1,\n",
        "    \"Description_wc\":wc1\n",
        "})"
      ],
      "execution_count": 703,
      "outputs": []
    },
    {
      "cell_type": "code",
      "metadata": {
        "colab": {
          "base_uri": "https://localhost:8080/",
          "height": 143
        },
        "id": "NGMZVTSygxOD",
        "outputId": "59973885-e7f3-4821-c7ed-ea4f6655fada"
      },
      "source": [
        "wforecast.head(3)"
      ],
      "execution_count": 704,
      "outputs": [
        {
          "output_type": "execute_result",
          "data": {
            "text/html": [
              "<div>\n",
              "<style scoped>\n",
              "    .dataframe tbody tr th:only-of-type {\n",
              "        vertical-align: middle;\n",
              "    }\n",
              "\n",
              "    .dataframe tbody tr th {\n",
              "        vertical-align: top;\n",
              "    }\n",
              "\n",
              "    .dataframe thead th {\n",
              "        text-align: right;\n",
              "    }\n",
              "</style>\n",
              "<table border=\"1\" class=\"dataframe\">\n",
              "  <thead>\n",
              "    <tr style=\"text-align: right;\">\n",
              "      <th></th>\n",
              "      <th>Time_period</th>\n",
              "      <th>Short_desc</th>\n",
              "      <th>Temperature</th>\n",
              "      <th>Description_wc</th>\n",
              "    </tr>\n",
              "  </thead>\n",
              "  <tbody>\n",
              "    <tr>\n",
              "      <th>0</th>\n",
              "      <td>Today</td>\n",
              "      <td>Mostly Cloudythen MostlySunny andBreezy</td>\n",
              "      <td>High: 63 °F</td>\n",
              "      <td>Today: Cloudy, then gradually becoming mostly ...</td>\n",
              "    </tr>\n",
              "    <tr>\n",
              "      <th>1</th>\n",
              "      <td>Tonight</td>\n",
              "      <td>Mostly Cloudyand Breezythen MostlyCloudy</td>\n",
              "      <td>Low: 53 °F</td>\n",
              "      <td>Tonight: Mostly cloudy, with a low around 53. ...</td>\n",
              "    </tr>\n",
              "    <tr>\n",
              "      <th>2</th>\n",
              "      <td>Friday</td>\n",
              "      <td>DecreasingClouds</td>\n",
              "      <td>High: 66 °F</td>\n",
              "      <td>Friday: Mostly cloudy, then gradually becoming...</td>\n",
              "    </tr>\n",
              "  </tbody>\n",
              "</table>\n",
              "</div>"
            ],
            "text/plain": [
              "  Time_period  ...                                     Description_wc\n",
              "0       Today  ...  Today: Cloudy, then gradually becoming mostly ...\n",
              "1     Tonight  ...  Tonight: Mostly cloudy, with a low around 53. ...\n",
              "2      Friday  ...  Friday: Mostly cloudy, then gradually becoming...\n",
              "\n",
              "[3 rows x 4 columns]"
            ]
          },
          "metadata": {
            "tags": []
          },
          "execution_count": 704
        }
      ]
    },
    {
      "cell_type": "markdown",
      "metadata": {
        "id": "dDhS9wkTkfMT"
      },
      "source": [
        "#To perform some Data Analysis on the Web Scrapped data :"
      ]
    },
    {
      "cell_type": "code",
      "metadata": {
        "colab": {
          "base_uri": "https://localhost:8080/"
        },
        "id": "nYfDeZ09gxQ1",
        "outputId": "e0314099-6000-44e0-e03d-2a3b2bba0e57"
      },
      "source": [
        "#shape of the dataframe indicates 9 rows and 5 Columns inthe dataset\n",
        "wforecast.shape"
      ],
      "execution_count": 705,
      "outputs": [
        {
          "output_type": "execute_result",
          "data": {
            "text/plain": [
              "(9, 4)"
            ]
          },
          "metadata": {
            "tags": []
          },
          "execution_count": 705
        }
      ]
    },
    {
      "cell_type": "code",
      "metadata": {
        "id": "JC5yy08GgxTY"
      },
      "source": [
        "#Pre-processing the data in the Datframe :\n",
        "import numpy as np\n",
        "wforecast = wforecast.replace('?',np.nan)"
      ],
      "execution_count": 706,
      "outputs": []
    },
    {
      "cell_type": "code",
      "metadata": {
        "id": "LYBlcqTCgxWY"
      },
      "source": [
        "#To Replace the zero values in the DataFrame to NaN\n",
        "wforecast.replace(str(0), np.nan, inplace=True)\n",
        "wforecast.replace(0, np.nan, inplace=True)"
      ],
      "execution_count": 707,
      "outputs": []
    },
    {
      "cell_type": "code",
      "metadata": {
        "colab": {
          "base_uri": "https://localhost:8080/"
        },
        "id": "4f8Baw0YgxY0",
        "outputId": "61747e4a-4dc7-44cc-a999-9fd35aa25a01"
      },
      "source": [
        "#Counting the Number of NaNs in the DataFrame\n",
        "count_nan = len(wforecast) - wforecast.count()\n",
        "count_nan"
      ],
      "execution_count": 708,
      "outputs": [
        {
          "output_type": "execute_result",
          "data": {
            "text/plain": [
              "Time_period       0\n",
              "Short_desc        0\n",
              "Temperature       0\n",
              "Description_wc    0\n",
              "dtype: int64"
            ]
          },
          "metadata": {
            "tags": []
          },
          "execution_count": 708
        }
      ]
    },
    {
      "cell_type": "code",
      "metadata": {
        "colab": {
          "base_uri": "https://localhost:8080/"
        },
        "id": "VJAP4FLNgxb4",
        "outputId": "4e4e6ab8-9c12-474c-cb82-3a607c8b0de3"
      },
      "source": [
        "# To find all the unique values of Time_period \n",
        "wforecast['Time_period'].unique()"
      ],
      "execution_count": 709,
      "outputs": [
        {
          "output_type": "execute_result",
          "data": {
            "text/plain": [
              "array(['Today', 'Tonight', 'Friday', 'FridayNight', 'Saturday',\n",
              "       'SaturdayNight', 'Sunday', 'SundayNight', 'Monday'], dtype=object)"
            ]
          },
          "metadata": {
            "tags": []
          },
          "execution_count": 709
        }
      ]
    },
    {
      "cell_type": "code",
      "metadata": {
        "colab": {
          "base_uri": "https://localhost:8080/"
        },
        "id": "JvL4rKwNgxeZ",
        "outputId": "5f1ad7ce-4ca4-41a2-a5e4-4b3576788bcc"
      },
      "source": [
        "# To find total the counts of occurrence of each of the unique possble values of Short_desc\n",
        "wforecast['Short_desc'].value_counts()"
      ],
      "execution_count": 710,
      "outputs": [
        {
          "output_type": "execute_result",
          "data": {
            "text/plain": [
              "Mostly Sunny                                3\n",
              "Mostly Clearand Breezythen MostlyCloudy     2\n",
              "Mostly Cloudyand Breezythen MostlyCloudy    1\n",
              "DecreasingClouds                            1\n",
              "Mostly Cloudy                               1\n",
              "Mostly Cloudythen MostlySunny andBreezy     1\n",
              "Name: Short_desc, dtype: int64"
            ]
          },
          "metadata": {
            "tags": []
          },
          "execution_count": 710
        }
      ]
    },
    {
      "cell_type": "code",
      "metadata": {
        "colab": {
          "base_uri": "https://localhost:8080/"
        },
        "id": "FDq4WR5pgxg_",
        "outputId": "d811b794-3e25-41dd-93b3-10a0eb81bafe"
      },
      "source": [
        "wforecast[\"Temperature\"]\n"
      ],
      "execution_count": 711,
      "outputs": [
        {
          "output_type": "execute_result",
          "data": {
            "text/plain": [
              "0    High: 63 °F\n",
              "1     Low: 53 °F\n",
              "2    High: 66 °F\n",
              "3     Low: 54 °F\n",
              "4    High: 67 °F\n",
              "5     Low: 54 °F\n",
              "6    High: 68 °F\n",
              "7     Low: 55 °F\n",
              "8    High: 69 °F\n",
              "Name: Temperature, dtype: object"
            ]
          },
          "metadata": {
            "tags": []
          },
          "execution_count": 711
        }
      ]
    },
    {
      "cell_type": "markdown",
      "metadata": {
        "id": "dI43WZvDlDcE"
      },
      "source": [
        "To use lambda function to pull out the numeric temperature values from the Weather Forecast data in the dataframe: :"
      ]
    },
    {
      "cell_type": "code",
      "metadata": {
        "colab": {
          "base_uri": "https://localhost:8080/"
        },
        "id": "prn5hkN9mgr3",
        "outputId": "790be9f3-a4eb-452d-fc62-2913f039a074"
      },
      "source": [
        "wforecast['Temperature'] = wforecast['Temperature'].apply(lambda x: x.split()[1])\n",
        "wforecast['Temp_nmr'] = pd.to_numeric(wforecast['Temperature'])\n",
        "wforecast['Temp_nmr']"
      ],
      "execution_count": 712,
      "outputs": [
        {
          "output_type": "execute_result",
          "data": {
            "text/plain": [
              "0    63\n",
              "1    53\n",
              "2    66\n",
              "3    54\n",
              "4    67\n",
              "5    54\n",
              "6    68\n",
              "7    55\n",
              "8    69\n",
              "Name: Temp_nmr, dtype: int64"
            ]
          },
          "metadata": {
            "tags": []
          },
          "execution_count": 712
        }
      ]
    },
    {
      "cell_type": "code",
      "metadata": {
        "colab": {
          "base_uri": "https://localhost:8080/"
        },
        "id": "ZjInJQFHgxmB",
        "outputId": "e441e9a5-6236-4a7c-9c4b-41ae70d2a113"
      },
      "source": [
        "#To find the mean of all the high and low temperatures:\n",
        "wforecast[\"Temp_nmr\"].mean()"
      ],
      "execution_count": 713,
      "outputs": [
        {
          "output_type": "execute_result",
          "data": {
            "text/plain": [
              "61.0"
            ]
          },
          "metadata": {
            "tags": []
          },
          "execution_count": 713
        }
      ]
    },
    {
      "cell_type": "code",
      "metadata": {
        "colab": {
          "base_uri": "https://localhost:8080/"
        },
        "id": "y1wQqlaipLY6",
        "outputId": "06959d30-e087-47f9-cbe7-9c1202eea365"
      },
      "source": [
        "#To verify the data types of the DataFrame\n",
        "wforecast.dtypes"
      ],
      "execution_count": 714,
      "outputs": [
        {
          "output_type": "execute_result",
          "data": {
            "text/plain": [
              "Time_period       object\n",
              "Short_desc        object\n",
              "Temperature       object\n",
              "Description_wc    object\n",
              "Temp_nmr           int64\n",
              "dtype: object"
            ]
          },
          "metadata": {
            "tags": []
          },
          "execution_count": 714
        }
      ]
    },
    {
      "cell_type": "code",
      "metadata": {
        "colab": {
          "base_uri": "https://localhost:8080/"
        },
        "id": "1BCztK3mpLbb",
        "outputId": "f427d6c6-7d87-4eb9-dee7-1915ee4542fc"
      },
      "source": [
        "#To only select the rows that happen at night:\n",
        "is_nyt = wforecast[\"Temperature\"].str.contains(\"Low\")\n",
        "is_nyt\n"
      ],
      "execution_count": 715,
      "outputs": [
        {
          "output_type": "execute_result",
          "data": {
            "text/plain": [
              "0    False\n",
              "1    False\n",
              "2    False\n",
              "3    False\n",
              "4    False\n",
              "5    False\n",
              "6    False\n",
              "7    False\n",
              "8    False\n",
              "Name: Temperature, dtype: bool"
            ]
          },
          "metadata": {
            "tags": []
          },
          "execution_count": 715
        }
      ]
    },
    {
      "cell_type": "code",
      "metadata": {
        "colab": {
          "base_uri": "https://localhost:8080/",
          "height": 143
        },
        "id": "kOY1W-DLo1mE",
        "outputId": "ace9f2dd-d3e3-467b-b33c-7696e0db5eeb"
      },
      "source": [
        "wforecast[\"is_nyt\"]=is_nyt\n",
        "wforecast.head(3)"
      ],
      "execution_count": 716,
      "outputs": [
        {
          "output_type": "execute_result",
          "data": {
            "text/html": [
              "<div>\n",
              "<style scoped>\n",
              "    .dataframe tbody tr th:only-of-type {\n",
              "        vertical-align: middle;\n",
              "    }\n",
              "\n",
              "    .dataframe tbody tr th {\n",
              "        vertical-align: top;\n",
              "    }\n",
              "\n",
              "    .dataframe thead th {\n",
              "        text-align: right;\n",
              "    }\n",
              "</style>\n",
              "<table border=\"1\" class=\"dataframe\">\n",
              "  <thead>\n",
              "    <tr style=\"text-align: right;\">\n",
              "      <th></th>\n",
              "      <th>Time_period</th>\n",
              "      <th>Short_desc</th>\n",
              "      <th>Temperature</th>\n",
              "      <th>Description_wc</th>\n",
              "      <th>Temp_nmr</th>\n",
              "      <th>is_nyt</th>\n",
              "    </tr>\n",
              "  </thead>\n",
              "  <tbody>\n",
              "    <tr>\n",
              "      <th>0</th>\n",
              "      <td>Today</td>\n",
              "      <td>Mostly Cloudythen MostlySunny andBreezy</td>\n",
              "      <td>63</td>\n",
              "      <td>Today: Cloudy, then gradually becoming mostly ...</td>\n",
              "      <td>63</td>\n",
              "      <td>False</td>\n",
              "    </tr>\n",
              "    <tr>\n",
              "      <th>1</th>\n",
              "      <td>Tonight</td>\n",
              "      <td>Mostly Cloudyand Breezythen MostlyCloudy</td>\n",
              "      <td>53</td>\n",
              "      <td>Tonight: Mostly cloudy, with a low around 53. ...</td>\n",
              "      <td>53</td>\n",
              "      <td>False</td>\n",
              "    </tr>\n",
              "    <tr>\n",
              "      <th>2</th>\n",
              "      <td>Friday</td>\n",
              "      <td>DecreasingClouds</td>\n",
              "      <td>66</td>\n",
              "      <td>Friday: Mostly cloudy, then gradually becoming...</td>\n",
              "      <td>66</td>\n",
              "      <td>False</td>\n",
              "    </tr>\n",
              "  </tbody>\n",
              "</table>\n",
              "</div>"
            ],
            "text/plain": [
              "  Time_period                                Short_desc  ... Temp_nmr is_nyt\n",
              "0       Today   Mostly Cloudythen MostlySunny andBreezy  ...       63  False\n",
              "1     Tonight  Mostly Cloudyand Breezythen MostlyCloudy  ...       53  False\n",
              "2      Friday                          DecreasingClouds  ...       66  False\n",
              "\n",
              "[3 rows x 6 columns]"
            ]
          },
          "metadata": {
            "tags": []
          },
          "execution_count": 716
        }
      ]
    },
    {
      "cell_type": "code",
      "metadata": {
        "colab": {
          "base_uri": "https://localhost:8080/",
          "height": 206
        },
        "id": "oUnu8uRQpLeU",
        "outputId": "a32cc8dd-0b79-4db7-b2b0-7bd046e4182f"
      },
      "source": [
        "#To find out which all Time_period had the high Temparatures :\n",
        "tempr1 = wforecast.sort_values([\"Temperature\"], axis=0, ascending=False)[:15]\n",
        "tempr1.head()"
      ],
      "execution_count": 717,
      "outputs": [
        {
          "output_type": "execute_result",
          "data": {
            "text/html": [
              "<div>\n",
              "<style scoped>\n",
              "    .dataframe tbody tr th:only-of-type {\n",
              "        vertical-align: middle;\n",
              "    }\n",
              "\n",
              "    .dataframe tbody tr th {\n",
              "        vertical-align: top;\n",
              "    }\n",
              "\n",
              "    .dataframe thead th {\n",
              "        text-align: right;\n",
              "    }\n",
              "</style>\n",
              "<table border=\"1\" class=\"dataframe\">\n",
              "  <thead>\n",
              "    <tr style=\"text-align: right;\">\n",
              "      <th></th>\n",
              "      <th>Time_period</th>\n",
              "      <th>Short_desc</th>\n",
              "      <th>Temperature</th>\n",
              "      <th>Description_wc</th>\n",
              "      <th>Temp_nmr</th>\n",
              "      <th>is_nyt</th>\n",
              "    </tr>\n",
              "  </thead>\n",
              "  <tbody>\n",
              "    <tr>\n",
              "      <th>8</th>\n",
              "      <td>Monday</td>\n",
              "      <td>Mostly Sunny</td>\n",
              "      <td>69</td>\n",
              "      <td>Monday: Mostly sunny, with a high near 69.</td>\n",
              "      <td>69</td>\n",
              "      <td>False</td>\n",
              "    </tr>\n",
              "    <tr>\n",
              "      <th>6</th>\n",
              "      <td>Sunday</td>\n",
              "      <td>Mostly Sunny</td>\n",
              "      <td>68</td>\n",
              "      <td>Sunday: Mostly sunny, with a high near 68.</td>\n",
              "      <td>68</td>\n",
              "      <td>False</td>\n",
              "    </tr>\n",
              "    <tr>\n",
              "      <th>4</th>\n",
              "      <td>Saturday</td>\n",
              "      <td>Mostly Sunny</td>\n",
              "      <td>67</td>\n",
              "      <td>Saturday: Mostly sunny, with a high near 67. S...</td>\n",
              "      <td>67</td>\n",
              "      <td>False</td>\n",
              "    </tr>\n",
              "    <tr>\n",
              "      <th>2</th>\n",
              "      <td>Friday</td>\n",
              "      <td>DecreasingClouds</td>\n",
              "      <td>66</td>\n",
              "      <td>Friday: Mostly cloudy, then gradually becoming...</td>\n",
              "      <td>66</td>\n",
              "      <td>False</td>\n",
              "    </tr>\n",
              "    <tr>\n",
              "      <th>0</th>\n",
              "      <td>Today</td>\n",
              "      <td>Mostly Cloudythen MostlySunny andBreezy</td>\n",
              "      <td>63</td>\n",
              "      <td>Today: Cloudy, then gradually becoming mostly ...</td>\n",
              "      <td>63</td>\n",
              "      <td>False</td>\n",
              "    </tr>\n",
              "  </tbody>\n",
              "</table>\n",
              "</div>"
            ],
            "text/plain": [
              "  Time_period                               Short_desc  ... Temp_nmr is_nyt\n",
              "8      Monday                             Mostly Sunny  ...       69  False\n",
              "6      Sunday                             Mostly Sunny  ...       68  False\n",
              "4    Saturday                             Mostly Sunny  ...       67  False\n",
              "2      Friday                         DecreasingClouds  ...       66  False\n",
              "0       Today  Mostly Cloudythen MostlySunny andBreezy  ...       63  False\n",
              "\n",
              "[5 rows x 6 columns]"
            ]
          },
          "metadata": {
            "tags": []
          },
          "execution_count": 717
        }
      ]
    },
    {
      "cell_type": "code",
      "metadata": {
        "id": "fM_Gf4W2lgOx"
      },
      "source": [
        "import matplotlib.pyplot as plt\n",
        "import seaborn as sns\n",
        "%matplotlib inline\n",
        "import re\n",
        "import time\n",
        "from datetime import datetime\n",
        "import matplotlib.dates as mdates\n",
        "import matplotlib.ticker as ticker\n",
        "#Loading BokehJS\n",
        "from bokeh.models import ColumnDataSource\n",
        "from bokeh.transform import dodge\n",
        "import math\n",
        "from bokeh.io import curdoc\n",
        "curdoc().clear()\n",
        "from bokeh.io import push_notebook, show, output_notebook\n",
        "from bokeh.layouts import row\n",
        "from bokeh.plotting import figure\n",
        "from bokeh.transform import factor_cmap\n",
        "from bokeh.models import Legend\n",
        "output_notebook()\n"
      ],
      "execution_count": 718,
      "outputs": []
    },
    {
      "cell_type": "markdown",
      "metadata": {
        "id": "0D6rIOeflqLD"
      },
      "source": [
        "#Plot to visualize the Time periods with the Highest Temperatures :"
      ]
    },
    {
      "cell_type": "code",
      "metadata": {
        "colab": {
          "base_uri": "https://localhost:8080/",
          "height": 567
        },
        "id": "QlfuNMRslgRQ",
        "outputId": "9cb18ca2-814b-4f62-fc84-b304c6172cab"
      },
      "source": [
        "p1 = figure(x_range=wforecast.iloc[:,0], plot_width=800, plot_height=550, title=\"Time_period with the Highest Temperatures\", toolbar_location=None, tools=\"\")\n",
        "\n",
        "p1.vbar(x=wforecast.iloc[:,0], top=wforecast.iloc[:,2], width=0.9)\n",
        "\n",
        "p1.xgrid.grid_line_color = None\n",
        "p1.y_range.start = 0\n",
        "p1.xaxis.major_label_orientation = math.pi/2\n",
        "\n",
        "show(p1)"
      ],
      "execution_count": 719,
      "outputs": [
        {
          "output_type": "display_data",
          "data": {
            "application/javascript": [
              "\n",
              "(function(root) {\n",
              "  function now() {\n",
              "    return new Date();\n",
              "  }\n",
              "\n",
              "  var force = true;\n",
              "\n",
              "  if (typeof root._bokeh_onload_callbacks === \"undefined\" || force === true) {\n",
              "    root._bokeh_onload_callbacks = [];\n",
              "    root._bokeh_is_loading = undefined;\n",
              "  }\n",
              "\n",
              "  var JS_MIME_TYPE = 'application/javascript';\n",
              "  var HTML_MIME_TYPE = 'text/html';\n",
              "  var EXEC_MIME_TYPE = 'application/vnd.bokehjs_exec.v0+json';\n",
              "  var CLASS_NAME = 'output_bokeh rendered_html';\n",
              "\n",
              "  /**\n",
              "   * Render data to the DOM node\n",
              "   */\n",
              "  function render(props, node) {\n",
              "    var script = document.createElement(\"script\");\n",
              "    node.appendChild(script);\n",
              "  }\n",
              "\n",
              "  /**\n",
              "   * Handle when an output is cleared or removed\n",
              "   */\n",
              "  function handleClearOutput(event, handle) {\n",
              "    var cell = handle.cell;\n",
              "\n",
              "    var id = cell.output_area._bokeh_element_id;\n",
              "    var server_id = cell.output_area._bokeh_server_id;\n",
              "    // Clean up Bokeh references\n",
              "    if (id != null && id in Bokeh.index) {\n",
              "      Bokeh.index[id].model.document.clear();\n",
              "      delete Bokeh.index[id];\n",
              "    }\n",
              "\n",
              "    if (server_id !== undefined) {\n",
              "      // Clean up Bokeh references\n",
              "      var cmd = \"from bokeh.io.state import curstate; print(curstate().uuid_to_server['\" + server_id + \"'].get_sessions()[0].document.roots[0]._id)\";\n",
              "      cell.notebook.kernel.execute(cmd, {\n",
              "        iopub: {\n",
              "          output: function(msg) {\n",
              "            var id = msg.content.text.trim();\n",
              "            if (id in Bokeh.index) {\n",
              "              Bokeh.index[id].model.document.clear();\n",
              "              delete Bokeh.index[id];\n",
              "            }\n",
              "          }\n",
              "        }\n",
              "      });\n",
              "      // Destroy server and session\n",
              "      var cmd = \"import bokeh.io.notebook as ion; ion.destroy_server('\" + server_id + \"')\";\n",
              "      cell.notebook.kernel.execute(cmd);\n",
              "    }\n",
              "  }\n",
              "\n",
              "  /**\n",
              "   * Handle when a new output is added\n",
              "   */\n",
              "  function handleAddOutput(event, handle) {\n",
              "    var output_area = handle.output_area;\n",
              "    var output = handle.output;\n",
              "\n",
              "    // limit handleAddOutput to display_data with EXEC_MIME_TYPE content only\n",
              "    if ((output.output_type != \"display_data\") || (!Object.prototype.hasOwnProperty.call(output.data, EXEC_MIME_TYPE))) {\n",
              "      return\n",
              "    }\n",
              "\n",
              "    var toinsert = output_area.element.find(\".\" + CLASS_NAME.split(' ')[0]);\n",
              "\n",
              "    if (output.metadata[EXEC_MIME_TYPE][\"id\"] !== undefined) {\n",
              "      toinsert[toinsert.length - 1].firstChild.textContent = output.data[JS_MIME_TYPE];\n",
              "      // store reference to embed id on output_area\n",
              "      output_area._bokeh_element_id = output.metadata[EXEC_MIME_TYPE][\"id\"];\n",
              "    }\n",
              "    if (output.metadata[EXEC_MIME_TYPE][\"server_id\"] !== undefined) {\n",
              "      var bk_div = document.createElement(\"div\");\n",
              "      bk_div.innerHTML = output.data[HTML_MIME_TYPE];\n",
              "      var script_attrs = bk_div.children[0].attributes;\n",
              "      for (var i = 0; i < script_attrs.length; i++) {\n",
              "        toinsert[toinsert.length - 1].firstChild.setAttribute(script_attrs[i].name, script_attrs[i].value);\n",
              "        toinsert[toinsert.length - 1].firstChild.textContent = bk_div.children[0].textContent\n",
              "      }\n",
              "      // store reference to server id on output_area\n",
              "      output_area._bokeh_server_id = output.metadata[EXEC_MIME_TYPE][\"server_id\"];\n",
              "    }\n",
              "  }\n",
              "\n",
              "  function register_renderer(events, OutputArea) {\n",
              "\n",
              "    function append_mime(data, metadata, element) {\n",
              "      // create a DOM node to render to\n",
              "      var toinsert = this.create_output_subarea(\n",
              "        metadata,\n",
              "        CLASS_NAME,\n",
              "        EXEC_MIME_TYPE\n",
              "      );\n",
              "      this.keyboard_manager.register_events(toinsert);\n",
              "      // Render to node\n",
              "      var props = {data: data, metadata: metadata[EXEC_MIME_TYPE]};\n",
              "      render(props, toinsert[toinsert.length - 1]);\n",
              "      element.append(toinsert);\n",
              "      return toinsert\n",
              "    }\n",
              "\n",
              "    /* Handle when an output is cleared or removed */\n",
              "    events.on('clear_output.CodeCell', handleClearOutput);\n",
              "    events.on('delete.Cell', handleClearOutput);\n",
              "\n",
              "    /* Handle when a new output is added */\n",
              "    events.on('output_added.OutputArea', handleAddOutput);\n",
              "\n",
              "    /**\n",
              "     * Register the mime type and append_mime function with output_area\n",
              "     */\n",
              "    OutputArea.prototype.register_mime_type(EXEC_MIME_TYPE, append_mime, {\n",
              "      /* Is output safe? */\n",
              "      safe: true,\n",
              "      /* Index of renderer in `output_area.display_order` */\n",
              "      index: 0\n",
              "    });\n",
              "  }\n",
              "\n",
              "  // register the mime type if in Jupyter Notebook environment and previously unregistered\n",
              "  if (root.Jupyter !== undefined) {\n",
              "    var events = require('base/js/events');\n",
              "    var OutputArea = require('notebook/js/outputarea').OutputArea;\n",
              "\n",
              "    if (OutputArea.prototype.mime_types().indexOf(EXEC_MIME_TYPE) == -1) {\n",
              "      register_renderer(events, OutputArea);\n",
              "    }\n",
              "  }\n",
              "\n",
              "  \n",
              "  if (typeof (root._bokeh_timeout) === \"undefined\" || force === true) {\n",
              "    root._bokeh_timeout = Date.now() + 5000;\n",
              "    root._bokeh_failed_load = false;\n",
              "  }\n",
              "\n",
              "  var NB_LOAD_WARNING = {'data': {'text/html':\n",
              "     \"<div style='background-color: #fdd'>\\n\"+\n",
              "     \"<p>\\n\"+\n",
              "     \"BokehJS does not appear to have successfully loaded. If loading BokehJS from CDN, this \\n\"+\n",
              "     \"may be due to a slow or bad network connection. Possible fixes:\\n\"+\n",
              "     \"</p>\\n\"+\n",
              "     \"<ul>\\n\"+\n",
              "     \"<li>re-rerun `output_notebook()` to attempt to load from CDN again, or</li>\\n\"+\n",
              "     \"<li>use INLINE resources instead, as so:</li>\\n\"+\n",
              "     \"</ul>\\n\"+\n",
              "     \"<code>\\n\"+\n",
              "     \"from bokeh.resources import INLINE\\n\"+\n",
              "     \"output_notebook(resources=INLINE)\\n\"+\n",
              "     \"</code>\\n\"+\n",
              "     \"</div>\"}};\n",
              "\n",
              "  function display_loaded() {\n",
              "    var el = document.getElementById(null);\n",
              "    if (el != null) {\n",
              "      el.textContent = \"BokehJS is loading...\";\n",
              "    }\n",
              "    if (root.Bokeh !== undefined) {\n",
              "      if (el != null) {\n",
              "        el.textContent = \"BokehJS \" + root.Bokeh.version + \" successfully loaded.\";\n",
              "      }\n",
              "    } else if (Date.now() < root._bokeh_timeout) {\n",
              "      setTimeout(display_loaded, 100)\n",
              "    }\n",
              "  }\n",
              "\n",
              "\n",
              "  function run_callbacks() {\n",
              "    try {\n",
              "      root._bokeh_onload_callbacks.forEach(function(callback) {\n",
              "        if (callback != null)\n",
              "          callback();\n",
              "      });\n",
              "    } finally {\n",
              "      delete root._bokeh_onload_callbacks\n",
              "    }\n",
              "    console.debug(\"Bokeh: all callbacks have finished\");\n",
              "  }\n",
              "\n",
              "  function load_libs(css_urls, js_urls, callback) {\n",
              "    if (css_urls == null) css_urls = [];\n",
              "    if (js_urls == null) js_urls = [];\n",
              "\n",
              "    root._bokeh_onload_callbacks.push(callback);\n",
              "    if (root._bokeh_is_loading > 0) {\n",
              "      console.debug(\"Bokeh: BokehJS is being loaded, scheduling callback at\", now());\n",
              "      return null;\n",
              "    }\n",
              "    if (js_urls == null || js_urls.length === 0) {\n",
              "      run_callbacks();\n",
              "      return null;\n",
              "    }\n",
              "    console.debug(\"Bokeh: BokehJS not loaded, scheduling load and callback at\", now());\n",
              "    root._bokeh_is_loading = css_urls.length + js_urls.length;\n",
              "\n",
              "    function on_load() {\n",
              "      root._bokeh_is_loading--;\n",
              "      if (root._bokeh_is_loading === 0) {\n",
              "        console.debug(\"Bokeh: all BokehJS libraries/stylesheets loaded\");\n",
              "        run_callbacks()\n",
              "      }\n",
              "    }\n",
              "\n",
              "    function on_error(url) {\n",
              "      console.error(\"failed to load \" + url);\n",
              "    }\n",
              "\n",
              "    for (let i = 0; i < css_urls.length; i++) {\n",
              "      const url = css_urls[i];\n",
              "      const element = document.createElement(\"link\");\n",
              "      element.onload = on_load;\n",
              "      element.onerror = on_error.bind(null, url);\n",
              "      element.rel = \"stylesheet\";\n",
              "      element.type = \"text/css\";\n",
              "      element.href = url;\n",
              "      console.debug(\"Bokeh: injecting link tag for BokehJS stylesheet: \", url);\n",
              "      document.body.appendChild(element);\n",
              "    }\n",
              "\n",
              "    const hashes = {\"https://cdn.bokeh.org/bokeh/release/bokeh-2.3.2.min.js\": \"XypntL49z55iwGVUW4qsEu83zKL3XEcz0MjuGOQ9SlaaQ68X/g+k1FcioZi7oQAc\", \"https://cdn.bokeh.org/bokeh/release/bokeh-tables-2.3.2.min.js\": \"bEsM86IHGDTLCS0Zod8a8WM6Y4+lafAL/eSiyQcuPzinmWNgNO2/olUF0Z2Dkn5i\", \"https://cdn.bokeh.org/bokeh/release/bokeh-widgets-2.3.2.min.js\": \"TX0gSQTdXTTeScqxj6PVQxTiRW8DOoGVwinyi1D3kxv7wuxQ02XkOxv0xwiypcAH\"};\n",
              "\n",
              "    for (let i = 0; i < js_urls.length; i++) {\n",
              "      const url = js_urls[i];\n",
              "      const element = document.createElement('script');\n",
              "      element.onload = on_load;\n",
              "      element.onerror = on_error.bind(null, url);\n",
              "      element.async = false;\n",
              "      element.src = url;\n",
              "      if (url in hashes) {\n",
              "        element.crossOrigin = \"anonymous\";\n",
              "        element.integrity = \"sha384-\" + hashes[url];\n",
              "      }\n",
              "      console.debug(\"Bokeh: injecting script tag for BokehJS library: \", url);\n",
              "      document.head.appendChild(element);\n",
              "    }\n",
              "  };\n",
              "\n",
              "  function inject_raw_css(css) {\n",
              "    const element = document.createElement(\"style\");\n",
              "    element.appendChild(document.createTextNode(css));\n",
              "    document.body.appendChild(element);\n",
              "  }\n",
              "\n",
              "  \n",
              "  var js_urls = [\"https://cdn.bokeh.org/bokeh/release/bokeh-2.3.2.min.js\", \"https://cdn.bokeh.org/bokeh/release/bokeh-widgets-2.3.2.min.js\", \"https://cdn.bokeh.org/bokeh/release/bokeh-tables-2.3.2.min.js\"];\n",
              "  var css_urls = [];\n",
              "  \n",
              "\n",
              "  var inline_js = [\n",
              "    function(Bokeh) {\n",
              "      Bokeh.set_log_level(\"info\");\n",
              "    },\n",
              "    function(Bokeh) {\n",
              "    \n",
              "    \n",
              "    }\n",
              "  ];\n",
              "\n",
              "  function run_inline_js() {\n",
              "    \n",
              "    if (root.Bokeh !== undefined || force === true) {\n",
              "      \n",
              "    for (var i = 0; i < inline_js.length; i++) {\n",
              "      inline_js[i].call(root, root.Bokeh);\n",
              "    }\n",
              "    } else if (Date.now() < root._bokeh_timeout) {\n",
              "      setTimeout(run_inline_js, 100);\n",
              "    } else if (!root._bokeh_failed_load) {\n",
              "      console.log(\"Bokeh: BokehJS failed to load within specified timeout.\");\n",
              "      root._bokeh_failed_load = true;\n",
              "    } else if (force !== true) {\n",
              "      var cell = $(document.getElementById(null)).parents('.cell').data().cell;\n",
              "      cell.output_area.append_execute_result(NB_LOAD_WARNING)\n",
              "    }\n",
              "\n",
              "  }\n",
              "\n",
              "  if (root._bokeh_is_loading === 0) {\n",
              "    console.debug(\"Bokeh: BokehJS loaded, going straight to plotting\");\n",
              "    run_inline_js();\n",
              "  } else {\n",
              "    load_libs(css_urls, js_urls, function() {\n",
              "      console.debug(\"Bokeh: BokehJS plotting callback run at\", now());\n",
              "      run_inline_js();\n",
              "    });\n",
              "  }\n",
              "}(window));"
            ],
            "application/vnd.bokehjs_load.v0+json": "\n(function(root) {\n  function now() {\n    return new Date();\n  }\n\n  var force = true;\n\n  if (typeof root._bokeh_onload_callbacks === \"undefined\" || force === true) {\n    root._bokeh_onload_callbacks = [];\n    root._bokeh_is_loading = undefined;\n  }\n\n  \n\n  \n  if (typeof (root._bokeh_timeout) === \"undefined\" || force === true) {\n    root._bokeh_timeout = Date.now() + 5000;\n    root._bokeh_failed_load = false;\n  }\n\n  var NB_LOAD_WARNING = {'data': {'text/html':\n     \"<div style='background-color: #fdd'>\\n\"+\n     \"<p>\\n\"+\n     \"BokehJS does not appear to have successfully loaded. If loading BokehJS from CDN, this \\n\"+\n     \"may be due to a slow or bad network connection. Possible fixes:\\n\"+\n     \"</p>\\n\"+\n     \"<ul>\\n\"+\n     \"<li>re-rerun `output_notebook()` to attempt to load from CDN again, or</li>\\n\"+\n     \"<li>use INLINE resources instead, as so:</li>\\n\"+\n     \"</ul>\\n\"+\n     \"<code>\\n\"+\n     \"from bokeh.resources import INLINE\\n\"+\n     \"output_notebook(resources=INLINE)\\n\"+\n     \"</code>\\n\"+\n     \"</div>\"}};\n\n  function display_loaded() {\n    var el = document.getElementById(null);\n    if (el != null) {\n      el.textContent = \"BokehJS is loading...\";\n    }\n    if (root.Bokeh !== undefined) {\n      if (el != null) {\n        el.textContent = \"BokehJS \" + root.Bokeh.version + \" successfully loaded.\";\n      }\n    } else if (Date.now() < root._bokeh_timeout) {\n      setTimeout(display_loaded, 100)\n    }\n  }\n\n\n  function run_callbacks() {\n    try {\n      root._bokeh_onload_callbacks.forEach(function(callback) {\n        if (callback != null)\n          callback();\n      });\n    } finally {\n      delete root._bokeh_onload_callbacks\n    }\n    console.debug(\"Bokeh: all callbacks have finished\");\n  }\n\n  function load_libs(css_urls, js_urls, callback) {\n    if (css_urls == null) css_urls = [];\n    if (js_urls == null) js_urls = [];\n\n    root._bokeh_onload_callbacks.push(callback);\n    if (root._bokeh_is_loading > 0) {\n      console.debug(\"Bokeh: BokehJS is being loaded, scheduling callback at\", now());\n      return null;\n    }\n    if (js_urls == null || js_urls.length === 0) {\n      run_callbacks();\n      return null;\n    }\n    console.debug(\"Bokeh: BokehJS not loaded, scheduling load and callback at\", now());\n    root._bokeh_is_loading = css_urls.length + js_urls.length;\n\n    function on_load() {\n      root._bokeh_is_loading--;\n      if (root._bokeh_is_loading === 0) {\n        console.debug(\"Bokeh: all BokehJS libraries/stylesheets loaded\");\n        run_callbacks()\n      }\n    }\n\n    function on_error(url) {\n      console.error(\"failed to load \" + url);\n    }\n\n    for (let i = 0; i < css_urls.length; i++) {\n      const url = css_urls[i];\n      const element = document.createElement(\"link\");\n      element.onload = on_load;\n      element.onerror = on_error.bind(null, url);\n      element.rel = \"stylesheet\";\n      element.type = \"text/css\";\n      element.href = url;\n      console.debug(\"Bokeh: injecting link tag for BokehJS stylesheet: \", url);\n      document.body.appendChild(element);\n    }\n\n    const hashes = {\"https://cdn.bokeh.org/bokeh/release/bokeh-2.3.2.min.js\": \"XypntL49z55iwGVUW4qsEu83zKL3XEcz0MjuGOQ9SlaaQ68X/g+k1FcioZi7oQAc\", \"https://cdn.bokeh.org/bokeh/release/bokeh-tables-2.3.2.min.js\": \"bEsM86IHGDTLCS0Zod8a8WM6Y4+lafAL/eSiyQcuPzinmWNgNO2/olUF0Z2Dkn5i\", \"https://cdn.bokeh.org/bokeh/release/bokeh-widgets-2.3.2.min.js\": \"TX0gSQTdXTTeScqxj6PVQxTiRW8DOoGVwinyi1D3kxv7wuxQ02XkOxv0xwiypcAH\"};\n\n    for (let i = 0; i < js_urls.length; i++) {\n      const url = js_urls[i];\n      const element = document.createElement('script');\n      element.onload = on_load;\n      element.onerror = on_error.bind(null, url);\n      element.async = false;\n      element.src = url;\n      if (url in hashes) {\n        element.crossOrigin = \"anonymous\";\n        element.integrity = \"sha384-\" + hashes[url];\n      }\n      console.debug(\"Bokeh: injecting script tag for BokehJS library: \", url);\n      document.head.appendChild(element);\n    }\n  };\n\n  function inject_raw_css(css) {\n    const element = document.createElement(\"style\");\n    element.appendChild(document.createTextNode(css));\n    document.body.appendChild(element);\n  }\n\n  \n  var js_urls = [\"https://cdn.bokeh.org/bokeh/release/bokeh-2.3.2.min.js\", \"https://cdn.bokeh.org/bokeh/release/bokeh-widgets-2.3.2.min.js\", \"https://cdn.bokeh.org/bokeh/release/bokeh-tables-2.3.2.min.js\"];\n  var css_urls = [];\n  \n\n  var inline_js = [\n    function(Bokeh) {\n      Bokeh.set_log_level(\"info\");\n    },\n    function(Bokeh) {\n    \n    \n    }\n  ];\n\n  function run_inline_js() {\n    \n    if (root.Bokeh !== undefined || force === true) {\n      \n    for (var i = 0; i < inline_js.length; i++) {\n      inline_js[i].call(root, root.Bokeh);\n    }\n    } else if (Date.now() < root._bokeh_timeout) {\n      setTimeout(run_inline_js, 100);\n    } else if (!root._bokeh_failed_load) {\n      console.log(\"Bokeh: BokehJS failed to load within specified timeout.\");\n      root._bokeh_failed_load = true;\n    } else if (force !== true) {\n      var cell = $(document.getElementById(null)).parents('.cell').data().cell;\n      cell.output_area.append_execute_result(NB_LOAD_WARNING)\n    }\n\n  }\n\n  if (root._bokeh_is_loading === 0) {\n    console.debug(\"Bokeh: BokehJS loaded, going straight to plotting\");\n    run_inline_js();\n  } else {\n    load_libs(css_urls, js_urls, function() {\n      console.debug(\"Bokeh: BokehJS plotting callback run at\", now());\n      run_inline_js();\n    });\n  }\n}(window));"
          },
          "metadata": {
            "tags": []
          }
        },
        {
          "output_type": "display_data",
          "data": {
            "text/html": [
              "\n",
              "\n",
              "\n",
              "\n",
              "\n",
              "\n",
              "  <div class=\"bk-root\" id=\"deff8c76-bb2a-445d-a0cc-667a73040e37\" data-root-id=\"2652\"></div>\n"
            ]
          },
          "metadata": {
            "tags": []
          }
        },
        {
          "output_type": "display_data",
          "data": {
            "application/javascript": [
              "(function(root) {\n",
              "  function embed_document(root) {\n",
              "    \n",
              "  var docs_json = {\"c9531f0f-e138-41ae-8a13-02cb180b13e4\":{\"defs\":[],\"roots\":{\"references\":[{\"attributes\":{\"below\":[{\"id\":\"2663\"}],\"center\":[{\"id\":\"2665\"},{\"id\":\"2669\"}],\"height\":550,\"left\":[{\"id\":\"2666\"}],\"renderers\":[{\"id\":\"2674\"}],\"title\":{\"id\":\"2653\"},\"toolbar\":{\"id\":\"2670\"},\"toolbar_location\":null,\"width\":800,\"x_range\":{\"id\":\"2655\"},\"x_scale\":{\"id\":\"2659\"},\"y_range\":{\"id\":\"2657\"},\"y_scale\":{\"id\":\"2661\"}},\"id\":\"2652\",\"subtype\":\"Figure\",\"type\":\"Plot\"},{\"attributes\":{},\"id\":\"2664\",\"type\":\"CategoricalTicker\"},{\"attributes\":{},\"id\":\"2682\",\"type\":\"AllLabels\"},{\"attributes\":{},\"id\":\"2684\",\"type\":\"UnionRenderers\"},{\"attributes\":{\"source\":{\"id\":\"2671\"}},\"id\":\"2675\",\"type\":\"CDSView\"},{\"attributes\":{\"start\":0},\"id\":\"2657\",\"type\":\"DataRange1d\"},{\"attributes\":{\"formatter\":{\"id\":\"2680\"},\"major_label_policy\":{\"id\":\"2682\"},\"ticker\":{\"id\":\"2667\"}},\"id\":\"2666\",\"type\":\"LinearAxis\"},{\"attributes\":{},\"id\":\"2661\",\"type\":\"LinearScale\"},{\"attributes\":{},\"id\":\"2683\",\"type\":\"Selection\"},{\"attributes\":{\"data\":{\"top\":[\"63\",\"53\",\"66\",\"54\",\"67\",\"54\",\"68\",\"55\",\"69\"],\"x\":[\"Today\",\"Tonight\",\"Friday\",\"FridayNight\",\"Saturday\",\"SaturdayNight\",\"Sunday\",\"SundayNight\",\"Monday\"]},\"selected\":{\"id\":\"2683\"},\"selection_policy\":{\"id\":\"2684\"}},\"id\":\"2671\",\"type\":\"ColumnDataSource\"},{\"attributes\":{},\"id\":\"2679\",\"type\":\"AllLabels\"},{\"attributes\":{\"fill_alpha\":{\"value\":0.1},\"fill_color\":{\"value\":\"#1f77b4\"},\"line_alpha\":{\"value\":0.1},\"line_color\":{\"value\":\"#1f77b4\"},\"top\":{\"field\":\"top\"},\"width\":{\"value\":0.9},\"x\":{\"field\":\"x\"}},\"id\":\"2673\",\"type\":\"VBar\"},{\"attributes\":{\"data_source\":{\"id\":\"2671\"},\"glyph\":{\"id\":\"2672\"},\"hover_glyph\":null,\"muted_glyph\":null,\"nonselection_glyph\":{\"id\":\"2673\"},\"view\":{\"id\":\"2675\"}},\"id\":\"2674\",\"type\":\"GlyphRenderer\"},{\"attributes\":{\"fill_color\":{\"value\":\"#1f77b4\"},\"line_color\":{\"value\":\"#1f77b4\"},\"top\":{\"field\":\"top\"},\"width\":{\"value\":0.9},\"x\":{\"field\":\"x\"}},\"id\":\"2672\",\"type\":\"VBar\"},{\"attributes\":{},\"id\":\"2677\",\"type\":\"CategoricalTickFormatter\"},{\"attributes\":{\"formatter\":{\"id\":\"2677\"},\"major_label_orientation\":1.5707963267948966,\"major_label_policy\":{\"id\":\"2679\"},\"ticker\":{\"id\":\"2664\"}},\"id\":\"2663\",\"type\":\"CategoricalAxis\"},{\"attributes\":{},\"id\":\"2659\",\"type\":\"CategoricalScale\"},{\"attributes\":{},\"id\":\"2667\",\"type\":\"BasicTicker\"},{\"attributes\":{\"axis\":{\"id\":\"2663\"},\"grid_line_color\":null,\"ticker\":null},\"id\":\"2665\",\"type\":\"Grid\"},{\"attributes\":{\"factors\":[\"Today\",\"Tonight\",\"Friday\",\"FridayNight\",\"Saturday\",\"SaturdayNight\",\"Sunday\",\"SundayNight\",\"Monday\"]},\"id\":\"2655\",\"type\":\"FactorRange\"},{\"attributes\":{\"text\":\"Time_period with the Highest Temperatures\"},\"id\":\"2653\",\"type\":\"Title\"},{\"attributes\":{\"axis\":{\"id\":\"2666\"},\"dimension\":1,\"ticker\":null},\"id\":\"2669\",\"type\":\"Grid\"},{\"attributes\":{},\"id\":\"2680\",\"type\":\"BasicTickFormatter\"},{\"attributes\":{\"active_multi\":null},\"id\":\"2670\",\"type\":\"Toolbar\"}],\"root_ids\":[\"2652\"]},\"title\":\"Bokeh Application\",\"version\":\"2.3.2\"}};\n",
              "  var render_items = [{\"docid\":\"c9531f0f-e138-41ae-8a13-02cb180b13e4\",\"root_ids\":[\"2652\"],\"roots\":{\"2652\":\"deff8c76-bb2a-445d-a0cc-667a73040e37\"}}];\n",
              "  root.Bokeh.embed.embed_items_notebook(docs_json, render_items);\n",
              "\n",
              "  }\n",
              "  if (root.Bokeh !== undefined) {\n",
              "    embed_document(root);\n",
              "  } else {\n",
              "    var attempts = 0;\n",
              "    var timer = setInterval(function(root) {\n",
              "      if (root.Bokeh !== undefined) {\n",
              "        clearInterval(timer);\n",
              "        embed_document(root);\n",
              "      } else {\n",
              "        attempts++;\n",
              "        if (attempts > 100) {\n",
              "          clearInterval(timer);\n",
              "          console.log(\"Bokeh: ERROR: Unable to run BokehJS code because BokehJS library is missing\");\n",
              "        }\n",
              "      }\n",
              "    }, 10, root)\n",
              "  }\n",
              "})(window);"
            ],
            "application/vnd.bokehjs_exec.v0+json": ""
          },
          "metadata": {
            "tags": [],
            "application/vnd.bokehjs_exec.v0+json": {
              "id": "2652"
            }
          }
        }
      ]
    },
    {
      "cell_type": "markdown",
      "metadata": {
        "id": "Kvm8wjYklu21"
      },
      "source": [
        "#Plot to visualize the Time periods with the Highest Temperatures where Temperature greater than 55 F:"
      ]
    },
    {
      "cell_type": "code",
      "metadata": {
        "colab": {
          "base_uri": "https://localhost:8080/",
          "height": 206
        },
        "id": "4Dxiuvg6lgTy",
        "outputId": "8cfc83ad-3b83-400a-a16a-4ec206d3db44"
      },
      "source": [
        "data1 = wforecast[wforecast['Temp_nmr'] > 55]\n",
        "data1 = data1.sort_values(['Time_period'],axis=0, ascending=False)[:15]\n",
        "data1"
      ],
      "execution_count": 720,
      "outputs": [
        {
          "output_type": "execute_result",
          "data": {
            "text/html": [
              "<div>\n",
              "<style scoped>\n",
              "    .dataframe tbody tr th:only-of-type {\n",
              "        vertical-align: middle;\n",
              "    }\n",
              "\n",
              "    .dataframe tbody tr th {\n",
              "        vertical-align: top;\n",
              "    }\n",
              "\n",
              "    .dataframe thead th {\n",
              "        text-align: right;\n",
              "    }\n",
              "</style>\n",
              "<table border=\"1\" class=\"dataframe\">\n",
              "  <thead>\n",
              "    <tr style=\"text-align: right;\">\n",
              "      <th></th>\n",
              "      <th>Time_period</th>\n",
              "      <th>Short_desc</th>\n",
              "      <th>Temperature</th>\n",
              "      <th>Description_wc</th>\n",
              "      <th>Temp_nmr</th>\n",
              "      <th>is_nyt</th>\n",
              "    </tr>\n",
              "  </thead>\n",
              "  <tbody>\n",
              "    <tr>\n",
              "      <th>0</th>\n",
              "      <td>Today</td>\n",
              "      <td>Mostly Cloudythen MostlySunny andBreezy</td>\n",
              "      <td>63</td>\n",
              "      <td>Today: Cloudy, then gradually becoming mostly ...</td>\n",
              "      <td>63</td>\n",
              "      <td>False</td>\n",
              "    </tr>\n",
              "    <tr>\n",
              "      <th>6</th>\n",
              "      <td>Sunday</td>\n",
              "      <td>Mostly Sunny</td>\n",
              "      <td>68</td>\n",
              "      <td>Sunday: Mostly sunny, with a high near 68.</td>\n",
              "      <td>68</td>\n",
              "      <td>False</td>\n",
              "    </tr>\n",
              "    <tr>\n",
              "      <th>4</th>\n",
              "      <td>Saturday</td>\n",
              "      <td>Mostly Sunny</td>\n",
              "      <td>67</td>\n",
              "      <td>Saturday: Mostly sunny, with a high near 67. S...</td>\n",
              "      <td>67</td>\n",
              "      <td>False</td>\n",
              "    </tr>\n",
              "    <tr>\n",
              "      <th>8</th>\n",
              "      <td>Monday</td>\n",
              "      <td>Mostly Sunny</td>\n",
              "      <td>69</td>\n",
              "      <td>Monday: Mostly sunny, with a high near 69.</td>\n",
              "      <td>69</td>\n",
              "      <td>False</td>\n",
              "    </tr>\n",
              "    <tr>\n",
              "      <th>2</th>\n",
              "      <td>Friday</td>\n",
              "      <td>DecreasingClouds</td>\n",
              "      <td>66</td>\n",
              "      <td>Friday: Mostly cloudy, then gradually becoming...</td>\n",
              "      <td>66</td>\n",
              "      <td>False</td>\n",
              "    </tr>\n",
              "  </tbody>\n",
              "</table>\n",
              "</div>"
            ],
            "text/plain": [
              "  Time_period                               Short_desc  ... Temp_nmr is_nyt\n",
              "0       Today  Mostly Cloudythen MostlySunny andBreezy  ...       63  False\n",
              "6      Sunday                             Mostly Sunny  ...       68  False\n",
              "4    Saturday                             Mostly Sunny  ...       67  False\n",
              "8      Monday                             Mostly Sunny  ...       69  False\n",
              "2      Friday                         DecreasingClouds  ...       66  False\n",
              "\n",
              "[5 rows x 6 columns]"
            ]
          },
          "metadata": {
            "tags": []
          },
          "execution_count": 720
        }
      ]
    },
    {
      "cell_type": "code",
      "metadata": {
        "colab": {
          "base_uri": "https://localhost:8080/",
          "height": 617
        },
        "id": "nO24DUDAlgWZ",
        "outputId": "d1abbc69-897b-4af7-e728-060cdd615a26"
      },
      "source": [
        "p = figure(x_range=data1.iloc[:,0], plot_width=800, plot_height=600, title=\"Time periods with the Highest Temperatures where Temperature greater than 55 F\", toolbar_location=None, tools=\"\")\n",
        "\n",
        "p.vbar(x=data1.iloc[:,0], top=data1.iloc[:,2], width=0.9)\n",
        "\n",
        "p.xgrid.grid_line_color = None\n",
        "p.y_range.start = 0\n",
        "p.xaxis.major_label_orientation = math.pi/2\n",
        "\n",
        "show(p)"
      ],
      "execution_count": 721,
      "outputs": [
        {
          "output_type": "display_data",
          "data": {
            "application/javascript": [
              "\n",
              "(function(root) {\n",
              "  function now() {\n",
              "    return new Date();\n",
              "  }\n",
              "\n",
              "  var force = true;\n",
              "\n",
              "  if (typeof root._bokeh_onload_callbacks === \"undefined\" || force === true) {\n",
              "    root._bokeh_onload_callbacks = [];\n",
              "    root._bokeh_is_loading = undefined;\n",
              "  }\n",
              "\n",
              "  var JS_MIME_TYPE = 'application/javascript';\n",
              "  var HTML_MIME_TYPE = 'text/html';\n",
              "  var EXEC_MIME_TYPE = 'application/vnd.bokehjs_exec.v0+json';\n",
              "  var CLASS_NAME = 'output_bokeh rendered_html';\n",
              "\n",
              "  /**\n",
              "   * Render data to the DOM node\n",
              "   */\n",
              "  function render(props, node) {\n",
              "    var script = document.createElement(\"script\");\n",
              "    node.appendChild(script);\n",
              "  }\n",
              "\n",
              "  /**\n",
              "   * Handle when an output is cleared or removed\n",
              "   */\n",
              "  function handleClearOutput(event, handle) {\n",
              "    var cell = handle.cell;\n",
              "\n",
              "    var id = cell.output_area._bokeh_element_id;\n",
              "    var server_id = cell.output_area._bokeh_server_id;\n",
              "    // Clean up Bokeh references\n",
              "    if (id != null && id in Bokeh.index) {\n",
              "      Bokeh.index[id].model.document.clear();\n",
              "      delete Bokeh.index[id];\n",
              "    }\n",
              "\n",
              "    if (server_id !== undefined) {\n",
              "      // Clean up Bokeh references\n",
              "      var cmd = \"from bokeh.io.state import curstate; print(curstate().uuid_to_server['\" + server_id + \"'].get_sessions()[0].document.roots[0]._id)\";\n",
              "      cell.notebook.kernel.execute(cmd, {\n",
              "        iopub: {\n",
              "          output: function(msg) {\n",
              "            var id = msg.content.text.trim();\n",
              "            if (id in Bokeh.index) {\n",
              "              Bokeh.index[id].model.document.clear();\n",
              "              delete Bokeh.index[id];\n",
              "            }\n",
              "          }\n",
              "        }\n",
              "      });\n",
              "      // Destroy server and session\n",
              "      var cmd = \"import bokeh.io.notebook as ion; ion.destroy_server('\" + server_id + \"')\";\n",
              "      cell.notebook.kernel.execute(cmd);\n",
              "    }\n",
              "  }\n",
              "\n",
              "  /**\n",
              "   * Handle when a new output is added\n",
              "   */\n",
              "  function handleAddOutput(event, handle) {\n",
              "    var output_area = handle.output_area;\n",
              "    var output = handle.output;\n",
              "\n",
              "    // limit handleAddOutput to display_data with EXEC_MIME_TYPE content only\n",
              "    if ((output.output_type != \"display_data\") || (!Object.prototype.hasOwnProperty.call(output.data, EXEC_MIME_TYPE))) {\n",
              "      return\n",
              "    }\n",
              "\n",
              "    var toinsert = output_area.element.find(\".\" + CLASS_NAME.split(' ')[0]);\n",
              "\n",
              "    if (output.metadata[EXEC_MIME_TYPE][\"id\"] !== undefined) {\n",
              "      toinsert[toinsert.length - 1].firstChild.textContent = output.data[JS_MIME_TYPE];\n",
              "      // store reference to embed id on output_area\n",
              "      output_area._bokeh_element_id = output.metadata[EXEC_MIME_TYPE][\"id\"];\n",
              "    }\n",
              "    if (output.metadata[EXEC_MIME_TYPE][\"server_id\"] !== undefined) {\n",
              "      var bk_div = document.createElement(\"div\");\n",
              "      bk_div.innerHTML = output.data[HTML_MIME_TYPE];\n",
              "      var script_attrs = bk_div.children[0].attributes;\n",
              "      for (var i = 0; i < script_attrs.length; i++) {\n",
              "        toinsert[toinsert.length - 1].firstChild.setAttribute(script_attrs[i].name, script_attrs[i].value);\n",
              "        toinsert[toinsert.length - 1].firstChild.textContent = bk_div.children[0].textContent\n",
              "      }\n",
              "      // store reference to server id on output_area\n",
              "      output_area._bokeh_server_id = output.metadata[EXEC_MIME_TYPE][\"server_id\"];\n",
              "    }\n",
              "  }\n",
              "\n",
              "  function register_renderer(events, OutputArea) {\n",
              "\n",
              "    function append_mime(data, metadata, element) {\n",
              "      // create a DOM node to render to\n",
              "      var toinsert = this.create_output_subarea(\n",
              "        metadata,\n",
              "        CLASS_NAME,\n",
              "        EXEC_MIME_TYPE\n",
              "      );\n",
              "      this.keyboard_manager.register_events(toinsert);\n",
              "      // Render to node\n",
              "      var props = {data: data, metadata: metadata[EXEC_MIME_TYPE]};\n",
              "      render(props, toinsert[toinsert.length - 1]);\n",
              "      element.append(toinsert);\n",
              "      return toinsert\n",
              "    }\n",
              "\n",
              "    /* Handle when an output is cleared or removed */\n",
              "    events.on('clear_output.CodeCell', handleClearOutput);\n",
              "    events.on('delete.Cell', handleClearOutput);\n",
              "\n",
              "    /* Handle when a new output is added */\n",
              "    events.on('output_added.OutputArea', handleAddOutput);\n",
              "\n",
              "    /**\n",
              "     * Register the mime type and append_mime function with output_area\n",
              "     */\n",
              "    OutputArea.prototype.register_mime_type(EXEC_MIME_TYPE, append_mime, {\n",
              "      /* Is output safe? */\n",
              "      safe: true,\n",
              "      /* Index of renderer in `output_area.display_order` */\n",
              "      index: 0\n",
              "    });\n",
              "  }\n",
              "\n",
              "  // register the mime type if in Jupyter Notebook environment and previously unregistered\n",
              "  if (root.Jupyter !== undefined) {\n",
              "    var events = require('base/js/events');\n",
              "    var OutputArea = require('notebook/js/outputarea').OutputArea;\n",
              "\n",
              "    if (OutputArea.prototype.mime_types().indexOf(EXEC_MIME_TYPE) == -1) {\n",
              "      register_renderer(events, OutputArea);\n",
              "    }\n",
              "  }\n",
              "\n",
              "  \n",
              "  if (typeof (root._bokeh_timeout) === \"undefined\" || force === true) {\n",
              "    root._bokeh_timeout = Date.now() + 5000;\n",
              "    root._bokeh_failed_load = false;\n",
              "  }\n",
              "\n",
              "  var NB_LOAD_WARNING = {'data': {'text/html':\n",
              "     \"<div style='background-color: #fdd'>\\n\"+\n",
              "     \"<p>\\n\"+\n",
              "     \"BokehJS does not appear to have successfully loaded. If loading BokehJS from CDN, this \\n\"+\n",
              "     \"may be due to a slow or bad network connection. Possible fixes:\\n\"+\n",
              "     \"</p>\\n\"+\n",
              "     \"<ul>\\n\"+\n",
              "     \"<li>re-rerun `output_notebook()` to attempt to load from CDN again, or</li>\\n\"+\n",
              "     \"<li>use INLINE resources instead, as so:</li>\\n\"+\n",
              "     \"</ul>\\n\"+\n",
              "     \"<code>\\n\"+\n",
              "     \"from bokeh.resources import INLINE\\n\"+\n",
              "     \"output_notebook(resources=INLINE)\\n\"+\n",
              "     \"</code>\\n\"+\n",
              "     \"</div>\"}};\n",
              "\n",
              "  function display_loaded() {\n",
              "    var el = document.getElementById(null);\n",
              "    if (el != null) {\n",
              "      el.textContent = \"BokehJS is loading...\";\n",
              "    }\n",
              "    if (root.Bokeh !== undefined) {\n",
              "      if (el != null) {\n",
              "        el.textContent = \"BokehJS \" + root.Bokeh.version + \" successfully loaded.\";\n",
              "      }\n",
              "    } else if (Date.now() < root._bokeh_timeout) {\n",
              "      setTimeout(display_loaded, 100)\n",
              "    }\n",
              "  }\n",
              "\n",
              "\n",
              "  function run_callbacks() {\n",
              "    try {\n",
              "      root._bokeh_onload_callbacks.forEach(function(callback) {\n",
              "        if (callback != null)\n",
              "          callback();\n",
              "      });\n",
              "    } finally {\n",
              "      delete root._bokeh_onload_callbacks\n",
              "    }\n",
              "    console.debug(\"Bokeh: all callbacks have finished\");\n",
              "  }\n",
              "\n",
              "  function load_libs(css_urls, js_urls, callback) {\n",
              "    if (css_urls == null) css_urls = [];\n",
              "    if (js_urls == null) js_urls = [];\n",
              "\n",
              "    root._bokeh_onload_callbacks.push(callback);\n",
              "    if (root._bokeh_is_loading > 0) {\n",
              "      console.debug(\"Bokeh: BokehJS is being loaded, scheduling callback at\", now());\n",
              "      return null;\n",
              "    }\n",
              "    if (js_urls == null || js_urls.length === 0) {\n",
              "      run_callbacks();\n",
              "      return null;\n",
              "    }\n",
              "    console.debug(\"Bokeh: BokehJS not loaded, scheduling load and callback at\", now());\n",
              "    root._bokeh_is_loading = css_urls.length + js_urls.length;\n",
              "\n",
              "    function on_load() {\n",
              "      root._bokeh_is_loading--;\n",
              "      if (root._bokeh_is_loading === 0) {\n",
              "        console.debug(\"Bokeh: all BokehJS libraries/stylesheets loaded\");\n",
              "        run_callbacks()\n",
              "      }\n",
              "    }\n",
              "\n",
              "    function on_error(url) {\n",
              "      console.error(\"failed to load \" + url);\n",
              "    }\n",
              "\n",
              "    for (let i = 0; i < css_urls.length; i++) {\n",
              "      const url = css_urls[i];\n",
              "      const element = document.createElement(\"link\");\n",
              "      element.onload = on_load;\n",
              "      element.onerror = on_error.bind(null, url);\n",
              "      element.rel = \"stylesheet\";\n",
              "      element.type = \"text/css\";\n",
              "      element.href = url;\n",
              "      console.debug(\"Bokeh: injecting link tag for BokehJS stylesheet: \", url);\n",
              "      document.body.appendChild(element);\n",
              "    }\n",
              "\n",
              "    const hashes = {\"https://cdn.bokeh.org/bokeh/release/bokeh-2.3.2.min.js\": \"XypntL49z55iwGVUW4qsEu83zKL3XEcz0MjuGOQ9SlaaQ68X/g+k1FcioZi7oQAc\", \"https://cdn.bokeh.org/bokeh/release/bokeh-tables-2.3.2.min.js\": \"bEsM86IHGDTLCS0Zod8a8WM6Y4+lafAL/eSiyQcuPzinmWNgNO2/olUF0Z2Dkn5i\", \"https://cdn.bokeh.org/bokeh/release/bokeh-widgets-2.3.2.min.js\": \"TX0gSQTdXTTeScqxj6PVQxTiRW8DOoGVwinyi1D3kxv7wuxQ02XkOxv0xwiypcAH\"};\n",
              "\n",
              "    for (let i = 0; i < js_urls.length; i++) {\n",
              "      const url = js_urls[i];\n",
              "      const element = document.createElement('script');\n",
              "      element.onload = on_load;\n",
              "      element.onerror = on_error.bind(null, url);\n",
              "      element.async = false;\n",
              "      element.src = url;\n",
              "      if (url in hashes) {\n",
              "        element.crossOrigin = \"anonymous\";\n",
              "        element.integrity = \"sha384-\" + hashes[url];\n",
              "      }\n",
              "      console.debug(\"Bokeh: injecting script tag for BokehJS library: \", url);\n",
              "      document.head.appendChild(element);\n",
              "    }\n",
              "  };\n",
              "\n",
              "  function inject_raw_css(css) {\n",
              "    const element = document.createElement(\"style\");\n",
              "    element.appendChild(document.createTextNode(css));\n",
              "    document.body.appendChild(element);\n",
              "  }\n",
              "\n",
              "  \n",
              "  var js_urls = [\"https://cdn.bokeh.org/bokeh/release/bokeh-2.3.2.min.js\", \"https://cdn.bokeh.org/bokeh/release/bokeh-widgets-2.3.2.min.js\", \"https://cdn.bokeh.org/bokeh/release/bokeh-tables-2.3.2.min.js\"];\n",
              "  var css_urls = [];\n",
              "  \n",
              "\n",
              "  var inline_js = [\n",
              "    function(Bokeh) {\n",
              "      Bokeh.set_log_level(\"info\");\n",
              "    },\n",
              "    function(Bokeh) {\n",
              "    \n",
              "    \n",
              "    }\n",
              "  ];\n",
              "\n",
              "  function run_inline_js() {\n",
              "    \n",
              "    if (root.Bokeh !== undefined || force === true) {\n",
              "      \n",
              "    for (var i = 0; i < inline_js.length; i++) {\n",
              "      inline_js[i].call(root, root.Bokeh);\n",
              "    }\n",
              "    } else if (Date.now() < root._bokeh_timeout) {\n",
              "      setTimeout(run_inline_js, 100);\n",
              "    } else if (!root._bokeh_failed_load) {\n",
              "      console.log(\"Bokeh: BokehJS failed to load within specified timeout.\");\n",
              "      root._bokeh_failed_load = true;\n",
              "    } else if (force !== true) {\n",
              "      var cell = $(document.getElementById(null)).parents('.cell').data().cell;\n",
              "      cell.output_area.append_execute_result(NB_LOAD_WARNING)\n",
              "    }\n",
              "\n",
              "  }\n",
              "\n",
              "  if (root._bokeh_is_loading === 0) {\n",
              "    console.debug(\"Bokeh: BokehJS loaded, going straight to plotting\");\n",
              "    run_inline_js();\n",
              "  } else {\n",
              "    load_libs(css_urls, js_urls, function() {\n",
              "      console.debug(\"Bokeh: BokehJS plotting callback run at\", now());\n",
              "      run_inline_js();\n",
              "    });\n",
              "  }\n",
              "}(window));"
            ],
            "application/vnd.bokehjs_load.v0+json": "\n(function(root) {\n  function now() {\n    return new Date();\n  }\n\n  var force = true;\n\n  if (typeof root._bokeh_onload_callbacks === \"undefined\" || force === true) {\n    root._bokeh_onload_callbacks = [];\n    root._bokeh_is_loading = undefined;\n  }\n\n  \n\n  \n  if (typeof (root._bokeh_timeout) === \"undefined\" || force === true) {\n    root._bokeh_timeout = Date.now() + 5000;\n    root._bokeh_failed_load = false;\n  }\n\n  var NB_LOAD_WARNING = {'data': {'text/html':\n     \"<div style='background-color: #fdd'>\\n\"+\n     \"<p>\\n\"+\n     \"BokehJS does not appear to have successfully loaded. If loading BokehJS from CDN, this \\n\"+\n     \"may be due to a slow or bad network connection. Possible fixes:\\n\"+\n     \"</p>\\n\"+\n     \"<ul>\\n\"+\n     \"<li>re-rerun `output_notebook()` to attempt to load from CDN again, or</li>\\n\"+\n     \"<li>use INLINE resources instead, as so:</li>\\n\"+\n     \"</ul>\\n\"+\n     \"<code>\\n\"+\n     \"from bokeh.resources import INLINE\\n\"+\n     \"output_notebook(resources=INLINE)\\n\"+\n     \"</code>\\n\"+\n     \"</div>\"}};\n\n  function display_loaded() {\n    var el = document.getElementById(null);\n    if (el != null) {\n      el.textContent = \"BokehJS is loading...\";\n    }\n    if (root.Bokeh !== undefined) {\n      if (el != null) {\n        el.textContent = \"BokehJS \" + root.Bokeh.version + \" successfully loaded.\";\n      }\n    } else if (Date.now() < root._bokeh_timeout) {\n      setTimeout(display_loaded, 100)\n    }\n  }\n\n\n  function run_callbacks() {\n    try {\n      root._bokeh_onload_callbacks.forEach(function(callback) {\n        if (callback != null)\n          callback();\n      });\n    } finally {\n      delete root._bokeh_onload_callbacks\n    }\n    console.debug(\"Bokeh: all callbacks have finished\");\n  }\n\n  function load_libs(css_urls, js_urls, callback) {\n    if (css_urls == null) css_urls = [];\n    if (js_urls == null) js_urls = [];\n\n    root._bokeh_onload_callbacks.push(callback);\n    if (root._bokeh_is_loading > 0) {\n      console.debug(\"Bokeh: BokehJS is being loaded, scheduling callback at\", now());\n      return null;\n    }\n    if (js_urls == null || js_urls.length === 0) {\n      run_callbacks();\n      return null;\n    }\n    console.debug(\"Bokeh: BokehJS not loaded, scheduling load and callback at\", now());\n    root._bokeh_is_loading = css_urls.length + js_urls.length;\n\n    function on_load() {\n      root._bokeh_is_loading--;\n      if (root._bokeh_is_loading === 0) {\n        console.debug(\"Bokeh: all BokehJS libraries/stylesheets loaded\");\n        run_callbacks()\n      }\n    }\n\n    function on_error(url) {\n      console.error(\"failed to load \" + url);\n    }\n\n    for (let i = 0; i < css_urls.length; i++) {\n      const url = css_urls[i];\n      const element = document.createElement(\"link\");\n      element.onload = on_load;\n      element.onerror = on_error.bind(null, url);\n      element.rel = \"stylesheet\";\n      element.type = \"text/css\";\n      element.href = url;\n      console.debug(\"Bokeh: injecting link tag for BokehJS stylesheet: \", url);\n      document.body.appendChild(element);\n    }\n\n    const hashes = {\"https://cdn.bokeh.org/bokeh/release/bokeh-2.3.2.min.js\": \"XypntL49z55iwGVUW4qsEu83zKL3XEcz0MjuGOQ9SlaaQ68X/g+k1FcioZi7oQAc\", \"https://cdn.bokeh.org/bokeh/release/bokeh-tables-2.3.2.min.js\": \"bEsM86IHGDTLCS0Zod8a8WM6Y4+lafAL/eSiyQcuPzinmWNgNO2/olUF0Z2Dkn5i\", \"https://cdn.bokeh.org/bokeh/release/bokeh-widgets-2.3.2.min.js\": \"TX0gSQTdXTTeScqxj6PVQxTiRW8DOoGVwinyi1D3kxv7wuxQ02XkOxv0xwiypcAH\"};\n\n    for (let i = 0; i < js_urls.length; i++) {\n      const url = js_urls[i];\n      const element = document.createElement('script');\n      element.onload = on_load;\n      element.onerror = on_error.bind(null, url);\n      element.async = false;\n      element.src = url;\n      if (url in hashes) {\n        element.crossOrigin = \"anonymous\";\n        element.integrity = \"sha384-\" + hashes[url];\n      }\n      console.debug(\"Bokeh: injecting script tag for BokehJS library: \", url);\n      document.head.appendChild(element);\n    }\n  };\n\n  function inject_raw_css(css) {\n    const element = document.createElement(\"style\");\n    element.appendChild(document.createTextNode(css));\n    document.body.appendChild(element);\n  }\n\n  \n  var js_urls = [\"https://cdn.bokeh.org/bokeh/release/bokeh-2.3.2.min.js\", \"https://cdn.bokeh.org/bokeh/release/bokeh-widgets-2.3.2.min.js\", \"https://cdn.bokeh.org/bokeh/release/bokeh-tables-2.3.2.min.js\"];\n  var css_urls = [];\n  \n\n  var inline_js = [\n    function(Bokeh) {\n      Bokeh.set_log_level(\"info\");\n    },\n    function(Bokeh) {\n    \n    \n    }\n  ];\n\n  function run_inline_js() {\n    \n    if (root.Bokeh !== undefined || force === true) {\n      \n    for (var i = 0; i < inline_js.length; i++) {\n      inline_js[i].call(root, root.Bokeh);\n    }\n    } else if (Date.now() < root._bokeh_timeout) {\n      setTimeout(run_inline_js, 100);\n    } else if (!root._bokeh_failed_load) {\n      console.log(\"Bokeh: BokehJS failed to load within specified timeout.\");\n      root._bokeh_failed_load = true;\n    } else if (force !== true) {\n      var cell = $(document.getElementById(null)).parents('.cell').data().cell;\n      cell.output_area.append_execute_result(NB_LOAD_WARNING)\n    }\n\n  }\n\n  if (root._bokeh_is_loading === 0) {\n    console.debug(\"Bokeh: BokehJS loaded, going straight to plotting\");\n    run_inline_js();\n  } else {\n    load_libs(css_urls, js_urls, function() {\n      console.debug(\"Bokeh: BokehJS plotting callback run at\", now());\n      run_inline_js();\n    });\n  }\n}(window));"
          },
          "metadata": {
            "tags": []
          }
        },
        {
          "output_type": "display_data",
          "data": {
            "text/html": [
              "\n",
              "\n",
              "\n",
              "\n",
              "\n",
              "\n",
              "  <div class=\"bk-root\" id=\"ebfae2ef-9a4a-41bf-bbcf-33a264061705\" data-root-id=\"2730\"></div>\n"
            ]
          },
          "metadata": {
            "tags": []
          }
        },
        {
          "output_type": "display_data",
          "data": {
            "application/javascript": [
              "(function(root) {\n",
              "  function embed_document(root) {\n",
              "    \n",
              "  var docs_json = {\"82c4b44d-258f-4bea-8d2f-5af269d5e363\":{\"defs\":[],\"roots\":{\"references\":[{\"attributes\":{\"below\":[{\"id\":\"2741\"}],\"center\":[{\"id\":\"2743\"},{\"id\":\"2747\"}],\"left\":[{\"id\":\"2744\"}],\"renderers\":[{\"id\":\"2752\"}],\"title\":{\"id\":\"2731\"},\"toolbar\":{\"id\":\"2748\"},\"toolbar_location\":null,\"width\":800,\"x_range\":{\"id\":\"2733\"},\"x_scale\":{\"id\":\"2737\"},\"y_range\":{\"id\":\"2735\"},\"y_scale\":{\"id\":\"2739\"}},\"id\":\"2730\",\"subtype\":\"Figure\",\"type\":\"Plot\"},{\"attributes\":{\"factors\":[\"Today\",\"Sunday\",\"Saturday\",\"Monday\",\"Friday\"]},\"id\":\"2733\",\"type\":\"FactorRange\"},{\"attributes\":{},\"id\":\"2742\",\"type\":\"CategoricalTicker\"},{\"attributes\":{\"formatter\":{\"id\":\"2767\"},\"major_label_policy\":{\"id\":\"2769\"},\"ticker\":{\"id\":\"2745\"}},\"id\":\"2744\",\"type\":\"LinearAxis\"},{\"attributes\":{},\"id\":\"2769\",\"type\":\"AllLabels\"},{\"attributes\":{\"text\":\"Time periods with the Highest Temperatures where Temperature greater than 55 F\"},\"id\":\"2731\",\"type\":\"Title\"},{\"attributes\":{\"start\":0},\"id\":\"2735\",\"type\":\"DataRange1d\"},{\"attributes\":{},\"id\":\"2739\",\"type\":\"LinearScale\"},{\"attributes\":{},\"id\":\"2771\",\"type\":\"UnionRenderers\"},{\"attributes\":{\"axis\":{\"id\":\"2741\"},\"grid_line_color\":null,\"ticker\":null},\"id\":\"2743\",\"type\":\"Grid\"},{\"attributes\":{},\"id\":\"2764\",\"type\":\"CategoricalTickFormatter\"},{\"attributes\":{\"source\":{\"id\":\"2749\"}},\"id\":\"2753\",\"type\":\"CDSView\"},{\"attributes\":{\"fill_color\":{\"value\":\"#1f77b4\"},\"line_color\":{\"value\":\"#1f77b4\"},\"top\":{\"field\":\"top\"},\"width\":{\"value\":0.9},\"x\":{\"field\":\"x\"}},\"id\":\"2750\",\"type\":\"VBar\"},{\"attributes\":{},\"id\":\"2737\",\"type\":\"CategoricalScale\"},{\"attributes\":{\"axis\":{\"id\":\"2744\"},\"dimension\":1,\"ticker\":null},\"id\":\"2747\",\"type\":\"Grid\"},{\"attributes\":{},\"id\":\"2766\",\"type\":\"AllLabels\"},{\"attributes\":{},\"id\":\"2767\",\"type\":\"BasicTickFormatter\"},{\"attributes\":{\"active_multi\":null},\"id\":\"2748\",\"type\":\"Toolbar\"},{\"attributes\":{\"fill_alpha\":{\"value\":0.1},\"fill_color\":{\"value\":\"#1f77b4\"},\"line_alpha\":{\"value\":0.1},\"line_color\":{\"value\":\"#1f77b4\"},\"top\":{\"field\":\"top\"},\"width\":{\"value\":0.9},\"x\":{\"field\":\"x\"}},\"id\":\"2751\",\"type\":\"VBar\"},{\"attributes\":{\"formatter\":{\"id\":\"2764\"},\"major_label_orientation\":1.5707963267948966,\"major_label_policy\":{\"id\":\"2766\"},\"ticker\":{\"id\":\"2742\"}},\"id\":\"2741\",\"type\":\"CategoricalAxis\"},{\"attributes\":{\"data\":{\"top\":[\"63\",\"68\",\"67\",\"69\",\"66\"],\"x\":[\"Today\",\"Sunday\",\"Saturday\",\"Monday\",\"Friday\"]},\"selected\":{\"id\":\"2770\"},\"selection_policy\":{\"id\":\"2771\"}},\"id\":\"2749\",\"type\":\"ColumnDataSource\"},{\"attributes\":{},\"id\":\"2770\",\"type\":\"Selection\"},{\"attributes\":{\"data_source\":{\"id\":\"2749\"},\"glyph\":{\"id\":\"2750\"},\"hover_glyph\":null,\"muted_glyph\":null,\"nonselection_glyph\":{\"id\":\"2751\"},\"view\":{\"id\":\"2753\"}},\"id\":\"2752\",\"type\":\"GlyphRenderer\"},{\"attributes\":{},\"id\":\"2745\",\"type\":\"BasicTicker\"}],\"root_ids\":[\"2730\"]},\"title\":\"Bokeh Application\",\"version\":\"2.3.2\"}};\n",
              "  var render_items = [{\"docid\":\"82c4b44d-258f-4bea-8d2f-5af269d5e363\",\"root_ids\":[\"2730\"],\"roots\":{\"2730\":\"ebfae2ef-9a4a-41bf-bbcf-33a264061705\"}}];\n",
              "  root.Bokeh.embed.embed_items_notebook(docs_json, render_items);\n",
              "\n",
              "  }\n",
              "  if (root.Bokeh !== undefined) {\n",
              "    embed_document(root);\n",
              "  } else {\n",
              "    var attempts = 0;\n",
              "    var timer = setInterval(function(root) {\n",
              "      if (root.Bokeh !== undefined) {\n",
              "        clearInterval(timer);\n",
              "        embed_document(root);\n",
              "      } else {\n",
              "        attempts++;\n",
              "        if (attempts > 100) {\n",
              "          clearInterval(timer);\n",
              "          console.log(\"Bokeh: ERROR: Unable to run BokehJS code because BokehJS library is missing\");\n",
              "        }\n",
              "      }\n",
              "    }, 10, root)\n",
              "  }\n",
              "})(window);"
            ],
            "application/vnd.bokehjs_exec.v0+json": ""
          },
          "metadata": {
            "tags": [],
            "application/vnd.bokehjs_exec.v0+json": {
              "id": "2730"
            }
          }
        }
      ]
    },
    {
      "cell_type": "markdown",
      "metadata": {
        "id": "MbDTxE11Maec"
      },
      "source": [
        "#Plot to visualize Name VS. Age :"
      ]
    },
    {
      "cell_type": "code",
      "metadata": {
        "colab": {
          "base_uri": "https://localhost:8080/",
          "height": 326
        },
        "id": "knltqWw8lgY0",
        "outputId": "6db833c9-dd97-427e-d336-d4c04351a5a7"
      },
      "source": [
        "# importing pandas library\n",
        "import pandas as pd\n",
        "# importing matplotlib library\n",
        "import matplotlib.pyplot as plt\n",
        "\n",
        "# creating dataframe\n",
        "df = pd.DataFrame({\n",
        "\t'Name': ['John', 'Sammy', 'Joe'],\n",
        "\t'Age': [45, 38, 90]\n",
        "})\n",
        "\n",
        "# plotting a bar graph\n",
        "df.plot(x=\"Name\", y=\"Age\", kind=\"bar\")\n"
      ],
      "execution_count": 722,
      "outputs": [
        {
          "output_type": "execute_result",
          "data": {
            "text/plain": [
              "<matplotlib.axes._subplots.AxesSubplot at 0x7f7dc88e3e50>"
            ]
          },
          "metadata": {
            "tags": []
          },
          "execution_count": 722
        },
        {
          "output_type": "display_data",
          "data": {
            "image/png": "[encoded data removed]",
            "text/plain": [
              "<Figure size 432x288 with 1 Axes>"
            ]
          },
          "metadata": {
            "tags": [],
            "needs_background": "light"
          }
        }
      ]
    },
    {
      "cell_type": "code",
      "metadata": {
        "colab": {
          "base_uri": "https://localhost:8080/",
          "height": 143
        },
        "id": "jt7ZLjmTxgAA",
        "outputId": "c9944b10-d081-4733-dbd9-f12dbb69db4a"
      },
      "source": [
        "# Import pandas\n",
        "import pandas as pd\n",
        "# Load csv\n",
        "#df1 = pd.read_csv(\"Bev_nm.csv\")\n",
        "#Read a CSV File\n",
        "df2.head(3)"
      ],
      "execution_count": 723,
      "outputs": [
        {
          "output_type": "execute_result",
          "data": {
            "text/html": [
              "<div>\n",
              "<style scoped>\n",
              "    .dataframe tbody tr th:only-of-type {\n",
              "        vertical-align: middle;\n",
              "    }\n",
              "\n",
              "    .dataframe tbody tr th {\n",
              "        vertical-align: top;\n",
              "    }\n",
              "\n",
              "    .dataframe thead th {\n",
              "        text-align: right;\n",
              "    }\n",
              "</style>\n",
              "<table border=\"1\" class=\"dataframe\">\n",
              "  <thead>\n",
              "    <tr style=\"text-align: right;\">\n",
              "      <th></th>\n",
              "      <th>Name</th>\n",
              "      <th>Potassium</th>\n",
              "      <th>Sodium</th>\n",
              "      <th>Caffeine</th>\n",
              "      <th>Cost</th>\n",
              "    </tr>\n",
              "  </thead>\n",
              "  <tbody>\n",
              "    <tr>\n",
              "      <th>0</th>\n",
              "      <td>new_england_coffee</td>\n",
              "      <td>144</td>\n",
              "      <td>15</td>\n",
              "      <td>4.7</td>\n",
              "      <td>0.43</td>\n",
              "    </tr>\n",
              "    <tr>\n",
              "      <th>1</th>\n",
              "      <td>post_alley_blend</td>\n",
              "      <td>151</td>\n",
              "      <td>19</td>\n",
              "      <td>4.9</td>\n",
              "      <td>0.43</td>\n",
              "    </tr>\n",
              "    <tr>\n",
              "      <th>2</th>\n",
              "      <td>stumpdown_coffee</td>\n",
              "      <td>157</td>\n",
              "      <td>15</td>\n",
              "      <td>0.9</td>\n",
              "      <td>0.48</td>\n",
              "    </tr>\n",
              "  </tbody>\n",
              "</table>\n",
              "</div>"
            ],
            "text/plain": [
              "                 Name  Potassium  Sodium  Caffeine  Cost\n",
              "0  new_england_coffee        144      15       4.7  0.43\n",
              "1    post_alley_blend        151      19       4.9  0.43\n",
              "2    stumpdown_coffee        157      15       0.9  0.48"
            ]
          },
          "metadata": {
            "tags": []
          },
          "execution_count": 723
        }
      ]
    },
    {
      "cell_type": "markdown",
      "metadata": {
        "id": "CLKKvN8pyezW"
      },
      "source": [
        "#Scatter Plot of Pottasium VS. Sodium Content for Beverage dataset Bev_nm.csv :"
      ]
    },
    {
      "cell_type": "code",
      "metadata": {
        "colab": {
          "base_uri": "https://localhost:8080/",
          "height": 300
        },
        "id": "K9AxUeBoxsGQ",
        "outputId": "abf1c578-5ac1-4994-8841-4f5bb8532d86"
      },
      "source": [
        "import matplotlib.pyplot as plt\n",
        "\n",
        "plt.scatter(df2['Potassium'], df2['Sodium'], color='green')\n",
        "plt.title('Potassium Vs Sodium', fontsize=14)\n",
        "plt.xlabel('Potassium', fontsize=14)\n",
        "plt.ylabel('Sodium', fontsize=14)\n",
        "plt.grid(True)\n",
        "plt.show()\n"
      ],
      "execution_count": 724,
      "outputs": [
        {
          "output_type": "display_data",
          "data": {
            "image/png": "[encoded data removed]",
            "text/plain": [
              "<Figure size 432x288 with 1 Axes>"
            ]
          },
          "metadata": {
            "tags": [],
            "needs_background": "light"
          }
        }
      ]
    },
    {
      "cell_type": "markdown",
      "metadata": {
        "id": "6NSlnuAIyupZ"
      },
      "source": [
        "#Scatter Plot of Caffeine VS Cost for Beverage dataset Bev_nm.csv :"
      ]
    },
    {
      "cell_type": "code",
      "metadata": {
        "colab": {
          "base_uri": "https://localhost:8080/",
          "height": 300
        },
        "id": "Ir-J3hXAx6_m",
        "outputId": "a8937e9b-a163-46c6-bffb-4ba224e3a070"
      },
      "source": [
        "import matplotlib.pyplot as plt\n",
        "\n",
        "plt.scatter(df2['Caffeine'], df2['Cost'], color='red')\n",
        "plt.title('Caffeine Vs Cost', fontsize=14)\n",
        "plt.xlabel('Caffeine', fontsize=14)\n",
        "plt.ylabel('Cost', fontsize=14)\n",
        "plt.grid(True)\n",
        "plt.show()"
      ],
      "execution_count": 725,
      "outputs": [
        {
          "output_type": "display_data",
          "data": {
            "image/png": "[encoded data removed]",
            "text/plain": [
              "<Figure size 432x288 with 1 Axes>"
            ]
          },
          "metadata": {
            "tags": [],
            "needs_background": "light"
          }
        }
      ]
    },
    {
      "cell_type": "code",
      "metadata": {
        "id": "VkhAYbGtzFNr"
      },
      "source": [
        ""
      ],
      "execution_count": 725,
      "outputs": []
    },
    {
      "cell_type": "markdown",
      "metadata": {
        "id": "4bOm5FOuaF6J"
      },
      "source": [
        "#4.\t**Using Python computing environment, Demonstrate the Tensor application with an example**"
      ]
    },
    {
      "cell_type": "code",
      "metadata": {
        "colab": {
          "base_uri": "https://localhost:8080/"
        },
        "id": "8ErCMi_Ya0Ts",
        "outputId": "307a60ea-ed44-4dee-d0ac-b58e7583fdbb"
      },
      "source": [
        "import tensorflow as tf\n",
        "import numpy as np\n",
        "tensor1 = tf.constant([\n",
        "  [[0, 1, 2, 3, 4],\n",
        "   [5, 6, 7, 8, 9]],\n",
        "  [[10, 11, 12, 13, 14],\n",
        "   [15, 16, 17, 18, 19]],\n",
        "  [[20, 21, 22, 23, 24],\n",
        "   [25, 26, 27, 28, 29]],])\n",
        "print(tensor1)"
      ],
      "execution_count": 726,
      "outputs": [
        {
          "output_type": "stream",
          "text": [
            "tf.Tensor(\n",
            "[[[ 0  1  2  3  4]\n",
            "  [ 5  6  7  8  9]]\n",
            "\n",
            " [[10 11 12 13 14]\n",
            "  [15 16 17 18 19]]\n",
            "\n",
            " [[20 21 22 23 24]\n",
            "  [25 26 27 28 29]]], shape=(3, 2, 5), dtype=int32)\n"
          ],
          "name": "stdout"
        }
      ]
    },
    {
      "cell_type": "markdown",
      "metadata": {
        "id": "2FI5ZzX2NYDf"
      },
      "source": [
        "#To create tensor"
      ]
    },
    {
      "cell_type": "code",
      "metadata": {
        "colab": {
          "base_uri": "https://localhost:8080/"
        },
        "id": "k4SmvmqMlgbd",
        "outputId": "424f9256-386e-443d-d15c-0d8547b08d28"
      },
      "source": [
        "from numpy import array\n",
        "\n",
        "T = array([\n",
        "  [[1,2,3],    [4,5,6],    [7,8,9]],\n",
        "  [[11,12,13], [14,15,16], [17,18,19]],\n",
        "  [[21,22,23], [24,25,26], [27,28,29]],\n",
        "  ])\n",
        "\n",
        "print(T.shape)\n",
        "print(T)"
      ],
      "execution_count": 727,
      "outputs": [
        {
          "output_type": "stream",
          "text": [
            "(3, 3, 3)\n",
            "[[[ 1  2  3]\n",
            "  [ 4  5  6]\n",
            "  [ 7  8  9]]\n",
            "\n",
            " [[11 12 13]\n",
            "  [14 15 16]\n",
            "  [17 18 19]]\n",
            "\n",
            " [[21 22 23]\n",
            "  [24 25 26]\n",
            "  [27 28 29]]]\n"
          ],
          "name": "stdout"
        }
      ]
    },
    {
      "cell_type": "markdown",
      "metadata": {
        "id": "AxvfmFYTbD1d"
      },
      "source": [
        "#Element-Wise Tensor Operations :\n"
      ]
    },
    {
      "cell_type": "code",
      "metadata": {
        "colab": {
          "base_uri": "https://localhost:8080/"
        },
        "id": "QISlR_UPlgeO",
        "outputId": "14deef46-fabc-431f-be78-ec0dd2ce23af"
      },
      "source": [
        "# Tensor Addition\n",
        "from numpy import array\n",
        "A = array([\n",
        "  [[1,2,3],    [4,5,6],    [7,8,9]],\n",
        "  [[11,12,13], [14,15,16], [17,18,19]],\n",
        "  [[21,22,23], [24,25,26], [27,28,29]],\n",
        "  ])\n",
        "B = array([\n",
        "  [[1,2,3],    [4,5,6],    [7,8,9]],\n",
        "  [[11,12,13], [14,15,16], [17,18,19]],\n",
        "  [[21,22,23], [24,25,26], [27,28,29]],\n",
        "  ])\n",
        "C = A + B\n",
        "print(C)"
      ],
      "execution_count": 728,
      "outputs": [
        {
          "output_type": "stream",
          "text": [
            "[[[ 2  4  6]\n",
            "  [ 8 10 12]\n",
            "  [14 16 18]]\n",
            "\n",
            " [[22 24 26]\n",
            "  [28 30 32]\n",
            "  [34 36 38]]\n",
            "\n",
            " [[42 44 46]\n",
            "  [48 50 52]\n",
            "  [54 56 58]]]\n"
          ],
          "name": "stdout"
        }
      ]
    },
    {
      "cell_type": "code",
      "metadata": {
        "colab": {
          "base_uri": "https://localhost:8080/"
        },
        "id": "rfKU4n0ulggU",
        "outputId": "62cb7273-94ea-4a62-a748-a6c42de70f8d"
      },
      "source": [
        "# Tensor Subtraction\n",
        "from numpy import array\n",
        "A = array([\n",
        "  [[1,2,3],    [4,5,6],    [7,8,9]],\n",
        "  [[11,12,13], [14,15,16], [17,18,19]],\n",
        "  [[21,22,23], [24,25,26], [27,28,29]],\n",
        "  ])\n",
        "B = array([\n",
        "  [[1,2,3],    [4,5,6],    [7,8,9]],\n",
        "  [[11,12,13], [14,15,16], [17,18,19]],\n",
        "  [[21,22,23], [24,25,26], [27,28,29]],\n",
        "  ])\n",
        "C = A - B\n",
        "print(C)"
      ],
      "execution_count": 729,
      "outputs": [
        {
          "output_type": "stream",
          "text": [
            "[[[0 0 0]\n",
            "  [0 0 0]\n",
            "  [0 0 0]]\n",
            "\n",
            " [[0 0 0]\n",
            "  [0 0 0]\n",
            "  [0 0 0]]\n",
            "\n",
            " [[0 0 0]\n",
            "  [0 0 0]\n",
            "  [0 0 0]]]\n"
          ],
          "name": "stdout"
        }
      ]
    },
    {
      "cell_type": "code",
      "metadata": {
        "colab": {
          "base_uri": "https://localhost:8080/"
        },
        "id": "fv6jnNWTbpm1",
        "outputId": "4dc9222d-7c66-4315-c246-70402d6feb98"
      },
      "source": [
        "# Tensor Product\n",
        "# tensor Hadamard product\n",
        "from numpy import array\n",
        "A = array([\n",
        "  [[1,2,3],    [4,5,6],    [7,8,9]],\n",
        "  [[11,12,13], [14,15,16], [17,18,19]],\n",
        "  [[21,22,23], [24,25,26], [27,28,29]],\n",
        "  ])\n",
        "B = array([\n",
        "  [[1,2,3],    [4,5,6],    [7,8,9]],\n",
        "  [[11,12,13], [14,15,16], [17,18,19]],\n",
        "  [[21,22,23], [24,25,26], [27,28,29]],\n",
        "  ])\n",
        "C = A * B\n",
        "print(C)"
      ],
      "execution_count": 730,
      "outputs": [
        {
          "output_type": "stream",
          "text": [
            "[[[  1   4   9]\n",
            "  [ 16  25  36]\n",
            "  [ 49  64  81]]\n",
            "\n",
            " [[121 144 169]\n",
            "  [196 225 256]\n",
            "  [289 324 361]]\n",
            "\n",
            " [[441 484 529]\n",
            "  [576 625 676]\n",
            "  [729 784 841]]]\n"
          ],
          "name": "stdout"
        }
      ]
    },
    {
      "cell_type": "code",
      "metadata": {
        "colab": {
          "base_uri": "https://localhost:8080/"
        },
        "id": "kP5ktmnaOaKQ",
        "outputId": "6d149537-0d74-46a0-8eb4-33e6a4efc7ff"
      },
      "source": [
        "from numpy import array\n",
        "from numpy import tensordot\n",
        "A = array([1,2])\n",
        "B = array([3,4])\n",
        "C = tensordot(A, B, axes=0)\n",
        "print(C)"
      ],
      "execution_count": 731,
      "outputs": [
        {
          "output_type": "stream",
          "text": [
            "[[3 4]\n",
            " [6 8]]\n"
          ],
          "name": "stdout"
        }
      ]
    },
    {
      "cell_type": "code",
      "metadata": {
        "colab": {
          "base_uri": "https://localhost:8080/"
        },
        "id": "2HRL1lCVbpp4",
        "outputId": "ec8d533a-d4b0-4caa-e426-682c0a8e3953"
      },
      "source": [
        "# Tensor Division\n",
        "from numpy import array\n",
        "A = array([\n",
        "  [[1,2,3],    [4,5,6],    [7,8,9]],\n",
        "  [[11,12,13], [14,15,16], [17,18,19]],\n",
        "  [[21,22,23], [24,25,26], [27,28,29]],\n",
        "  ])\n",
        "B = array([\n",
        "  [[1,2,3],    [4,5,6],    [7,8,9]],\n",
        "  [[11,12,13], [14,15,16], [17,18,19]],\n",
        "  [[21,22,23], [24,25,26], [27,28,29]],\n",
        "  ])\n",
        "C = A / B\n",
        "print(C)"
      ],
      "execution_count": 732,
      "outputs": [
        {
          "output_type": "stream",
          "text": [
            "[[[1. 1. 1.]\n",
            "  [1. 1. 1.]\n",
            "  [1. 1. 1.]]\n",
            "\n",
            " [[1. 1. 1.]\n",
            "  [1. 1. 1.]\n",
            "  [1. 1. 1.]]\n",
            "\n",
            " [[1. 1. 1.]\n",
            "  [1. 1. 1.]\n",
            "  [1. 1. 1.]]]\n"
          ],
          "name": "stdout"
        }
      ]
    },
    {
      "cell_type": "code",
      "metadata": {
        "id": "GqIByUi_05vp"
      },
      "source": [
        ""
      ],
      "execution_count": 732,
      "outputs": []
    },
    {
      "cell_type": "markdown",
      "metadata": {
        "id": "ODsPk9OB1GoX"
      },
      "source": [
        "#**Computing Eigenvalues & Eigenvectors in Python**"
      ]
    },
    {
      "cell_type": "code",
      "metadata": {
        "id": "DHhB4txCbpvV"
      },
      "source": [
        "import numpy as np\n",
        "from sklearn.preprocessing import StandardScaler\n",
        "from numpy.linalg import eig\n",
        "\n",
        "#Numpy array : students , containing Percentage of marks and no. of hours studied\n",
        "students = np.array([[85.4, 5],\n",
        "            [82.3, 6],\n",
        "            [97, 7],\n",
        "            [96.5, 6.5]])\n",
        "\n",
        "# Scaling the features\n",
        "sc = StandardScaler()\n",
        "students_scaled = sc.fit_transform(students)\n"
      ],
      "execution_count": 733,
      "outputs": []
    },
    {
      "cell_type": "code",
      "metadata": {
        "id": "lprPyTZgbpyX"
      },
      "source": [
        "# Calculate covariance matrix :\n",
        "cov_matrix = np.cov(students_scaled.T)\n",
        "\n",
        "# Calculate Eigenvalues and Eigenmatrix\n",
        "eigenvalues, eigenvectors = eig(cov_matrix)"
      ],
      "execution_count": 734,
      "outputs": []
    },
    {
      "cell_type": "markdown",
      "metadata": {
        "id": "v1aRdoeh4ZEa"
      },
      "source": [
        "#Eigenvalues :"
      ]
    },
    {
      "cell_type": "code",
      "metadata": {
        "colab": {
          "base_uri": "https://localhost:8080/"
        },
        "id": "0p6m_vZLbp01",
        "outputId": "362c7366-b99c-49b1-d4df-236d9a99f163"
      },
      "source": [
        "eigenvalues"
      ],
      "execution_count": 735,
      "outputs": [
        {
          "output_type": "execute_result",
          "data": {
            "text/plain": [
              "array([2.34573455, 0.32093211])"
            ]
          },
          "metadata": {
            "tags": []
          },
          "execution_count": 735
        }
      ]
    },
    {
      "cell_type": "markdown",
      "metadata": {
        "id": "lbRe2Gtq4d0j"
      },
      "source": [
        "#Eigenvectors :"
      ]
    },
    {
      "cell_type": "code",
      "metadata": {
        "colab": {
          "base_uri": "https://localhost:8080/"
        },
        "id": "uuCII37xbp3V",
        "outputId": "2f63a653-ee1a-45a2-d9db-80c28e30b74e"
      },
      "source": [
        "eigenvectors"
      ],
      "execution_count": 736,
      "outputs": [
        {
          "output_type": "execute_result",
          "data": {
            "text/plain": [
              "array([[ 0.70710678, -0.70710678],\n",
              "       [ 0.70710678,  0.70710678]])"
            ]
          },
          "metadata": {
            "tags": []
          },
          "execution_count": 736
        }
      ]
    },
    {
      "cell_type": "markdown",
      "metadata": {
        "id": "eXwWcqka5PQ1"
      },
      "source": [
        "#Compairing LHS and RHS of Ax=λx (where A represents the transformation matrix , x represents eigenvectors and λ represents eigenvalues ) to check the correctness of above computed EigenValues and EigenVectors ;"
      ]
    },
    {
      "cell_type": "code",
      "metadata": {
        "colab": {
          "base_uri": "https://localhost:8080/"
        },
        "id": "pbbEmlHv4eZ5",
        "outputId": "f0ab3c16-38b8-412d-d31f-c91c5b25a3c1"
      },
      "source": [
        "# LHS\n",
        "cov_matrix.dot(eigenvectors[:, 0])\n"
      ],
      "execution_count": 737,
      "outputs": [
        {
          "output_type": "execute_result",
          "data": {
            "text/plain": [
              "array([1.65868481, 1.65868481])"
            ]
          },
          "metadata": {
            "tags": []
          },
          "execution_count": 737
        }
      ]
    },
    {
      "cell_type": "code",
      "metadata": {
        "colab": {
          "base_uri": "https://localhost:8080/"
        },
        "id": "IILHmgQZ4ehI",
        "outputId": "ffe8b157-c53d-4639-b491-4db24cb0a4e1"
      },
      "source": [
        "# RHS\n",
        "eigenvalues[0]*eigenvectors[:, 0]"
      ],
      "execution_count": 738,
      "outputs": [
        {
          "output_type": "execute_result",
          "data": {
            "text/plain": [
              "array([1.65868481, 1.65868481])"
            ]
          },
          "metadata": {
            "tags": []
          },
          "execution_count": 738
        }
      ]
    },
    {
      "cell_type": "code",
      "metadata": {
        "id": "K5_VGUNK4ej7"
      },
      "source": [
        ""
      ],
      "execution_count": 738,
      "outputs": []
    }
  ]
}